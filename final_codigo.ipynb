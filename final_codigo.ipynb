{
  "nbformat": 4,
  "nbformat_minor": 0,
  "metadata": {
    "colab": {
      "provenance": []
    },
    "kernelspec": {
      "name": "python3",
      "display_name": "Python 3"
    },
    "language_info": {
      "name": "python"
    }
  },
  "cells": [
    {
      "cell_type": "code",
      "source": [
        "pip install pulp"
      ],
      "metadata": {
        "colab": {
          "base_uri": "https://localhost:8080/"
        },
        "id": "vsXBdpse_ybM",
        "outputId": "65f680f8-341e-406c-de02-fc634139e657"
      },
      "execution_count": null,
      "outputs": [
        {
          "output_type": "stream",
          "name": "stdout",
          "text": [
            "Looking in indexes: https://pypi.org/simple, https://us-python.pkg.dev/colab-wheels/public/simple/\n",
            "Collecting pulp\n",
            "  Downloading PuLP-2.7.0-py3-none-any.whl (14.3 MB)\n",
            "\u001b[2K     \u001b[90m━━━━━━━━━━━━━━━━━━━━━━━━━━━━━━━━━━━━━━━━\u001b[0m \u001b[32m14.3/14.3 MB\u001b[0m \u001b[31m67.1 MB/s\u001b[0m eta \u001b[36m0:00:00\u001b[0m\n",
            "\u001b[?25hInstalling collected packages: pulp\n",
            "Successfully installed pulp-2.7.0\n"
          ]
        }
      ]
    },
    {
      "cell_type": "code",
      "source": [
        "import pulp\n",
        "from scipy.spatial.distance import euclidean\n",
        "import random\n",
        "import numpy as np\n",
        "\n",
        "# Definir coordenadas aleatorias para estaciones\n",
        "coord = {}\n",
        "for s in S:\n",
        "    coord[s] = np.array([random.uniform(0, 10), random.uniform(0, 10)])\n",
        "\n",
        "# Definir distancias entre estaciones\n",
        "distance = {}\n",
        "for s1 in S:\n",
        "    for s2 in S:\n",
        "        if s1 != s2:\n",
        "            distance[s1, s2] = euclidean(coord[s1], coord[s2])\n"
      ],
      "metadata": {
        "id": "l15qHL0lBfzx"
      },
      "execution_count": null,
      "outputs": []
    },
    {
      "cell_type": "code",
      "source": [
        "# Conjuntos\n",
        "D = {1, 2, 3, 4, 5} # Conjunto de puntos de demanda\n",
        "S = {1, 2, 3, 4, 5} # Conjunto de posibles estaciones\n",
        "T = {1, 2, 3} # Conjunto de tamaños de estación\n",
        "\n",
        "# Parámetros\n",
        "Dj = {1: 10, 2: 15, 3: 5, 4: 20, 5: 8} # Demanda de cada punto de demanda\n",
        "Tt = {1: 1, 2: 2, 3: 3} # Capacidad de cada tamaño de estación\n",
        "B = 20 # Presupuesto máximo\n",
        "D_max = 100\n",
        "D_min = 50\n",
        "\n",
        "# Costos\n",
        "C = {(1, 1): 5, (1, 2): 8, (1, 3): 10,\n",
        "     (2, 1): 7, (2, 2): 11, (2, 3): 13,\n",
        "     (3, 1): 6, (3, 2): 9, (3, 3): 12,\n",
        "     (4, 1): 8, (4, 2): 12, (4, 3): 15,\n",
        "     (5, 1): 5, (5, 2): 7, (5, 3): 9}\n",
        "\n",
        "# Distancias\n",
        "r = {(1, 1): 0, (1, 2): 1, (1, 3): 1, (1, 4): 2, (1, 5): 1,\n",
        "     (2, 1): 1, (2, 2): 0, (2, 3): 2, (2, 4): 1, (2, 5): 1,\n",
        "     (3, 1): 1, (3, 2): 2, (3, 3): 0, (3, 4): 1, (3, 5): 1,\n",
        "     (4, 1): 2, (4, 2): 1, (4, 3): 1, (4, 4): 0, (4, 5): 2,\n",
        "     (5, 1): 1, (5, 2): 1, (5, 3): 1, (5, 4): 2, (5, 5): 0}"
      ],
      "metadata": {
        "id": "jSFUwcnSADbq"
      },
      "execution_count": null,
      "outputs": []
    },
    {
      "cell_type": "code",
      "source": [
        "# Variables de decisión\n",
        "x = pulp.LpVariable.dicts('x', [(s, t) for s in S for t in T], lowBound=0, upBound=1, cat=pulp.LpInteger)\n",
        "y = pulp.LpVariable.dicts('y', [(s, j) for s in S for j in D], lowBound=0, upBound=1, cat=pulp.LpInteger)\n"
      ],
      "metadata": {
        "id": "N3E34k14AJMK"
      },
      "execution_count": null,
      "outputs": []
    },
    {
      "cell_type": "code",
      "source": [
        "# Creación del problema\n",
        "problem = pulp.LpProblem('Demand Coverage', pulp.LpMaximize)\n",
        "\n",
        "# Función objetivo\n",
        "problem += pulp.lpSum(Dj[j] * pulp.lpSum(y[s, j] for s in S for t in T) for j in D)"
      ],
      "metadata": {
        "colab": {
          "base_uri": "https://localhost:8080/"
        },
        "id": "0cXAU2R5AKeK",
        "outputId": "6ede3d09-edf2-4079-9da6-037492f011a0"
      },
      "execution_count": null,
      "outputs": [
        {
          "output_type": "stream",
          "name": "stderr",
          "text": [
            "/usr/local/lib/python3.8/dist-packages/pulp/pulp.py:1352: UserWarning: Spaces are not permitted in the name. Converted to '_'\n",
            "  warnings.warn(\"Spaces are not permitted in the name. Converted to '_'\")\n"
          ]
        }
      ]
    },
    {
      "cell_type": "code",
      "source": [
        "# Restricciones\n",
        "# Presupuesto\n",
        "problem += pulp.lpSum(C[s, t] * x[s, t] for s in S for t in T) <= B\n",
        "\n",
        "# Asignación\n",
        "for j in D:\n",
        "  for s in S:\n",
        "    if r[s, j] > 0:\n",
        "      problem += y[s, j] <= pulp.lpSum(x[ss, tt] for ss in S for tt in T if r[s, ss] <= r[ss, j])\n",
        "\n",
        "#Capacidad\n",
        "for s in S:\n",
        "  problem += pulp.lpSum(Tt[t] * x[s, t] for t in T) >= pulp.lpSum(Dj[j] * y[s, j] for j in D)\n",
        "\n",
        "# Restricción de distancia entre estaciones\n",
        "for s1 in S:\n",
        "    for s2 in S:\n",
        "        if s1 != s2:\n",
        "            for t1 in T:\n",
        "                for t2 in T:\n",
        "                    if t1 <= t2:\n",
        "                        d = distance[s1, s2]\n",
        "                        if d > D_max:\n",
        "                            problem += x[s1, t1] + x[s2, t2] <= 1\n",
        "                        elif d <= D_min:\n",
        "                            problem += x[s1, t1] + x[s2, t2] <= 2\n",
        "                        else:\n",
        "                            problem += x[s1, t1] + x[s2, t2] - x[s1, t1]*x[s2, t2] <= 1\n"
      ],
      "metadata": {
        "id": "K7oa8IFmANAj"
      },
      "execution_count": null,
      "outputs": []
    },
    {
      "cell_type": "code",
      "source": [
        "#Solución\n",
        "problem.solve()\n",
        "\n",
        "#Imprimir resultados\n",
        "print(f'Estado de la solución: {pulp.LpStatus[problem.status]}')\n",
        "print(f'Valor objetivo: {pulp.value(problem.objective)}')\n",
        "\n",
        "print('Estaciones abiertas:')\n",
        "for s in S:\n",
        "  for t in T:\n",
        "    if x[s, t].value() > 0:\n",
        "      print(f'Estación {s} de tamaño {t}')\n",
        "\n",
        "print('Asignaciones de estaciones a puntos de demanda:')\n",
        "for s in S:\n",
        "  for j in D:\n",
        "    if y[s, j].value() > 0:\n",
        "      print(f'Estación {s} asignada al punto de demanda {j}')"
      ],
      "metadata": {
        "colab": {
          "base_uri": "https://localhost:8080/"
        },
        "id": "qV8AMUy8_jdK",
        "outputId": "d01ef02e-9432-4bb7-c8b0-59cafc4cbf07"
      },
      "execution_count": null,
      "outputs": [
        {
          "output_type": "stream",
          "name": "stdout",
          "text": [
            "Estado de la solución: Optimal\n",
            "Valor objetivo: 15.0\n",
            "Estaciones abiertas:\n",
            "Estación 1 de tamaño 2\n",
            "Estación 1 de tamaño 3\n",
            "Asignaciones de estaciones a puntos de demanda:\n",
            "Estación 1 asignada al punto de demanda 3\n"
          ]
        }
      ]
    },
    {
      "cell_type": "code",
      "source": [],
      "metadata": {
        "id": "3HWRCnj5_jW7"
      },
      "execution_count": null,
      "outputs": []
    },
    {
      "cell_type": "code",
      "source": [],
      "metadata": {
        "id": "3LiaUvLw_jQD"
      },
      "execution_count": null,
      "outputs": []
    },
    {
      "cell_type": "code",
      "source": [],
      "metadata": {
        "id": "7JkHqIJO_g38"
      },
      "execution_count": null,
      "outputs": []
    },
    {
      "cell_type": "code",
      "source": [],
      "metadata": {
        "id": "hMVuow1C_g9Y"
      },
      "execution_count": null,
      "outputs": []
    }
  ]
}
