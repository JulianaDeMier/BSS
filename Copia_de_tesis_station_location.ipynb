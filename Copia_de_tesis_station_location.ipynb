{
  "nbformat": 4,
  "nbformat_minor": 0,
  "metadata": {
    "colab": {
      "provenance": []
    },
    "kernelspec": {
      "name": "python3",
      "display_name": "Python 3"
    },
    "language_info": {
      "name": "python"
    }
  },
  "cells": [
    {
      "cell_type": "code",
      "source": [
        "pip install pulp"
      ],
      "metadata": {
        "id": "IVDxPLMKK6c7"
      },
      "execution_count": null,
      "outputs": []
    },
    {
      "cell_type": "code",
      "source": [
        "from pulp import *\n",
        "\n",
        "# Declare variables\n",
        "x = LpVariable.dicts(\"bikes\", (locations), lowBound=0, upBound=None, cat='Integer')\n",
        "\n",
        "# Declare problem\n",
        "prob = LpProblem(\"Bike Sharing Optimization\", LpMinimize)\n",
        "\n",
        "# Objective function\n",
        "prob += lpSum([costs[i]*x[i] for i in locations])\n",
        "\n",
        "# Constraints\n",
        "for i in demand:\n",
        "    prob += lpSum([x[i] for i in locations]) >= demand[i], \"Demand_met_at_location_%s\"%i\n",
        "\n",
        "# Solve problem\n",
        "prob.solve()\n",
        "\n",
        "# Print results\n",
        "print(\"Status:\", LpStatus[prob.status])\n",
        "for v in prob.variables():\n",
        "    print(v.name, \"=\", v.varValue)\n",
        "print(\"Total Cost = \", value(prob.objective))"
      ],
      "metadata": {
        "id": "HxuEQhLoNPcL"
      },
      "execution_count": null,
      "outputs": []
    },
    {
      "cell_type": "code",
      "source": [
        "from pulp import *\n",
        "\n",
        "# Declare variables\n",
        "x = LpVariable.dicts(\"stations\", (locations), lowBound=0, upBound=1, cat='Binary')\n",
        "y = LpVariable.dicts(\"bikes\", (locations, locations), lowBound=0, upBound=None, cat='Integer')\n",
        "\n",
        "# Declare problem\n",
        "prob = LpProblem(\"Bike Sharing Optimization\", LpMinimize)\n",
        "\n",
        "# Objective function\n",
        "prob += lpSum([x[i] for i in locations])\n",
        "\n",
        "# Constraints\n",
        "for i in locations:\n",
        "    prob += lpSum([y[i][j] for j in locations]) == demand[i], \"Demand_met_at_location_%s\"%i\n",
        "    prob += lpSum([y[i][j] for j in locations]) <= capacity[i]*x[i], \"Capacity_constraint_at_location_%s\"%i\n",
        "\n",
        "for i in locations:\n",
        "    for j in locations:\n",
        "        prob += y[i][j] <= distance[i][j]*x[i], \"Distance_constraint_between_location_%s_and_%s\"%(i,j)\n",
        "\n",
        "# Solve problem\n",
        "prob.solve()\n",
        "\n",
        "# Print results\n",
        "print(\"Status:\", LpStatus[prob.status])\n",
        "for v in prob.variables():\n",
        "    print(v.name, \"=\", v.varValue)\n",
        "print(\"Number of Stations Opened = \", value(prob.objective))"
      ],
      "metadata": {
        "id": "3BRNpOoGOONe"
      },
      "execution_count": null,
      "outputs": []
    },
    {
      "cell_type": "code",
      "source": [
        "from pulp import *\n",
        "\n",
        "# Declare variables\n",
        "x = LpVariable.dicts(\"stations\", (locations), lowBound=0, upBound=1, cat='Binary')\n",
        "y = LpVariable.dicts(\"bikes\", (locations, locations), lowBound=0, upBound=None, cat='Integer')\n",
        "\n",
        "# Declare problem\n",
        "prob = LpProblem(\"Bike Sharing Optimization\", LpMinimize)\n",
        "\n",
        "# Objective function\n",
        "prob += lpSum([x[i] for i in locations])\n",
        "\n",
        "# Constraints\n",
        "for i in locations:\n",
        "    prob += lpSum([y[i][j] for j in locations]) == demand[i], \"Demand_met_at_location_%s\"%i\n",
        "    prob += lpSum([y[i][j] for j in locations]) <= capacity[i]*x[i], \"Capacity_constraint_at_location_%s\"%i\n",
        "\n",
        "for i in locations:\n",
        "    for j in locations:\n",
        "        prob += y[i][j] <= distance[i][j]*x[i], \"Distance_constraint_between_location_%s_and_%s\"%(i,j)\n",
        "\n",
        "# Total number of bikes constraint\n",
        "prob += lpSum([y[i][j] for i in locations for j in locations]) <= total_bikes, \"Total_bikes_constraint\"\n",
        "\n",
        "# Total cost constraint\n",
        "prob += lpSum([costs[i]*x[i] for i in locations]) <= total_cost, \"Total_cost_constraint\"\n",
        "\n",
        "# Solve problem\n",
        "prob.solve()\n",
        "\n",
        "# Print results\n",
        "print(\"Status:\", LpStatus[prob.status])\n",
        "for v in prob.variables():\n",
        "    print(v.name, \"=\", v.varValue)\n",
        "print(\"Number of Stations Opened = \", value(prob.objective))"
      ],
      "metadata": {
        "id": "qL8klsUPO4Fk"
      },
      "execution_count": null,
      "outputs": []
    },
    {
      "cell_type": "code",
      "execution_count": 3,
      "metadata": {
        "colab": {
          "base_uri": "https://localhost:8080/"
        },
        "id": "-uEW0LVlK2vz",
        "outputId": "44a6bf81-94d6-4c35-d880-2f70ff580c7c"
      },
      "outputs": [
        {
          "output_type": "stream",
          "name": "stdout",
          "text": [
            "Status: Infeasible\n",
            "A station should be built at location 0\n",
            "A station should be built at location 1\n",
            "A station should be built at location 2\n",
            "A station should be built at location 5\n",
            "A station should be built at location 9\n"
          ]
        },
        {
          "output_type": "stream",
          "name": "stderr",
          "text": [
            "/usr/local/lib/python3.8/dist-packages/pulp/pulp.py:1352: UserWarning: Spaces are not permitted in the name. Converted to '_'\n",
            "  warnings.warn(\"Spaces are not permitted in the name. Converted to '_'\")\n"
          ]
        }
      ],
      "source": [
        "from pulp import *\n",
        "\n",
        "# Define the data\n",
        "num_locations = 10\n",
        "cost = [1000, 800, 600, 700, 900, 800, 500, 600, 900, 1000]\n",
        "demand = [50, 40, 30, 20, 30, 20, 10, 20, 30, 40]\n",
        "distance = [1, 2, 3, 4, 5, 2, 1, 3, 4, 2]\n",
        "max_stations = 5\n",
        "min_bikes = 200\n",
        "max_distance = 10\n",
        "\n",
        "# Define the decision variables\n",
        "x = [LpVariable(f\"x{i}\", cat='Binary') for i in range(num_locations)]\n",
        "\n",
        "# Define the objective function\n",
        "prob = LpProblem(\"Bicycle Station Location\", LpMinimize)\n",
        "prob += lpSum([cost[i]*x[i] for i in range(num_locations)])\n",
        "\n",
        "# Define the constraints\n",
        "prob += lpSum([x[i] for i in range(num_locations)]) <= max_stations\n",
        "prob += lpSum([demand[i]*x[i] for i in range(num_locations)]) >= min_bikes\n",
        "prob += lpSum([distance[i]*x[i] for i in range(num_locations)]) <= max_distance\n",
        "\n",
        "# Solve the LP model\n",
        "prob.solve()\n",
        "\n",
        "# Print the results\n",
        "print(\"Status:\", LpStatus[prob.status])\n",
        "for i in range(num_locations):\n",
        "    if x[i].value() == 1:\n",
        "        print(f\"A station should be built at location {i}\")"
      ]
    }
  ]
}