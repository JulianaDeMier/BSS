{
  "cells": [
    {
      "cell_type": "code",
      "source": [
        "pip install pulp"
      ],
      "metadata": {
        "colab": {
          "base_uri": "https://localhost:8080/"
        },
        "id": "1ZI9r-KpHBAF",
        "outputId": "5a808655-4550-44c8-cbdb-5a7deceef003"
      },
      "id": "1ZI9r-KpHBAF",
      "execution_count": 2,
      "outputs": [
        {
          "output_type": "stream",
          "name": "stdout",
          "text": [
            "Looking in indexes: https://pypi.org/simple, https://us-python.pkg.dev/colab-wheels/public/simple/\n",
            "Collecting pulp\n",
            "  Downloading PuLP-2.7.0-py3-none-any.whl (14.3 MB)\n",
            "\u001b[2K     \u001b[90m━━━━━━━━━━━━━━━━━━━━━━━━━━━━━━━━━━━━━━━━\u001b[0m \u001b[32m14.3/14.3 MB\u001b[0m \u001b[31m30.2 MB/s\u001b[0m eta \u001b[36m0:00:00\u001b[0m\n",
            "\u001b[?25hInstalling collected packages: pulp\n",
            "Successfully installed pulp-2.7.0\n"
          ]
        }
      ]
    },
    {
      "cell_type": "markdown",
      "source": [
        "**Decision variables**: For each potential station location, a binary variable (0 or 1) can be used to indicate whether or not a station is placed at that location.\n",
        "\n",
        "**Objective function**: Minimize the total cost of building and maintaining the stations.\n",
        "\n",
        "**Constraints**: \n",
        "\n",
        "1.   The total number of stations that can be built is limited by budget and city regulations.\n",
        "\n",
        "2.   The minimum and maximum number of bikes that must be available at each station.\n",
        "\n",
        "3. The maximum distance people are willing to walk to reach a station.\n",
        "\n",
        "4. The demand for bikes in different areas of the city.\n"
      ],
      "metadata": {
        "id": "Bns1YEmgPiCs"
      },
      "id": "Bns1YEmgPiCs"
    },
    {
      "cell_type": "code",
      "source": [
        "from pulp import *\n",
        "\n",
        "# Define the data\n",
        "num_locations = 10\n",
        "cost = [1000, 800, 600, 700, 900, 800, 500, 600, 900, 1000]\n",
        "demand = [50, 40, 30, 20, 30, 20, 10, 20, 30, 40]\n",
        "distance = [1, 2, 3, 4, 5, 2, 1, 3, 4, 2]\n",
        "max_stations = 5\n",
        "min_bikes = 200\n",
        "max_distance = 10\n",
        "\n",
        "# Define the decision variables\n",
        "x = [LpVariable(f\"x{i}\", cat='Binary') for i in range(num_locations)]\n",
        "\n",
        "# Define the objective function\n",
        "prob = LpProblem(\"Bicycle Station Location\", LpMinimize)\n",
        "prob += lpSum([cost[i]*x[i] for i in range(num_locations)])\n",
        "\n",
        "# Define the constraints\n",
        "prob += lpSum([x[i] for i in range(num_locations)]) <= max_stations\n",
        "prob += lpSum([demand[i]*x[i] for i in range(num_locations)]) >= min_bikes\n",
        "prob += lpSum([distance[i]*x[i] for i in range(num_locations)]) <= max_distance\n",
        "\n",
        "# Solve the LP model\n",
        "prob.solve()\n",
        "\n",
        "# Print the results\n",
        "print(\"Status:\", LpStatus[prob.status])\n",
        "for i in range(num_locations):\n",
        "    if x[i].value() == 1:\n",
        "        print(f\"A station should be built at location {i}\")\n"
      ],
      "metadata": {
        "id": "zWhKOFTrQ2R6"
      },
      "id": "zWhKOFTrQ2R6",
      "execution_count": null,
      "outputs": []
    },
    {
      "cell_type": "markdown",
      "source": [
        "**Decision variables**: The x and y coordinates of each station\n",
        "\n",
        "**Objective function**: Minimize the total distance between the stations and the demand points. This could be represented as:\n",
        "\n",
        "minimize $(Σ(sqrt((x_i - d_x)^2 + (y_i - d_y)^2)) for all i)$\n",
        "\n",
        "where x_i and y_i are the coordinates of station i, and d_x and d_y are the coordinates of the demand point.\n",
        "\n",
        "\n",
        "**Constraints**: \n",
        "\n",
        "\n",
        "1.   The total cost of installing the stations must be less than or equal to the allocated budget\n"
      ],
      "metadata": {
        "id": "twCnx09ICKTz"
      },
      "id": "twCnx09ICKTz"
    },
    {
      "cell_type": "code",
      "source": [
        "import random\n",
        "from gurobipy import *\n",
        "\n",
        "# Number of stations and demand points\n",
        "num_stations = 5\n",
        "num_demand_points = 10\n",
        "\n",
        "# Maximum x and y coordinates of the space available for the stations\n",
        "max_x = 100\n",
        "max_y = 100\n",
        "\n",
        "# Coordinates of the demand points\n",
        "demand_x = [random.randint(0, max_x) for _ in range(num_demand_points)]\n",
        "demand_y = [random.randint(0, max_y) for _ in range(num_demand_points)]\n",
        "\n",
        "# Cost of each station\n",
        "cost = [random.randint(50, 100) for _ in range(num_stations)]\n",
        "\n",
        "# Budget for the project\n",
        "budget = sum(cost) / 2\n",
        "\n",
        "# Max and min x,y coordinates for each station\n",
        "max_x_zone = [random.randint(0, max_x) for _ in range(num_stations)]\n",
        "max_y_zone = [random.randint(0, max_y) for _ in range(num_stations)]\n",
        "min_x_zone = [random.randint(0, max_x) for _ in range(num_stations)]\n",
        "min_y_zone = [random.randint(0, max_y) for _ in range(num_stations)]\n",
        "\n",
        "# Create the model\n",
        "m = Model()\n",
        "\n",
        "# Create the decision variables\n",
        "x = {}\n",
        "y = {}\n",
        "\n",
        "for i in range(num_stations):\n",
        "    x[i] = m.addVar(lb=min_x_zone[i], ub=max_x_zone[i], name=\"x_%d\" % i)\n",
        "    y[i] = m.addVar(lb=min_y_zone[i], ub=max_y_zone[i], name=\"y_%d\" % i)\n",
        "\n",
        "# Define the objective function\n",
        "obj = quicksum(quicksum(sqrt((x[i] - demand_x[j])**2 + (y[i] - demand_y[j])**2) for j in range(num_demand_points)) for i in range(num_stations))\n",
        "m.setObjective(obj, GRB.MINIMIZE)\n",
        "\n",
        "# Define the constraints\n",
        "\n",
        "# Budget constraint\n",
        "m.addConstr(quicksum(cost[i] for i in range(num_stations)) <= budget)\n",
        "\n",
        "# Optimize the model\n",
        "m.optimize()\n",
        "\n",
        "# Extract the solution\n",
        "for i in range(num_stations):\n",
        "    print(\"Station\", i, \": (\", x[i].x, \",\", y[i].x, \")\")\n"
      ],
      "metadata": {
        "id": "s0GwQjAXS_KQ"
      },
      "id": "s0GwQjAXS_KQ",
      "execution_count": null,
      "outputs": []
    },
    {
      "cell_type": "markdown",
      "source": [
        "**Decision variables**: La cantidad de estaciones de cada tamaño que se instalen en cada ubicación.\n",
        "\n",
        "**Objective function**: minimize (Costo total de instalación de estaciones) = Σ (Costo de cada tamaño de estación * Número de estaciones de ese tamaño en una ubicación)\n",
        "\n",
        "**Restricciones**: \n",
        "\n",
        "\n",
        "1.   Satisfacer la demanda: Σ (Número de bicicletas en cada tamaño de estación * Número de estaciones de ese tamaño en una ubicación) >= Demanda total\n",
        "2.   Distancia maxima entre estaciones \n",
        "3.   Número de estaciones de cada tamaño en una ubicación sea entero\n",
        "4.   Número de estaciones de cada tamaño >= 0.\n"
      ],
      "metadata": {
        "id": "Q2tq47U5UFgo"
      },
      "id": "Q2tq47U5UFgo"
    },
    {
      "cell_type": "code",
      "source": [
        "from pulp import *\n",
        "\n",
        "# Datos de entrada\n",
        "costos = [10, 20, 30] # Costos de cada tamaño de estación\n",
        "demand = [30, 20, 40, 10, 50] # Demanda en cada ubicación\n",
        "ubicaciones = 5 # Número de ubicaciones\n",
        "tamanos = 3 # Número de tamaños de estaciones\n",
        "distancia_maxima = 10 # Distancia máxima entre estaciones\n",
        "\n",
        "# Inicializar modelo\n",
        "m = LpProblem(\"Bicicletas compartidas\", LpMinimize)\n",
        "\n",
        "# Variables de decisión\n",
        "abrir = LpVariable.dicts(\"Abrir\", [(i, j) for i in range(ubicaciones) for j in range(tamanos)], 0, 1, LpBinary)\n",
        "estaciones = LpVariable.dicts(\"Estacion\", [(i, j) for i in range(ubicaciones) for j in range(tamanos)], 0, None, LpInteger)\n",
        "\n",
        "# Función objetivo\n",
        "m += lpSum(costos[j] * abrir[i,j] for i in range(ubicaciones) for j in range(tamanos))\n",
        "\n",
        "# Restricciones\n",
        "for i in range(ubicaciones):\n",
        "    m += lpSum(estaciones[i,j] for j in range(tamanos)) >= demand[i], \"Demanda_\"+str(i+1)\n",
        "    for j in range(tamanos):\n",
        "        m += estaciones[i,j] <= abrir[i,j] * 10000, \"Estaciones_abiertas_\"+str(i+1)+\"_\"+str(j+1)\n",
        "\n",
        "for i in range(ubicaciones):\n",
        "    for j in range(i+1, ubicaciones):\n",
        "        m += lpSum(abrir[i,k] + abrir[j,k] for k in range(tamanos)) <= 1, \"Distancia_maxima_\"+str(i+1)+\"_\"+str(j+1)\n",
        "\n",
        "# Resolver modelo\n",
        "m.solve()\n",
        "\n",
        "# Imprimir resultados\n",
        "for i in range(ubicaciones):\n",
        "    for j in range(tamanos):\n",
        "        if abrir[i,j].value() > 0:\n",
        "            print(\"Ubicación\", i+1, \"tamaño\", j+1, \"cantidad\", estaciones[i,j].value())\n"
      ],
      "metadata": {
        "id": "g5Vpe7z7UMto"
      },
      "id": "g5Vpe7z7UMto",
      "execution_count": null,
      "outputs": []
    },
    {
      "cell_type": "markdown",
      "source": [
        "# **Codigo ganador**\n",
        "\n",
        "**Decision variables**: Binary variables indicating if a station is opened and what size it is\n",
        "$x_{i,j}$ donde $i ∈ I$: set of stations y $j \\in J$: set of sizes\n",
        "\n",
        "**Objective function**: minimize costs\n",
        "Min $∑x_{i,j}$*$c_{j}$   sum of costs for each size\n",
        "\n",
        "**Restricciones**: \n",
        "\n",
        "\n",
        "1.   Cover the demand at each location\n",
        "$∑i$ $∑j$ $x_{i,j}$ = $d_i$ \n",
        "2.   Maximum distance between stations\n",
        "$x_{i,j}$*$x_{l,j}$*distance$_{i,l}$ <= max_distance\n"
      ],
      "metadata": {
        "id": "FELFV-DFUcHo"
      },
      "id": "FELFV-DFUcHo"
    },
    {
      "cell_type": "code",
      "source": [
        "import numpy as np\n",
        "import pulp\n",
        "\n",
        "# Invented data for 5 potential locations in Bogota\n",
        "location_names = ['Location 1', 'Location 2', 'Location 3', 'Location 4', 'Location 5']\n",
        "demand = np.random.randint(100, 1000, size=5)\n",
        "distance = np.random.randint(1, 10, size=5)\n",
        "\n",
        "# Costs for small, medium, and large stations\n",
        "small_cost = 1000\n",
        "medium_cost = 2000\n",
        "large_cost = 3000\n",
        "\n",
        "# Maximum distance between stations\n",
        "max_distance = 7\n",
        "\n",
        "# Define the decision variables\n",
        "x = pulp.LpVariable.dicts('x', [(i, j) for i in range(len(location_names)) for j in range(3)],\n",
        "                           cat=pulp.LpBinary) # binary variables indicating if a station is opened and what size it is\n",
        "\n",
        "# Define the problem\n",
        "prob = pulp.LpProblem('Bicycle Station Optimization', pulp.LpMinimize)\n",
        "\n",
        "# Define the constraints\n",
        "prob += pulp.lpSum([x[(i, j)] for i in range(len(location_names)) for j in range(3)]) == demand[i], f'Demand {i}'\n",
        "prob += pulp.lpSum([x[(i, j)] * distance[i] for i in range(len(location_names)) for j in range(3)]) <= max_distance, 'Max Distance'\n",
        "for i in range(len(location_names)):\n",
        "    prob += pulp.lpSum([x[(i, j)] for j in range(3)]) <= 1, f'Size {i}'\n",
        "\n",
        "# Define the objective function\n",
        "prob += small_cost * pulp.lpSum([x[(i, 0)] for i in range(len(location_names))]) + \\\n",
        "        medium_cost * pulp.lpSum([x[(i, 1)] for i in range(len(location_names))]) + \\\n",
        "        large_cost * pulp.lpSum([x[(i, 2)] for i in range(len(location_names))])\n",
        "\n",
        "# Solve the problem\n",
        "prob.solve()\n",
        "\n",
        "# Print the results\n",
        "print(f'Optimal Cost: {pulp.value(prob.objective)}')\n",
        "for i, location in enumerate(location_names):\n",
        "    if x[(i, 0)].varValue:\n",
        "        print(f'{location}: Small Station')\n",
        "    elif x[(i, 1)].varValue:\n",
        "        print(f'{location}: Medium Station')\n",
        "    elif x[(i, 2)].varValue:\n",
        "        print(f'{location}: Large Station')"
      ],
      "metadata": {
        "colab": {
          "base_uri": "https://localhost:8080/"
        },
        "id": "70wOjPK3Uejg",
        "outputId": "0f41cf11-dd0e-40dc-8570-3a849c8344cb"
      },
      "id": "70wOjPK3Uejg",
      "execution_count": 4,
      "outputs": [
        {
          "output_type": "stream",
          "name": "stdout",
          "text": [
            "Optimal Cost: 4147000.0\n",
            "Location 1: Small Station\n",
            "Location 2: Small Station\n",
            "Location 3: Small Station\n",
            "Location 4: Small Station\n",
            "Location 5: Small Station\n"
          ]
        }
      ]
    },
    {
      "cell_type": "markdown",
      "source": [
        "# **Intento de unir los problemas**"
      ],
      "metadata": {
        "id": "CpRiUHd_UiF4"
      },
      "id": "CpRiUHd_UiF4"
    },
    {
      "cell_type": "markdown",
      "source": [
        "Esta es la misma definicion que el anterior solo que se le añade la parte de predecir una nueva demanda y evaluar el rebalanceo "
      ],
      "metadata": {
        "id": "K_OvFVktUh_g"
      },
      "id": "K_OvFVktUh_g"
    },
    {
      "cell_type": "code",
      "source": [
        "import numpy as np\n",
        "import pulp\n",
        "\n",
        "# Invented data for 5 potential locations in Bogota\n",
        "location_names = ['Location 1', 'Location 2', 'Location 3', 'Location 4', 'Location 5']\n",
        "demand = np.random.randint(100, 1000, size=5)\n",
        "distance = np.random.randint(1, 10, size=5)\n",
        "\n",
        "# Costs for small, medium, and large stations\n",
        "small_cost = 1000\n",
        "medium_cost = 2000\n",
        "large_cost = 3000\n",
        "\n",
        "# Maximum distance between stations\n",
        "max_distance = 7\n",
        "\n",
        "# Define the decision variables\n",
        "x = pulp.LpVariable.dicts('x', [(i, j) for i in range(len(location_names)) for j in range(3)],\n",
        "                           cat=pulp.LpBinary) # binary variables indicating if a station is opened and what size it is\n",
        "\n",
        "# Define the problem\n",
        "prob = pulp.LpProblem('Bicycle Station Optimization', pulp.LpMinimize)\n",
        "\n",
        "# Define the constraints\n",
        "prob += pulp.lpSum([x[(i, j)] for i in range(len(location_names)) for j in range(3)]) == demand[i], f'Demand {i}'\n",
        "prob += pulp.lpSum([x[(i, j)] * distance[i] for i in range(len(location_names)) for j in range(3)]) <= max_distance, 'Max Distance'\n",
        "for i in range(len(location_names)):\n",
        "    prob += pulp.lpSum([x[(i, j)] for j in range(3)]) <= 1, f'Size {i}'\n",
        "\n",
        "# Define the objective function\n",
        "prob += small_cost * pulp.lpSum([x[(i, 0)] for i in range(len(location_names))]) + \\\n",
        "        medium_cost * pulp.lpSum([x[(i, 1)] for i in range(len(location_names))]) + \\\n",
        "        large_cost * pulp.lpSum([x[(i, 2)] for i in range(len(location_names))])\n",
        "\n",
        "# Solve the problem\n",
        "prob.solve()\n",
        "\n",
        "# Store the results\n",
        "optimal_size = [0] * len(location_names)\n",
        "for i, location in enumerate(location_names):\n",
        "    if x[(i, 0)].varValue:\n",
        "        optimal_size[i] = 'Small'\n",
        "    elif x[(i, 1)].varValue:\n",
        "        optimal_size[i] = 'Medium'\n",
        "    elif x[(i, 2)].varValue:\n",
        "        optimal_size[i] = 'Large'\n",
        "\n",
        "# Forecast the new demand\n",
        "new_demand = demand + np.random.randint(-100, 100, size=5)\n",
        "\n",
        "# Evaluate the need for rebalancing\n",
        "rebalance = [0] * len(location_names)\n",
        "for i, location in enumerate(location_names):\n",
        "    if new_demand[i] > demand[i] and optimal_size[i] == 'Small':\n",
        "        rebalance[i] = 'Upgrade to Medium'\n",
        "    elif new_demand[i] > demand[i] and optimal_size[i] == 'Medium':\n",
        "        rebalance[i] = 'Upgrade to Large'\n",
        "    elif new_demand[i] < demand[i] and optimal_size[i] == 'Large':\n",
        "        rebalance[i] = 'Downgrade to Medium'\n",
        "    elif new_demand[i] < demand[i] and optimal_size[i] == 'Medium':\n",
        "        rebalance[i] = 'Downgrade to Small'\n",
        "    else:\n",
        "        rebalance[i] = 'No Change'\n",
        "\n",
        "print('Optimal Station Sizes: ', optimal_size)\n",
        "print('New Demand: ', new_demand)\n",
        "print('Rebalance Recommendations: ', rebalance)\n",
        "     "
      ],
      "metadata": {
        "id": "3krRADcPUjFI"
      },
      "id": "3krRADcPUjFI",
      "execution_count": null,
      "outputs": []
    }
  ],
  "metadata": {
    "colab": {
      "provenance": []
    },
    "language_info": {
      "name": "python"
    },
    "kernelspec": {
      "name": "python3",
      "display_name": "Python 3"
    },
    "gpuClass": "standard"
  },
  "nbformat": 4,
  "nbformat_minor": 5
}