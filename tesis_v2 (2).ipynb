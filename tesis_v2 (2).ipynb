{
  "nbformat": 4,
  "nbformat_minor": 0,
  "metadata": {
    "colab": {
      "provenance": []
    },
    "kernelspec": {
      "name": "python3",
      "display_name": "Python 3"
    },
    "language_info": {
      "name": "python"
    }
  },
  "cells": [
    {
      "cell_type": "markdown",
      "source": [
        "# Librerias necesarias"
      ],
      "metadata": {
        "id": "uAYzbTXFgpAb"
      }
    },
    {
      "cell_type": "code",
      "source": [
        "pip install pulp"
      ],
      "metadata": {
        "colab": {
          "base_uri": "https://localhost:8080/"
        },
        "outputId": "b8bfd678-4a5d-46d1-804f-28e04630967a",
        "id": "_0Hdvj3zi9qw"
      },
      "execution_count": 95,
      "outputs": [
        {
          "output_type": "stream",
          "name": "stdout",
          "text": [
            "Looking in indexes: https://pypi.org/simple, https://us-python.pkg.dev/colab-wheels/public/simple/\n",
            "Requirement already satisfied: pulp in /usr/local/lib/python3.9/dist-packages (2.7.0)\n"
          ]
        }
      ]
    },
    {
      "cell_type": "code",
      "source": [
        "pip install gurobipy"
      ],
      "metadata": {
        "colab": {
          "base_uri": "https://localhost:8080/"
        },
        "outputId": "dbdbe297-892c-4d18-ee54-fcba9eeb0f6d",
        "id": "t4Y57Uudi9qx"
      },
      "execution_count": 96,
      "outputs": [
        {
          "output_type": "stream",
          "name": "stdout",
          "text": [
            "Looking in indexes: https://pypi.org/simple, https://us-python.pkg.dev/colab-wheels/public/simple/\n",
            "Requirement already satisfied: gurobipy in /usr/local/lib/python3.9/dist-packages (10.0.1)\n"
          ]
        }
      ]
    },
    {
      "cell_type": "code",
      "source": [
        "pip install geopandas"
      ],
      "metadata": {
        "colab": {
          "base_uri": "https://localhost:8080/"
        },
        "id": "OdPx-RafSjFL",
        "outputId": "4f513639-a5b5-4ada-bbb3-ce6666282002"
      },
      "execution_count": 97,
      "outputs": [
        {
          "output_type": "stream",
          "name": "stdout",
          "text": [
            "Looking in indexes: https://pypi.org/simple, https://us-python.pkg.dev/colab-wheels/public/simple/\n",
            "Requirement already satisfied: geopandas in /usr/local/lib/python3.9/dist-packages (0.12.2)\n",
            "Requirement already satisfied: fiona>=1.8 in /usr/local/lib/python3.9/dist-packages (from geopandas) (1.9.2)\n",
            "Requirement already satisfied: pandas>=1.0.0 in /usr/local/lib/python3.9/dist-packages (from geopandas) (1.4.4)\n",
            "Requirement already satisfied: packaging in /usr/local/lib/python3.9/dist-packages (from geopandas) (23.0)\n",
            "Requirement already satisfied: pyproj>=2.6.1.post1 in /usr/local/lib/python3.9/dist-packages (from geopandas) (3.5.0)\n",
            "Requirement already satisfied: shapely>=1.7 in /usr/local/lib/python3.9/dist-packages (from geopandas) (2.0.1)\n",
            "Requirement already satisfied: click-plugins>=1.0 in /usr/local/lib/python3.9/dist-packages (from fiona>=1.8->geopandas) (1.1.1)\n",
            "Requirement already satisfied: munch>=2.3.2 in /usr/local/lib/python3.9/dist-packages (from fiona>=1.8->geopandas) (2.5.0)\n",
            "Requirement already satisfied: cligj>=0.5 in /usr/local/lib/python3.9/dist-packages (from fiona>=1.8->geopandas) (0.7.2)\n",
            "Requirement already satisfied: attrs>=19.2.0 in /usr/local/lib/python3.9/dist-packages (from fiona>=1.8->geopandas) (22.2.0)\n",
            "Requirement already satisfied: importlib-metadata in /usr/local/lib/python3.9/dist-packages (from fiona>=1.8->geopandas) (6.1.0)\n",
            "Requirement already satisfied: click~=8.0 in /usr/local/lib/python3.9/dist-packages (from fiona>=1.8->geopandas) (8.1.3)\n",
            "Requirement already satisfied: certifi in /usr/local/lib/python3.9/dist-packages (from fiona>=1.8->geopandas) (2022.12.7)\n",
            "Requirement already satisfied: pytz>=2020.1 in /usr/local/lib/python3.9/dist-packages (from pandas>=1.0.0->geopandas) (2022.7.1)\n",
            "Requirement already satisfied: numpy>=1.18.5 in /usr/local/lib/python3.9/dist-packages (from pandas>=1.0.0->geopandas) (1.22.4)\n",
            "Requirement already satisfied: python-dateutil>=2.8.1 in /usr/local/lib/python3.9/dist-packages (from pandas>=1.0.0->geopandas) (2.8.2)\n",
            "Requirement already satisfied: six in /usr/local/lib/python3.9/dist-packages (from munch>=2.3.2->fiona>=1.8->geopandas) (1.16.0)\n",
            "Requirement already satisfied: zipp>=0.5 in /usr/local/lib/python3.9/dist-packages (from importlib-metadata->fiona>=1.8->geopandas) (3.15.0)\n"
          ]
        }
      ]
    },
    {
      "cell_type": "code",
      "source": [
        "import pandas as pd\n",
        "import numpy as np\n",
        "import geopandas as gpd\n",
        "import matplotlib.pyplot as plt\n",
        "import random\n",
        "from gurobipy import *\n"
      ],
      "metadata": {
        "id": "5jFr1-HzWZ4f"
      },
      "execution_count": 98,
      "outputs": []
    },
    {
      "cell_type": "markdown",
      "source": [
        "Subir info "
      ],
      "metadata": {
        "id": "4yxB6AoJgth5"
      }
    },
    {
      "cell_type": "code",
      "source": [
        "demanda = pd.read_csv('info_demanda.csv')\n",
        "original_estaciones = pd.read_csv('info_estaciones.csv')"
      ],
      "metadata": {
        "id": "5DFxuELfWao5"
      },
      "execution_count": 99,
      "outputs": []
    },
    {
      "cell_type": "code",
      "source": [
        "solo_chapi = pd.read_csv('solochapi.csv')"
      ],
      "metadata": {
        "id": "V_Bgq7yoNN9U"
      },
      "execution_count": 100,
      "outputs": []
    },
    {
      "cell_type": "markdown",
      "source": [
        "# Procesamiento de información"
      ],
      "metadata": {
        "id": "5Wr65dNkg7Op"
      }
    },
    {
      "cell_type": "code",
      "source": [
        "estaciones = original_estaciones.loc[:,['Local de la Estación',\t'Estación',\t'Codigo Estación',\t'Nombre Estación', 'Localidad', 'sem25']]\n",
        "estaciones"
      ],
      "metadata": {
        "id": "aPhGxbSCcwug",
        "colab": {
          "base_uri": "https://localhost:8080/",
          "height": 0
        },
        "outputId": "4696bbb9-2692-4768-e795-b0f76aa975c0"
      },
      "execution_count": 101,
      "outputs": [
        {
          "output_type": "execute_result",
          "data": {
            "text/plain": [
              "      Local de la Estación                       Estación  Codigo Estación  \\\n",
              "0                      NaN                            NaN              NaN   \n",
              "1    4.6658027,-74.0528436  001 - Centro Comercial Andino              1.0   \n",
              "2      4.631379,-74.064615                059 - U. Piloto             59.0   \n",
              "3    4.6433691,-74.0625285           091 - CL 57 con KR 7             91.0   \n",
              "4      4.663925,-74.053278  033 - Parque Vecinal El Nogal             33.0   \n",
              "..                     ...                            ...              ...   \n",
              "279  4.6449009,-74.0677208          274 - KR 16 con CL 57            274.0   \n",
              "280    4.698798,-74.045248         015 - CL 119 con KR 16             15.0   \n",
              "281    4.699656,-74.038118        238 - CL 120 con KR 11D            238.0   \n",
              "282   4.6592193,-74.072547         297 - KR 27A con CL 66            297.0   \n",
              "283    4.665134,-74.061264         262 - KR 20B con CL 77            262.0   \n",
              "\n",
              "             Nombre Estación  Localidad  sem25  \n",
              "0                        NaN         ns    585  \n",
              "1    Centro Comercial Andino  Chapinero    451  \n",
              "2                  U. Piloto  Chapinero    378  \n",
              "3             CL 57 con KR 7  Chapinero    312  \n",
              "4    Parque Vecinal El Nogal  Chapinero    305  \n",
              "..                       ...        ...    ...  \n",
              "279          KR 16 con CL 57         ns     16  \n",
              "280         CL 119 con KR 16         ns     15  \n",
              "281        CL 120 con KR 11D         ns     13  \n",
              "282         KR 27A con CL 66         ns     12  \n",
              "283         KR 20B con CL 77         ns      8  \n",
              "\n",
              "[284 rows x 6 columns]"
            ],
            "text/html": [
              "\n",
              "  <div id=\"df-4d251b0b-df75-4700-9599-6fa794cf31a4\">\n",
              "    <div class=\"colab-df-container\">\n",
              "      <div>\n",
              "<style scoped>\n",
              "    .dataframe tbody tr th:only-of-type {\n",
              "        vertical-align: middle;\n",
              "    }\n",
              "\n",
              "    .dataframe tbody tr th {\n",
              "        vertical-align: top;\n",
              "    }\n",
              "\n",
              "    .dataframe thead th {\n",
              "        text-align: right;\n",
              "    }\n",
              "</style>\n",
              "<table border=\"1\" class=\"dataframe\">\n",
              "  <thead>\n",
              "    <tr style=\"text-align: right;\">\n",
              "      <th></th>\n",
              "      <th>Local de la Estación</th>\n",
              "      <th>Estación</th>\n",
              "      <th>Codigo Estación</th>\n",
              "      <th>Nombre Estación</th>\n",
              "      <th>Localidad</th>\n",
              "      <th>sem25</th>\n",
              "    </tr>\n",
              "  </thead>\n",
              "  <tbody>\n",
              "    <tr>\n",
              "      <th>0</th>\n",
              "      <td>NaN</td>\n",
              "      <td>NaN</td>\n",
              "      <td>NaN</td>\n",
              "      <td>NaN</td>\n",
              "      <td>ns</td>\n",
              "      <td>585</td>\n",
              "    </tr>\n",
              "    <tr>\n",
              "      <th>1</th>\n",
              "      <td>4.6658027,-74.0528436</td>\n",
              "      <td>001 - Centro Comercial Andino</td>\n",
              "      <td>1.0</td>\n",
              "      <td>Centro Comercial Andino</td>\n",
              "      <td>Chapinero</td>\n",
              "      <td>451</td>\n",
              "    </tr>\n",
              "    <tr>\n",
              "      <th>2</th>\n",
              "      <td>4.631379,-74.064615</td>\n",
              "      <td>059 - U. Piloto</td>\n",
              "      <td>59.0</td>\n",
              "      <td>U. Piloto</td>\n",
              "      <td>Chapinero</td>\n",
              "      <td>378</td>\n",
              "    </tr>\n",
              "    <tr>\n",
              "      <th>3</th>\n",
              "      <td>4.6433691,-74.0625285</td>\n",
              "      <td>091 - CL 57 con KR 7</td>\n",
              "      <td>91.0</td>\n",
              "      <td>CL 57 con KR 7</td>\n",
              "      <td>Chapinero</td>\n",
              "      <td>312</td>\n",
              "    </tr>\n",
              "    <tr>\n",
              "      <th>4</th>\n",
              "      <td>4.663925,-74.053278</td>\n",
              "      <td>033 - Parque Vecinal El Nogal</td>\n",
              "      <td>33.0</td>\n",
              "      <td>Parque Vecinal El Nogal</td>\n",
              "      <td>Chapinero</td>\n",
              "      <td>305</td>\n",
              "    </tr>\n",
              "    <tr>\n",
              "      <th>...</th>\n",
              "      <td>...</td>\n",
              "      <td>...</td>\n",
              "      <td>...</td>\n",
              "      <td>...</td>\n",
              "      <td>...</td>\n",
              "      <td>...</td>\n",
              "    </tr>\n",
              "    <tr>\n",
              "      <th>279</th>\n",
              "      <td>4.6449009,-74.0677208</td>\n",
              "      <td>274 - KR 16 con CL 57</td>\n",
              "      <td>274.0</td>\n",
              "      <td>KR 16 con CL 57</td>\n",
              "      <td>ns</td>\n",
              "      <td>16</td>\n",
              "    </tr>\n",
              "    <tr>\n",
              "      <th>280</th>\n",
              "      <td>4.698798,-74.045248</td>\n",
              "      <td>015 - CL 119 con KR 16</td>\n",
              "      <td>15.0</td>\n",
              "      <td>CL 119 con KR 16</td>\n",
              "      <td>ns</td>\n",
              "      <td>15</td>\n",
              "    </tr>\n",
              "    <tr>\n",
              "      <th>281</th>\n",
              "      <td>4.699656,-74.038118</td>\n",
              "      <td>238 - CL 120 con KR 11D</td>\n",
              "      <td>238.0</td>\n",
              "      <td>CL 120 con KR 11D</td>\n",
              "      <td>ns</td>\n",
              "      <td>13</td>\n",
              "    </tr>\n",
              "    <tr>\n",
              "      <th>282</th>\n",
              "      <td>4.6592193,-74.072547</td>\n",
              "      <td>297 - KR 27A con CL 66</td>\n",
              "      <td>297.0</td>\n",
              "      <td>KR 27A con CL 66</td>\n",
              "      <td>ns</td>\n",
              "      <td>12</td>\n",
              "    </tr>\n",
              "    <tr>\n",
              "      <th>283</th>\n",
              "      <td>4.665134,-74.061264</td>\n",
              "      <td>262 - KR 20B con CL 77</td>\n",
              "      <td>262.0</td>\n",
              "      <td>KR 20B con CL 77</td>\n",
              "      <td>ns</td>\n",
              "      <td>8</td>\n",
              "    </tr>\n",
              "  </tbody>\n",
              "</table>\n",
              "<p>284 rows × 6 columns</p>\n",
              "</div>\n",
              "      <button class=\"colab-df-convert\" onclick=\"convertToInteractive('df-4d251b0b-df75-4700-9599-6fa794cf31a4')\"\n",
              "              title=\"Convert this dataframe to an interactive table.\"\n",
              "              style=\"display:none;\">\n",
              "        \n",
              "  <svg xmlns=\"http://www.w3.org/2000/svg\" height=\"24px\"viewBox=\"0 0 24 24\"\n",
              "       width=\"24px\">\n",
              "    <path d=\"M0 0h24v24H0V0z\" fill=\"none\"/>\n",
              "    <path d=\"M18.56 5.44l.94 2.06.94-2.06 2.06-.94-2.06-.94-.94-2.06-.94 2.06-2.06.94zm-11 1L8.5 8.5l.94-2.06 2.06-.94-2.06-.94L8.5 2.5l-.94 2.06-2.06.94zm10 10l.94 2.06.94-2.06 2.06-.94-2.06-.94-.94-2.06-.94 2.06-2.06.94z\"/><path d=\"M17.41 7.96l-1.37-1.37c-.4-.4-.92-.59-1.43-.59-.52 0-1.04.2-1.43.59L10.3 9.45l-7.72 7.72c-.78.78-.78 2.05 0 2.83L4 21.41c.39.39.9.59 1.41.59.51 0 1.02-.2 1.41-.59l7.78-7.78 2.81-2.81c.8-.78.8-2.07 0-2.86zM5.41 20L4 18.59l7.72-7.72 1.47 1.35L5.41 20z\"/>\n",
              "  </svg>\n",
              "      </button>\n",
              "      \n",
              "  <style>\n",
              "    .colab-df-container {\n",
              "      display:flex;\n",
              "      flex-wrap:wrap;\n",
              "      gap: 12px;\n",
              "    }\n",
              "\n",
              "    .colab-df-convert {\n",
              "      background-color: #E8F0FE;\n",
              "      border: none;\n",
              "      border-radius: 50%;\n",
              "      cursor: pointer;\n",
              "      display: none;\n",
              "      fill: #1967D2;\n",
              "      height: 32px;\n",
              "      padding: 0 0 0 0;\n",
              "      width: 32px;\n",
              "    }\n",
              "\n",
              "    .colab-df-convert:hover {\n",
              "      background-color: #E2EBFA;\n",
              "      box-shadow: 0px 1px 2px rgba(60, 64, 67, 0.3), 0px 1px 3px 1px rgba(60, 64, 67, 0.15);\n",
              "      fill: #174EA6;\n",
              "    }\n",
              "\n",
              "    [theme=dark] .colab-df-convert {\n",
              "      background-color: #3B4455;\n",
              "      fill: #D2E3FC;\n",
              "    }\n",
              "\n",
              "    [theme=dark] .colab-df-convert:hover {\n",
              "      background-color: #434B5C;\n",
              "      box-shadow: 0px 1px 3px 1px rgba(0, 0, 0, 0.15);\n",
              "      filter: drop-shadow(0px 1px 2px rgba(0, 0, 0, 0.3));\n",
              "      fill: #FFFFFF;\n",
              "    }\n",
              "  </style>\n",
              "\n",
              "      <script>\n",
              "        const buttonEl =\n",
              "          document.querySelector('#df-4d251b0b-df75-4700-9599-6fa794cf31a4 button.colab-df-convert');\n",
              "        buttonEl.style.display =\n",
              "          google.colab.kernel.accessAllowed ? 'block' : 'none';\n",
              "\n",
              "        async function convertToInteractive(key) {\n",
              "          const element = document.querySelector('#df-4d251b0b-df75-4700-9599-6fa794cf31a4');\n",
              "          const dataTable =\n",
              "            await google.colab.kernel.invokeFunction('convertToInteractive',\n",
              "                                                     [key], {});\n",
              "          if (!dataTable) return;\n",
              "\n",
              "          const docLinkHtml = 'Like what you see? Visit the ' +\n",
              "            '<a target=\"_blank\" href=https://colab.research.google.com/notebooks/data_table.ipynb>data table notebook</a>'\n",
              "            + ' to learn more about interactive tables.';\n",
              "          element.innerHTML = '';\n",
              "          dataTable['output_type'] = 'display_data';\n",
              "          await google.colab.output.renderOutput(dataTable, element);\n",
              "          const docLink = document.createElement('div');\n",
              "          docLink.innerHTML = docLinkHtml;\n",
              "          element.appendChild(docLink);\n",
              "        }\n",
              "      </script>\n",
              "    </div>\n",
              "  </div>\n",
              "  "
            ]
          },
          "metadata": {},
          "execution_count": 101
        }
      ]
    },
    {
      "cell_type": "code",
      "source": [
        "name = estaciones[\"Local de la Estación\"].str.split(',', expand=True)\n",
        "name.columns = ['latitud', 'longitud']"
      ],
      "metadata": {
        "id": "sifj0RfiR3lT"
      },
      "execution_count": 102,
      "outputs": []
    },
    {
      "cell_type": "code",
      "source": [
        "estaciones = pd.concat([estaciones, name], axis=1)\n"
      ],
      "metadata": {
        "id": "xUYp4chxSLUK"
      },
      "execution_count": 103,
      "outputs": []
    },
    {
      "cell_type": "code",
      "source": [
        "estaciones"
      ],
      "metadata": {
        "colab": {
          "base_uri": "https://localhost:8080/",
          "height": 0
        },
        "id": "xC3hl8TLSN-T",
        "outputId": "226ac8d9-71c2-49f3-d2e7-bc0f534e7d49"
      },
      "execution_count": 104,
      "outputs": [
        {
          "output_type": "execute_result",
          "data": {
            "text/plain": [
              "      Local de la Estación                       Estación  Codigo Estación  \\\n",
              "0                      NaN                            NaN              NaN   \n",
              "1    4.6658027,-74.0528436  001 - Centro Comercial Andino              1.0   \n",
              "2      4.631379,-74.064615                059 - U. Piloto             59.0   \n",
              "3    4.6433691,-74.0625285           091 - CL 57 con KR 7             91.0   \n",
              "4      4.663925,-74.053278  033 - Parque Vecinal El Nogal             33.0   \n",
              "..                     ...                            ...              ...   \n",
              "279  4.6449009,-74.0677208          274 - KR 16 con CL 57            274.0   \n",
              "280    4.698798,-74.045248         015 - CL 119 con KR 16             15.0   \n",
              "281    4.699656,-74.038118        238 - CL 120 con KR 11D            238.0   \n",
              "282   4.6592193,-74.072547         297 - KR 27A con CL 66            297.0   \n",
              "283    4.665134,-74.061264         262 - KR 20B con CL 77            262.0   \n",
              "\n",
              "             Nombre Estación  Localidad  sem25    latitud     longitud  \n",
              "0                        NaN         ns    585        NaN          NaN  \n",
              "1    Centro Comercial Andino  Chapinero    451  4.6658027  -74.0528436  \n",
              "2                  U. Piloto  Chapinero    378   4.631379   -74.064615  \n",
              "3             CL 57 con KR 7  Chapinero    312  4.6433691  -74.0625285  \n",
              "4    Parque Vecinal El Nogal  Chapinero    305   4.663925   -74.053278  \n",
              "..                       ...        ...    ...        ...          ...  \n",
              "279          KR 16 con CL 57         ns     16  4.6449009  -74.0677208  \n",
              "280         CL 119 con KR 16         ns     15   4.698798   -74.045248  \n",
              "281        CL 120 con KR 11D         ns     13   4.699656   -74.038118  \n",
              "282         KR 27A con CL 66         ns     12  4.6592193   -74.072547  \n",
              "283         KR 20B con CL 77         ns      8   4.665134   -74.061264  \n",
              "\n",
              "[284 rows x 8 columns]"
            ],
            "text/html": [
              "\n",
              "  <div id=\"df-86e01b6e-64ad-4fa7-9cf6-8a67a4a1ac2f\">\n",
              "    <div class=\"colab-df-container\">\n",
              "      <div>\n",
              "<style scoped>\n",
              "    .dataframe tbody tr th:only-of-type {\n",
              "        vertical-align: middle;\n",
              "    }\n",
              "\n",
              "    .dataframe tbody tr th {\n",
              "        vertical-align: top;\n",
              "    }\n",
              "\n",
              "    .dataframe thead th {\n",
              "        text-align: right;\n",
              "    }\n",
              "</style>\n",
              "<table border=\"1\" class=\"dataframe\">\n",
              "  <thead>\n",
              "    <tr style=\"text-align: right;\">\n",
              "      <th></th>\n",
              "      <th>Local de la Estación</th>\n",
              "      <th>Estación</th>\n",
              "      <th>Codigo Estación</th>\n",
              "      <th>Nombre Estación</th>\n",
              "      <th>Localidad</th>\n",
              "      <th>sem25</th>\n",
              "      <th>latitud</th>\n",
              "      <th>longitud</th>\n",
              "    </tr>\n",
              "  </thead>\n",
              "  <tbody>\n",
              "    <tr>\n",
              "      <th>0</th>\n",
              "      <td>NaN</td>\n",
              "      <td>NaN</td>\n",
              "      <td>NaN</td>\n",
              "      <td>NaN</td>\n",
              "      <td>ns</td>\n",
              "      <td>585</td>\n",
              "      <td>NaN</td>\n",
              "      <td>NaN</td>\n",
              "    </tr>\n",
              "    <tr>\n",
              "      <th>1</th>\n",
              "      <td>4.6658027,-74.0528436</td>\n",
              "      <td>001 - Centro Comercial Andino</td>\n",
              "      <td>1.0</td>\n",
              "      <td>Centro Comercial Andino</td>\n",
              "      <td>Chapinero</td>\n",
              "      <td>451</td>\n",
              "      <td>4.6658027</td>\n",
              "      <td>-74.0528436</td>\n",
              "    </tr>\n",
              "    <tr>\n",
              "      <th>2</th>\n",
              "      <td>4.631379,-74.064615</td>\n",
              "      <td>059 - U. Piloto</td>\n",
              "      <td>59.0</td>\n",
              "      <td>U. Piloto</td>\n",
              "      <td>Chapinero</td>\n",
              "      <td>378</td>\n",
              "      <td>4.631379</td>\n",
              "      <td>-74.064615</td>\n",
              "    </tr>\n",
              "    <tr>\n",
              "      <th>3</th>\n",
              "      <td>4.6433691,-74.0625285</td>\n",
              "      <td>091 - CL 57 con KR 7</td>\n",
              "      <td>91.0</td>\n",
              "      <td>CL 57 con KR 7</td>\n",
              "      <td>Chapinero</td>\n",
              "      <td>312</td>\n",
              "      <td>4.6433691</td>\n",
              "      <td>-74.0625285</td>\n",
              "    </tr>\n",
              "    <tr>\n",
              "      <th>4</th>\n",
              "      <td>4.663925,-74.053278</td>\n",
              "      <td>033 - Parque Vecinal El Nogal</td>\n",
              "      <td>33.0</td>\n",
              "      <td>Parque Vecinal El Nogal</td>\n",
              "      <td>Chapinero</td>\n",
              "      <td>305</td>\n",
              "      <td>4.663925</td>\n",
              "      <td>-74.053278</td>\n",
              "    </tr>\n",
              "    <tr>\n",
              "      <th>...</th>\n",
              "      <td>...</td>\n",
              "      <td>...</td>\n",
              "      <td>...</td>\n",
              "      <td>...</td>\n",
              "      <td>...</td>\n",
              "      <td>...</td>\n",
              "      <td>...</td>\n",
              "      <td>...</td>\n",
              "    </tr>\n",
              "    <tr>\n",
              "      <th>279</th>\n",
              "      <td>4.6449009,-74.0677208</td>\n",
              "      <td>274 - KR 16 con CL 57</td>\n",
              "      <td>274.0</td>\n",
              "      <td>KR 16 con CL 57</td>\n",
              "      <td>ns</td>\n",
              "      <td>16</td>\n",
              "      <td>4.6449009</td>\n",
              "      <td>-74.0677208</td>\n",
              "    </tr>\n",
              "    <tr>\n",
              "      <th>280</th>\n",
              "      <td>4.698798,-74.045248</td>\n",
              "      <td>015 - CL 119 con KR 16</td>\n",
              "      <td>15.0</td>\n",
              "      <td>CL 119 con KR 16</td>\n",
              "      <td>ns</td>\n",
              "      <td>15</td>\n",
              "      <td>4.698798</td>\n",
              "      <td>-74.045248</td>\n",
              "    </tr>\n",
              "    <tr>\n",
              "      <th>281</th>\n",
              "      <td>4.699656,-74.038118</td>\n",
              "      <td>238 - CL 120 con KR 11D</td>\n",
              "      <td>238.0</td>\n",
              "      <td>CL 120 con KR 11D</td>\n",
              "      <td>ns</td>\n",
              "      <td>13</td>\n",
              "      <td>4.699656</td>\n",
              "      <td>-74.038118</td>\n",
              "    </tr>\n",
              "    <tr>\n",
              "      <th>282</th>\n",
              "      <td>4.6592193,-74.072547</td>\n",
              "      <td>297 - KR 27A con CL 66</td>\n",
              "      <td>297.0</td>\n",
              "      <td>KR 27A con CL 66</td>\n",
              "      <td>ns</td>\n",
              "      <td>12</td>\n",
              "      <td>4.6592193</td>\n",
              "      <td>-74.072547</td>\n",
              "    </tr>\n",
              "    <tr>\n",
              "      <th>283</th>\n",
              "      <td>4.665134,-74.061264</td>\n",
              "      <td>262 - KR 20B con CL 77</td>\n",
              "      <td>262.0</td>\n",
              "      <td>KR 20B con CL 77</td>\n",
              "      <td>ns</td>\n",
              "      <td>8</td>\n",
              "      <td>4.665134</td>\n",
              "      <td>-74.061264</td>\n",
              "    </tr>\n",
              "  </tbody>\n",
              "</table>\n",
              "<p>284 rows × 8 columns</p>\n",
              "</div>\n",
              "      <button class=\"colab-df-convert\" onclick=\"convertToInteractive('df-86e01b6e-64ad-4fa7-9cf6-8a67a4a1ac2f')\"\n",
              "              title=\"Convert this dataframe to an interactive table.\"\n",
              "              style=\"display:none;\">\n",
              "        \n",
              "  <svg xmlns=\"http://www.w3.org/2000/svg\" height=\"24px\"viewBox=\"0 0 24 24\"\n",
              "       width=\"24px\">\n",
              "    <path d=\"M0 0h24v24H0V0z\" fill=\"none\"/>\n",
              "    <path d=\"M18.56 5.44l.94 2.06.94-2.06 2.06-.94-2.06-.94-.94-2.06-.94 2.06-2.06.94zm-11 1L8.5 8.5l.94-2.06 2.06-.94-2.06-.94L8.5 2.5l-.94 2.06-2.06.94zm10 10l.94 2.06.94-2.06 2.06-.94-2.06-.94-.94-2.06-.94 2.06-2.06.94z\"/><path d=\"M17.41 7.96l-1.37-1.37c-.4-.4-.92-.59-1.43-.59-.52 0-1.04.2-1.43.59L10.3 9.45l-7.72 7.72c-.78.78-.78 2.05 0 2.83L4 21.41c.39.39.9.59 1.41.59.51 0 1.02-.2 1.41-.59l7.78-7.78 2.81-2.81c.8-.78.8-2.07 0-2.86zM5.41 20L4 18.59l7.72-7.72 1.47 1.35L5.41 20z\"/>\n",
              "  </svg>\n",
              "      </button>\n",
              "      \n",
              "  <style>\n",
              "    .colab-df-container {\n",
              "      display:flex;\n",
              "      flex-wrap:wrap;\n",
              "      gap: 12px;\n",
              "    }\n",
              "\n",
              "    .colab-df-convert {\n",
              "      background-color: #E8F0FE;\n",
              "      border: none;\n",
              "      border-radius: 50%;\n",
              "      cursor: pointer;\n",
              "      display: none;\n",
              "      fill: #1967D2;\n",
              "      height: 32px;\n",
              "      padding: 0 0 0 0;\n",
              "      width: 32px;\n",
              "    }\n",
              "\n",
              "    .colab-df-convert:hover {\n",
              "      background-color: #E2EBFA;\n",
              "      box-shadow: 0px 1px 2px rgba(60, 64, 67, 0.3), 0px 1px 3px 1px rgba(60, 64, 67, 0.15);\n",
              "      fill: #174EA6;\n",
              "    }\n",
              "\n",
              "    [theme=dark] .colab-df-convert {\n",
              "      background-color: #3B4455;\n",
              "      fill: #D2E3FC;\n",
              "    }\n",
              "\n",
              "    [theme=dark] .colab-df-convert:hover {\n",
              "      background-color: #434B5C;\n",
              "      box-shadow: 0px 1px 3px 1px rgba(0, 0, 0, 0.15);\n",
              "      filter: drop-shadow(0px 1px 2px rgba(0, 0, 0, 0.3));\n",
              "      fill: #FFFFFF;\n",
              "    }\n",
              "  </style>\n",
              "\n",
              "      <script>\n",
              "        const buttonEl =\n",
              "          document.querySelector('#df-86e01b6e-64ad-4fa7-9cf6-8a67a4a1ac2f button.colab-df-convert');\n",
              "        buttonEl.style.display =\n",
              "          google.colab.kernel.accessAllowed ? 'block' : 'none';\n",
              "\n",
              "        async function convertToInteractive(key) {\n",
              "          const element = document.querySelector('#df-86e01b6e-64ad-4fa7-9cf6-8a67a4a1ac2f');\n",
              "          const dataTable =\n",
              "            await google.colab.kernel.invokeFunction('convertToInteractive',\n",
              "                                                     [key], {});\n",
              "          if (!dataTable) return;\n",
              "\n",
              "          const docLinkHtml = 'Like what you see? Visit the ' +\n",
              "            '<a target=\"_blank\" href=https://colab.research.google.com/notebooks/data_table.ipynb>data table notebook</a>'\n",
              "            + ' to learn more about interactive tables.';\n",
              "          element.innerHTML = '';\n",
              "          dataTable['output_type'] = 'display_data';\n",
              "          await google.colab.output.renderOutput(dataTable, element);\n",
              "          const docLink = document.createElement('div');\n",
              "          docLink.innerHTML = docLinkHtml;\n",
              "          element.appendChild(docLink);\n",
              "        }\n",
              "      </script>\n",
              "    </div>\n",
              "  </div>\n",
              "  "
            ]
          },
          "metadata": {},
          "execution_count": 104
        }
      ]
    },
    {
      "cell_type": "code",
      "source": [
        "estaciones['latitud'] = estaciones['latitud'].astype(float)\n",
        "estaciones['longitud'] = estaciones['longitud'].astype(float)"
      ],
      "metadata": {
        "id": "Eyj2rsZVWPxr"
      },
      "execution_count": 105,
      "outputs": []
    },
    {
      "cell_type": "code",
      "source": [
        "longitudes = estaciones[estaciones.columns[7:]].to_numpy()\n",
        "latitudes = estaciones[estaciones.columns[6:7]].to_numpy()"
      ],
      "metadata": {
        "id": "4-NcKasYV_MG"
      },
      "execution_count": 106,
      "outputs": []
    },
    {
      "cell_type": "code",
      "source": [
        "import matplotlib.pyplot as plt\n",
        "\n",
        "# Coordenadas de ejemplo\n",
        "#latitudes = [40.71, 41.88, 37.77]\n",
        "#longitudes = [-74.00, -87.63, -122.41]\n",
        "\n",
        "# Plotear las coordenadas en un mapa\n",
        "plt.plot(longitudes, latitudes, 'ro')\n",
        "plt.xlabel('Longitud')\n",
        "plt.ylabel('Latitud')\n",
        "plt.show()"
      ],
      "metadata": {
        "colab": {
          "base_uri": "https://localhost:8080/",
          "height": 0
        },
        "id": "VHJDlDw-R0zz",
        "outputId": "544ebe25-68a5-44b3-d57b-bf8a38583dac"
      },
      "execution_count": 107,
      "outputs": [
        {
          "output_type": "display_data",
          "data": {
            "text/plain": [
              "<Figure size 640x480 with 1 Axes>"
            ],
            "image/png": "[encoded data removed]"
          },
          "metadata": {}
        }
      ]
    },
    {
      "cell_type": "markdown",
      "source": [
        "# Chapinero \n"
      ],
      "metadata": {
        "id": "mmakvlyyhHOo"
      }
    },
    {
      "cell_type": "code",
      "source": [
        "solo_chapi"
      ],
      "metadata": {
        "colab": {
          "base_uri": "https://localhost:8080/",
          "height": 0
        },
        "id": "WLDYrt_wqNfj",
        "outputId": "4997f1d6-8076-45f7-c567-889715d40479"
      },
      "execution_count": 108,
      "outputs": [
        {
          "output_type": "execute_result",
          "data": {
            "text/plain": [
              "     Local de la Estación                       Estación  Localidad  cod  \\\n",
              "0   4.6658027,-74.0528436  001 - Centro Comercial Andino  Chapinero    1   \n",
              "1     4.631379,-74.064615                059 - U. Piloto  Chapinero    2   \n",
              "2   4.6433691,-74.0625285           091 - CL 57 con KR 7  Chapinero    3   \n",
              "3     4.663925,-74.053278  033 - Parque Vecinal El Nogal  Chapinero    4   \n",
              "4   4.6392705,-74.0651798          057 - KR 13 con CL 52  Chapinero    5   \n",
              "..                    ...                            ...        ...  ...   \n",
              "76  4.6665425,-74.0603188           161 - Est. TM Heroes  Chapinero   77   \n",
              "77    4.663703,-74.060099         189 - KR 16A con CL 76  Chapinero   78   \n",
              "78  4.6271214,-74.0688566          020 - AK 14 con CL 39  Chapinero   79   \n",
              "79  4.6282058,-74.0801588     019 - AK 30 con CL 39Bis B  Chapinero   80   \n",
              "80    4.664624,-74.059971                  191 - Unilago  Chapinero   81   \n",
              "\n",
              "    Codigo Estación          Nombre Estación  demanda  \n",
              "0                 1  Centro Comercial Andino      451  \n",
              "1                59                U. Piloto      378  \n",
              "2                91           CL 57 con KR 7      312  \n",
              "3                33  Parque Vecinal El Nogal      305  \n",
              "4                57          KR 13 con CL 52      292  \n",
              "..              ...                      ...      ...  \n",
              "76              161           Est. TM Heroes       40  \n",
              "77              189         KR 16A con CL 76       32  \n",
              "78               20          AK 14 con CL 39       28  \n",
              "79               19     AK 30 con CL 39Bis B       28  \n",
              "80              191                  Unilago       26  \n",
              "\n",
              "[81 rows x 7 columns]"
            ],
            "text/html": [
              "\n",
              "  <div id=\"df-3364c9e6-b677-45b3-93e2-eff0dc4d90b3\">\n",
              "    <div class=\"colab-df-container\">\n",
              "      <div>\n",
              "<style scoped>\n",
              "    .dataframe tbody tr th:only-of-type {\n",
              "        vertical-align: middle;\n",
              "    }\n",
              "\n",
              "    .dataframe tbody tr th {\n",
              "        vertical-align: top;\n",
              "    }\n",
              "\n",
              "    .dataframe thead th {\n",
              "        text-align: right;\n",
              "    }\n",
              "</style>\n",
              "<table border=\"1\" class=\"dataframe\">\n",
              "  <thead>\n",
              "    <tr style=\"text-align: right;\">\n",
              "      <th></th>\n",
              "      <th>Local de la Estación</th>\n",
              "      <th>Estación</th>\n",
              "      <th>Localidad</th>\n",
              "      <th>cod</th>\n",
              "      <th>Codigo Estación</th>\n",
              "      <th>Nombre Estación</th>\n",
              "      <th>demanda</th>\n",
              "    </tr>\n",
              "  </thead>\n",
              "  <tbody>\n",
              "    <tr>\n",
              "      <th>0</th>\n",
              "      <td>4.6658027,-74.0528436</td>\n",
              "      <td>001 - Centro Comercial Andino</td>\n",
              "      <td>Chapinero</td>\n",
              "      <td>1</td>\n",
              "      <td>1</td>\n",
              "      <td>Centro Comercial Andino</td>\n",
              "      <td>451</td>\n",
              "    </tr>\n",
              "    <tr>\n",
              "      <th>1</th>\n",
              "      <td>4.631379,-74.064615</td>\n",
              "      <td>059 - U. Piloto</td>\n",
              "      <td>Chapinero</td>\n",
              "      <td>2</td>\n",
              "      <td>59</td>\n",
              "      <td>U. Piloto</td>\n",
              "      <td>378</td>\n",
              "    </tr>\n",
              "    <tr>\n",
              "      <th>2</th>\n",
              "      <td>4.6433691,-74.0625285</td>\n",
              "      <td>091 - CL 57 con KR 7</td>\n",
              "      <td>Chapinero</td>\n",
              "      <td>3</td>\n",
              "      <td>91</td>\n",
              "      <td>CL 57 con KR 7</td>\n",
              "      <td>312</td>\n",
              "    </tr>\n",
              "    <tr>\n",
              "      <th>3</th>\n",
              "      <td>4.663925,-74.053278</td>\n",
              "      <td>033 - Parque Vecinal El Nogal</td>\n",
              "      <td>Chapinero</td>\n",
              "      <td>4</td>\n",
              "      <td>33</td>\n",
              "      <td>Parque Vecinal El Nogal</td>\n",
              "      <td>305</td>\n",
              "    </tr>\n",
              "    <tr>\n",
              "      <th>4</th>\n",
              "      <td>4.6392705,-74.0651798</td>\n",
              "      <td>057 - KR 13 con CL 52</td>\n",
              "      <td>Chapinero</td>\n",
              "      <td>5</td>\n",
              "      <td>57</td>\n",
              "      <td>KR 13 con CL 52</td>\n",
              "      <td>292</td>\n",
              "    </tr>\n",
              "    <tr>\n",
              "      <th>...</th>\n",
              "      <td>...</td>\n",
              "      <td>...</td>\n",
              "      <td>...</td>\n",
              "      <td>...</td>\n",
              "      <td>...</td>\n",
              "      <td>...</td>\n",
              "      <td>...</td>\n",
              "    </tr>\n",
              "    <tr>\n",
              "      <th>76</th>\n",
              "      <td>4.6665425,-74.0603188</td>\n",
              "      <td>161 - Est. TM Heroes</td>\n",
              "      <td>Chapinero</td>\n",
              "      <td>77</td>\n",
              "      <td>161</td>\n",
              "      <td>Est. TM Heroes</td>\n",
              "      <td>40</td>\n",
              "    </tr>\n",
              "    <tr>\n",
              "      <th>77</th>\n",
              "      <td>4.663703,-74.060099</td>\n",
              "      <td>189 - KR 16A con CL 76</td>\n",
              "      <td>Chapinero</td>\n",
              "      <td>78</td>\n",
              "      <td>189</td>\n",
              "      <td>KR 16A con CL 76</td>\n",
              "      <td>32</td>\n",
              "    </tr>\n",
              "    <tr>\n",
              "      <th>78</th>\n",
              "      <td>4.6271214,-74.0688566</td>\n",
              "      <td>020 - AK 14 con CL 39</td>\n",
              "      <td>Chapinero</td>\n",
              "      <td>79</td>\n",
              "      <td>20</td>\n",
              "      <td>AK 14 con CL 39</td>\n",
              "      <td>28</td>\n",
              "    </tr>\n",
              "    <tr>\n",
              "      <th>79</th>\n",
              "      <td>4.6282058,-74.0801588</td>\n",
              "      <td>019 - AK 30 con CL 39Bis B</td>\n",
              "      <td>Chapinero</td>\n",
              "      <td>80</td>\n",
              "      <td>19</td>\n",
              "      <td>AK 30 con CL 39Bis B</td>\n",
              "      <td>28</td>\n",
              "    </tr>\n",
              "    <tr>\n",
              "      <th>80</th>\n",
              "      <td>4.664624,-74.059971</td>\n",
              "      <td>191 - Unilago</td>\n",
              "      <td>Chapinero</td>\n",
              "      <td>81</td>\n",
              "      <td>191</td>\n",
              "      <td>Unilago</td>\n",
              "      <td>26</td>\n",
              "    </tr>\n",
              "  </tbody>\n",
              "</table>\n",
              "<p>81 rows × 7 columns</p>\n",
              "</div>\n",
              "      <button class=\"colab-df-convert\" onclick=\"convertToInteractive('df-3364c9e6-b677-45b3-93e2-eff0dc4d90b3')\"\n",
              "              title=\"Convert this dataframe to an interactive table.\"\n",
              "              style=\"display:none;\">\n",
              "        \n",
              "  <svg xmlns=\"http://www.w3.org/2000/svg\" height=\"24px\"viewBox=\"0 0 24 24\"\n",
              "       width=\"24px\">\n",
              "    <path d=\"M0 0h24v24H0V0z\" fill=\"none\"/>\n",
              "    <path d=\"M18.56 5.44l.94 2.06.94-2.06 2.06-.94-2.06-.94-.94-2.06-.94 2.06-2.06.94zm-11 1L8.5 8.5l.94-2.06 2.06-.94-2.06-.94L8.5 2.5l-.94 2.06-2.06.94zm10 10l.94 2.06.94-2.06 2.06-.94-2.06-.94-.94-2.06-.94 2.06-2.06.94z\"/><path d=\"M17.41 7.96l-1.37-1.37c-.4-.4-.92-.59-1.43-.59-.52 0-1.04.2-1.43.59L10.3 9.45l-7.72 7.72c-.78.78-.78 2.05 0 2.83L4 21.41c.39.39.9.59 1.41.59.51 0 1.02-.2 1.41-.59l7.78-7.78 2.81-2.81c.8-.78.8-2.07 0-2.86zM5.41 20L4 18.59l7.72-7.72 1.47 1.35L5.41 20z\"/>\n",
              "  </svg>\n",
              "      </button>\n",
              "      \n",
              "  <style>\n",
              "    .colab-df-container {\n",
              "      display:flex;\n",
              "      flex-wrap:wrap;\n",
              "      gap: 12px;\n",
              "    }\n",
              "\n",
              "    .colab-df-convert {\n",
              "      background-color: #E8F0FE;\n",
              "      border: none;\n",
              "      border-radius: 50%;\n",
              "      cursor: pointer;\n",
              "      display: none;\n",
              "      fill: #1967D2;\n",
              "      height: 32px;\n",
              "      padding: 0 0 0 0;\n",
              "      width: 32px;\n",
              "    }\n",
              "\n",
              "    .colab-df-convert:hover {\n",
              "      background-color: #E2EBFA;\n",
              "      box-shadow: 0px 1px 2px rgba(60, 64, 67, 0.3), 0px 1px 3px 1px rgba(60, 64, 67, 0.15);\n",
              "      fill: #174EA6;\n",
              "    }\n",
              "\n",
              "    [theme=dark] .colab-df-convert {\n",
              "      background-color: #3B4455;\n",
              "      fill: #D2E3FC;\n",
              "    }\n",
              "\n",
              "    [theme=dark] .colab-df-convert:hover {\n",
              "      background-color: #434B5C;\n",
              "      box-shadow: 0px 1px 3px 1px rgba(0, 0, 0, 0.15);\n",
              "      filter: drop-shadow(0px 1px 2px rgba(0, 0, 0, 0.3));\n",
              "      fill: #FFFFFF;\n",
              "    }\n",
              "  </style>\n",
              "\n",
              "      <script>\n",
              "        const buttonEl =\n",
              "          document.querySelector('#df-3364c9e6-b677-45b3-93e2-eff0dc4d90b3 button.colab-df-convert');\n",
              "        buttonEl.style.display =\n",
              "          google.colab.kernel.accessAllowed ? 'block' : 'none';\n",
              "\n",
              "        async function convertToInteractive(key) {\n",
              "          const element = document.querySelector('#df-3364c9e6-b677-45b3-93e2-eff0dc4d90b3');\n",
              "          const dataTable =\n",
              "            await google.colab.kernel.invokeFunction('convertToInteractive',\n",
              "                                                     [key], {});\n",
              "          if (!dataTable) return;\n",
              "\n",
              "          const docLinkHtml = 'Like what you see? Visit the ' +\n",
              "            '<a target=\"_blank\" href=https://colab.research.google.com/notebooks/data_table.ipynb>data table notebook</a>'\n",
              "            + ' to learn more about interactive tables.';\n",
              "          element.innerHTML = '';\n",
              "          dataTable['output_type'] = 'display_data';\n",
              "          await google.colab.output.renderOutput(dataTable, element);\n",
              "          const docLink = document.createElement('div');\n",
              "          docLink.innerHTML = docLinkHtml;\n",
              "          element.appendChild(docLink);\n",
              "        }\n",
              "      </script>\n",
              "    </div>\n",
              "  </div>\n",
              "  "
            ]
          },
          "metadata": {},
          "execution_count": 108
        }
      ]
    },
    {
      "cell_type": "code",
      "source": [
        "name = solo_chapi[\"Local de la Estación\"].str.split(',', expand=True)\n",
        "name.columns = ['latitud', 'longitud']"
      ],
      "metadata": {
        "id": "-BfndnQqqrW0"
      },
      "execution_count": 109,
      "outputs": []
    },
    {
      "cell_type": "code",
      "source": [
        "solo_chapi = pd.concat([solo_chapi, name], axis=1)\n"
      ],
      "metadata": {
        "id": "4NsrZv2YqrW0"
      },
      "execution_count": 110,
      "outputs": []
    },
    {
      "cell_type": "code",
      "source": [
        "solo_chapi['latitud'] = solo_chapi['latitud'].astype(float)\n",
        "solo_chapi['longitud'] = solo_chapi['longitud'].astype(float)"
      ],
      "metadata": {
        "id": "XSOe3TueqrW1"
      },
      "execution_count": 111,
      "outputs": []
    },
    {
      "cell_type": "code",
      "source": [
        "solo_chapi"
      ],
      "metadata": {
        "colab": {
          "base_uri": "https://localhost:8080/",
          "height": 0
        },
        "id": "7DiDBBT8NegX",
        "outputId": "b6d913aa-c68b-4a87-9387-6b13674c310a"
      },
      "execution_count": 112,
      "outputs": [
        {
          "output_type": "execute_result",
          "data": {
            "text/plain": [
              "     Local de la Estación                       Estación  Localidad  cod  \\\n",
              "0   4.6658027,-74.0528436  001 - Centro Comercial Andino  Chapinero    1   \n",
              "1     4.631379,-74.064615                059 - U. Piloto  Chapinero    2   \n",
              "2   4.6433691,-74.0625285           091 - CL 57 con KR 7  Chapinero    3   \n",
              "3     4.663925,-74.053278  033 - Parque Vecinal El Nogal  Chapinero    4   \n",
              "4   4.6392705,-74.0651798          057 - KR 13 con CL 52  Chapinero    5   \n",
              "..                    ...                            ...        ...  ...   \n",
              "76  4.6665425,-74.0603188           161 - Est. TM Heroes  Chapinero   77   \n",
              "77    4.663703,-74.060099         189 - KR 16A con CL 76  Chapinero   78   \n",
              "78  4.6271214,-74.0688566          020 - AK 14 con CL 39  Chapinero   79   \n",
              "79  4.6282058,-74.0801588     019 - AK 30 con CL 39Bis B  Chapinero   80   \n",
              "80    4.664624,-74.059971                  191 - Unilago  Chapinero   81   \n",
              "\n",
              "    Codigo Estación          Nombre Estación  demanda   latitud   longitud  \n",
              "0                 1  Centro Comercial Andino      451  4.665803 -74.052844  \n",
              "1                59                U. Piloto      378  4.631379 -74.064615  \n",
              "2                91           CL 57 con KR 7      312  4.643369 -74.062528  \n",
              "3                33  Parque Vecinal El Nogal      305  4.663925 -74.053278  \n",
              "4                57          KR 13 con CL 52      292  4.639271 -74.065180  \n",
              "..              ...                      ...      ...       ...        ...  \n",
              "76              161           Est. TM Heroes       40  4.666543 -74.060319  \n",
              "77              189         KR 16A con CL 76       32  4.663703 -74.060099  \n",
              "78               20          AK 14 con CL 39       28  4.627121 -74.068857  \n",
              "79               19     AK 30 con CL 39Bis B       28  4.628206 -74.080159  \n",
              "80              191                  Unilago       26  4.664624 -74.059971  \n",
              "\n",
              "[81 rows x 9 columns]"
            ],
            "text/html": [
              "\n",
              "  <div id=\"df-6524a251-96fd-4fde-b898-55393d6b9748\">\n",
              "    <div class=\"colab-df-container\">\n",
              "      <div>\n",
              "<style scoped>\n",
              "    .dataframe tbody tr th:only-of-type {\n",
              "        vertical-align: middle;\n",
              "    }\n",
              "\n",
              "    .dataframe tbody tr th {\n",
              "        vertical-align: top;\n",
              "    }\n",
              "\n",
              "    .dataframe thead th {\n",
              "        text-align: right;\n",
              "    }\n",
              "</style>\n",
              "<table border=\"1\" class=\"dataframe\">\n",
              "  <thead>\n",
              "    <tr style=\"text-align: right;\">\n",
              "      <th></th>\n",
              "      <th>Local de la Estación</th>\n",
              "      <th>Estación</th>\n",
              "      <th>Localidad</th>\n",
              "      <th>cod</th>\n",
              "      <th>Codigo Estación</th>\n",
              "      <th>Nombre Estación</th>\n",
              "      <th>demanda</th>\n",
              "      <th>latitud</th>\n",
              "      <th>longitud</th>\n",
              "    </tr>\n",
              "  </thead>\n",
              "  <tbody>\n",
              "    <tr>\n",
              "      <th>0</th>\n",
              "      <td>4.6658027,-74.0528436</td>\n",
              "      <td>001 - Centro Comercial Andino</td>\n",
              "      <td>Chapinero</td>\n",
              "      <td>1</td>\n",
              "      <td>1</td>\n",
              "      <td>Centro Comercial Andino</td>\n",
              "      <td>451</td>\n",
              "      <td>4.665803</td>\n",
              "      <td>-74.052844</td>\n",
              "    </tr>\n",
              "    <tr>\n",
              "      <th>1</th>\n",
              "      <td>4.631379,-74.064615</td>\n",
              "      <td>059 - U. Piloto</td>\n",
              "      <td>Chapinero</td>\n",
              "      <td>2</td>\n",
              "      <td>59</td>\n",
              "      <td>U. Piloto</td>\n",
              "      <td>378</td>\n",
              "      <td>4.631379</td>\n",
              "      <td>-74.064615</td>\n",
              "    </tr>\n",
              "    <tr>\n",
              "      <th>2</th>\n",
              "      <td>4.6433691,-74.0625285</td>\n",
              "      <td>091 - CL 57 con KR 7</td>\n",
              "      <td>Chapinero</td>\n",
              "      <td>3</td>\n",
              "      <td>91</td>\n",
              "      <td>CL 57 con KR 7</td>\n",
              "      <td>312</td>\n",
              "      <td>4.643369</td>\n",
              "      <td>-74.062528</td>\n",
              "    </tr>\n",
              "    <tr>\n",
              "      <th>3</th>\n",
              "      <td>4.663925,-74.053278</td>\n",
              "      <td>033 - Parque Vecinal El Nogal</td>\n",
              "      <td>Chapinero</td>\n",
              "      <td>4</td>\n",
              "      <td>33</td>\n",
              "      <td>Parque Vecinal El Nogal</td>\n",
              "      <td>305</td>\n",
              "      <td>4.663925</td>\n",
              "      <td>-74.053278</td>\n",
              "    </tr>\n",
              "    <tr>\n",
              "      <th>4</th>\n",
              "      <td>4.6392705,-74.0651798</td>\n",
              "      <td>057 - KR 13 con CL 52</td>\n",
              "      <td>Chapinero</td>\n",
              "      <td>5</td>\n",
              "      <td>57</td>\n",
              "      <td>KR 13 con CL 52</td>\n",
              "      <td>292</td>\n",
              "      <td>4.639271</td>\n",
              "      <td>-74.065180</td>\n",
              "    </tr>\n",
              "    <tr>\n",
              "      <th>...</th>\n",
              "      <td>...</td>\n",
              "      <td>...</td>\n",
              "      <td>...</td>\n",
              "      <td>...</td>\n",
              "      <td>...</td>\n",
              "      <td>...</td>\n",
              "      <td>...</td>\n",
              "      <td>...</td>\n",
              "      <td>...</td>\n",
              "    </tr>\n",
              "    <tr>\n",
              "      <th>76</th>\n",
              "      <td>4.6665425,-74.0603188</td>\n",
              "      <td>161 - Est. TM Heroes</td>\n",
              "      <td>Chapinero</td>\n",
              "      <td>77</td>\n",
              "      <td>161</td>\n",
              "      <td>Est. TM Heroes</td>\n",
              "      <td>40</td>\n",
              "      <td>4.666543</td>\n",
              "      <td>-74.060319</td>\n",
              "    </tr>\n",
              "    <tr>\n",
              "      <th>77</th>\n",
              "      <td>4.663703,-74.060099</td>\n",
              "      <td>189 - KR 16A con CL 76</td>\n",
              "      <td>Chapinero</td>\n",
              "      <td>78</td>\n",
              "      <td>189</td>\n",
              "      <td>KR 16A con CL 76</td>\n",
              "      <td>32</td>\n",
              "      <td>4.663703</td>\n",
              "      <td>-74.060099</td>\n",
              "    </tr>\n",
              "    <tr>\n",
              "      <th>78</th>\n",
              "      <td>4.6271214,-74.0688566</td>\n",
              "      <td>020 - AK 14 con CL 39</td>\n",
              "      <td>Chapinero</td>\n",
              "      <td>79</td>\n",
              "      <td>20</td>\n",
              "      <td>AK 14 con CL 39</td>\n",
              "      <td>28</td>\n",
              "      <td>4.627121</td>\n",
              "      <td>-74.068857</td>\n",
              "    </tr>\n",
              "    <tr>\n",
              "      <th>79</th>\n",
              "      <td>4.6282058,-74.0801588</td>\n",
              "      <td>019 - AK 30 con CL 39Bis B</td>\n",
              "      <td>Chapinero</td>\n",
              "      <td>80</td>\n",
              "      <td>19</td>\n",
              "      <td>AK 30 con CL 39Bis B</td>\n",
              "      <td>28</td>\n",
              "      <td>4.628206</td>\n",
              "      <td>-74.080159</td>\n",
              "    </tr>\n",
              "    <tr>\n",
              "      <th>80</th>\n",
              "      <td>4.664624,-74.059971</td>\n",
              "      <td>191 - Unilago</td>\n",
              "      <td>Chapinero</td>\n",
              "      <td>81</td>\n",
              "      <td>191</td>\n",
              "      <td>Unilago</td>\n",
              "      <td>26</td>\n",
              "      <td>4.664624</td>\n",
              "      <td>-74.059971</td>\n",
              "    </tr>\n",
              "  </tbody>\n",
              "</table>\n",
              "<p>81 rows × 9 columns</p>\n",
              "</div>\n",
              "      <button class=\"colab-df-convert\" onclick=\"convertToInteractive('df-6524a251-96fd-4fde-b898-55393d6b9748')\"\n",
              "              title=\"Convert this dataframe to an interactive table.\"\n",
              "              style=\"display:none;\">\n",
              "        \n",
              "  <svg xmlns=\"http://www.w3.org/2000/svg\" height=\"24px\"viewBox=\"0 0 24 24\"\n",
              "       width=\"24px\">\n",
              "    <path d=\"M0 0h24v24H0V0z\" fill=\"none\"/>\n",
              "    <path d=\"M18.56 5.44l.94 2.06.94-2.06 2.06-.94-2.06-.94-.94-2.06-.94 2.06-2.06.94zm-11 1L8.5 8.5l.94-2.06 2.06-.94-2.06-.94L8.5 2.5l-.94 2.06-2.06.94zm10 10l.94 2.06.94-2.06 2.06-.94-2.06-.94-.94-2.06-.94 2.06-2.06.94z\"/><path d=\"M17.41 7.96l-1.37-1.37c-.4-.4-.92-.59-1.43-.59-.52 0-1.04.2-1.43.59L10.3 9.45l-7.72 7.72c-.78.78-.78 2.05 0 2.83L4 21.41c.39.39.9.59 1.41.59.51 0 1.02-.2 1.41-.59l7.78-7.78 2.81-2.81c.8-.78.8-2.07 0-2.86zM5.41 20L4 18.59l7.72-7.72 1.47 1.35L5.41 20z\"/>\n",
              "  </svg>\n",
              "      </button>\n",
              "      \n",
              "  <style>\n",
              "    .colab-df-container {\n",
              "      display:flex;\n",
              "      flex-wrap:wrap;\n",
              "      gap: 12px;\n",
              "    }\n",
              "\n",
              "    .colab-df-convert {\n",
              "      background-color: #E8F0FE;\n",
              "      border: none;\n",
              "      border-radius: 50%;\n",
              "      cursor: pointer;\n",
              "      display: none;\n",
              "      fill: #1967D2;\n",
              "      height: 32px;\n",
              "      padding: 0 0 0 0;\n",
              "      width: 32px;\n",
              "    }\n",
              "\n",
              "    .colab-df-convert:hover {\n",
              "      background-color: #E2EBFA;\n",
              "      box-shadow: 0px 1px 2px rgba(60, 64, 67, 0.3), 0px 1px 3px 1px rgba(60, 64, 67, 0.15);\n",
              "      fill: #174EA6;\n",
              "    }\n",
              "\n",
              "    [theme=dark] .colab-df-convert {\n",
              "      background-color: #3B4455;\n",
              "      fill: #D2E3FC;\n",
              "    }\n",
              "\n",
              "    [theme=dark] .colab-df-convert:hover {\n",
              "      background-color: #434B5C;\n",
              "      box-shadow: 0px 1px 3px 1px rgba(0, 0, 0, 0.15);\n",
              "      filter: drop-shadow(0px 1px 2px rgba(0, 0, 0, 0.3));\n",
              "      fill: #FFFFFF;\n",
              "    }\n",
              "  </style>\n",
              "\n",
              "      <script>\n",
              "        const buttonEl =\n",
              "          document.querySelector('#df-6524a251-96fd-4fde-b898-55393d6b9748 button.colab-df-convert');\n",
              "        buttonEl.style.display =\n",
              "          google.colab.kernel.accessAllowed ? 'block' : 'none';\n",
              "\n",
              "        async function convertToInteractive(key) {\n",
              "          const element = document.querySelector('#df-6524a251-96fd-4fde-b898-55393d6b9748');\n",
              "          const dataTable =\n",
              "            await google.colab.kernel.invokeFunction('convertToInteractive',\n",
              "                                                     [key], {});\n",
              "          if (!dataTable) return;\n",
              "\n",
              "          const docLinkHtml = 'Like what you see? Visit the ' +\n",
              "            '<a target=\"_blank\" href=https://colab.research.google.com/notebooks/data_table.ipynb>data table notebook</a>'\n",
              "            + ' to learn more about interactive tables.';\n",
              "          element.innerHTML = '';\n",
              "          dataTable['output_type'] = 'display_data';\n",
              "          await google.colab.output.renderOutput(dataTable, element);\n",
              "          const docLink = document.createElement('div');\n",
              "          docLink.innerHTML = docLinkHtml;\n",
              "          element.appendChild(docLink);\n",
              "        }\n",
              "      </script>\n",
              "    </div>\n",
              "  </div>\n",
              "  "
            ]
          },
          "metadata": {},
          "execution_count": 112
        }
      ]
    },
    {
      "cell_type": "markdown",
      "source": [
        "Distancias"
      ],
      "metadata": {
        "id": "O6-y3ROUh_wq"
      }
    },
    {
      "cell_type": "code",
      "source": [
        "import pandas as pd\n",
        "from geopy.distance import distance\n",
        "import numpy as np\n",
        "\n",
        "# Leer la base de datos de estaciones\n",
        "solo_chapi\n",
        "# Crear matriz de distancias\n",
        "num_estaciones = len(solo_chapi)\n",
        "distancias = np.zeros((num_estaciones, num_estaciones))\n",
        "\n",
        "for i in range(num_estaciones):\n",
        "    for j in range(i+1, num_estaciones):\n",
        "        # Calcular la distancia entre las estaciones i y j\n",
        "        coords_i = (solo_chapi['latitud'][i], solo_chapi['longitud'][i])\n",
        "        coords_j = (solo_chapi['latitud'][j], solo_chapi['longitud'][j])\n",
        "        dist = distance(coords_i, coords_j).km\n",
        "        \n",
        "        # Almacenar la distancia en la matriz\n",
        "        distancias[i, j] = dist\n",
        "        distancias[j, i] = dist\n",
        "        "
      ],
      "metadata": {
        "id": "TthDwC65SUjL"
      },
      "execution_count": 113,
      "outputs": []
    },
    {
      "cell_type": "code",
      "source": [
        "# Mostrar la matriz de distancias\n",
        "print(distancias)"
      ],
      "metadata": {
        "colab": {
          "base_uri": "https://localhost:8080/"
        },
        "id": "xCQWE3Z_fnxA",
        "outputId": "88561168-4c05-4607-8b99-0456185be404"
      },
      "execution_count": 114,
      "outputs": [
        {
          "output_type": "stream",
          "name": "stdout",
          "text": [
            "[[0.         4.0244647  2.70348329 ... 4.63176907 5.14496494 0.8014771 ]\n",
            " [4.0244647  0.         1.34594415 ... 0.66570889 1.76005293 3.71222008]\n",
            " [2.70348329 1.34594415 0.         ... 1.9290237  2.57650623 2.36746839]\n",
            " ...\n",
            " [4.63176907 0.66570889 1.9290237  ... 0.         1.25980098 4.26267853]\n",
            " [5.14496494 1.76005293 2.57650623 ... 1.25980098 0.         4.60821091]\n",
            " [0.8014771  3.71222008 2.36746839 ... 4.26267853 4.60821091 0.        ]]\n"
          ]
        }
      ]
    },
    {
      "cell_type": "code",
      "source": [],
      "metadata": {
        "id": "6mSSa1MEcMas"
      },
      "execution_count": 114,
      "outputs": []
    },
    {
      "cell_type": "code",
      "source": [],
      "metadata": {
        "id": "Yv0rIwo7cMQg"
      },
      "execution_count": 114,
      "outputs": []
    },
    {
      "cell_type": "markdown",
      "source": [
        "# Ejemplo modelo "
      ],
      "metadata": {
        "id": "OfHdEOcDi-3C"
      }
    },
    {
      "cell_type": "markdown",
      "source": [
        "Conjuntos"
      ],
      "metadata": {
        "id": "Zr7PQUCbPF7X"
      }
    },
    {
      "cell_type": "code",
      "source": [
        "# Conjuntos\n",
        "S = range(1, 40)  # Set of possible facility locations\n",
        "D = range(1, 82)  # Set of demand points\n",
        "T = [1, 2, 3]  # Set of facility sizes\n"
      ],
      "metadata": {
        "id": "qmArRX6yjWeZ"
      },
      "execution_count": 115,
      "outputs": []
    },
    {
      "cell_type": "markdown",
      "source": [
        "Parametros"
      ],
      "metadata": {
        "id": "ucVuXBNHPJ3j"
      }
    },
    {
      "cell_type": "code",
      "source": [
        "# Cost of building a facility of size t at location s\n",
        "C = {(s, t): 1000 + 500 * t for s in S for t in T} "
      ],
      "metadata": {
        "id": "aZP_aVPkjfyp"
      },
      "execution_count": 116,
      "outputs": []
    },
    {
      "cell_type": "code",
      "source": [
        "# Demanda\n",
        "demanda = solo_chapi.loc[:,['cod','demanda']]\n",
        "Dj = demanda.set_index('cod')['demanda'].to_dict()\n"
      ],
      "metadata": {
        "id": "2TrgSW__kBKy"
      },
      "execution_count": 117,
      "outputs": []
    },
    {
      "cell_type": "code",
      "source": [
        "# Maximum budget\n",
        "B = 100000  "
      ],
      "metadata": {
        "id": "jSYCVwpIlokZ"
      },
      "execution_count": 118,
      "outputs": []
    },
    {
      "cell_type": "code",
      "source": [
        "# Distance between facilities s and s'\n",
        "\n",
        "def distancia(i,j):\n",
        "  coords_i = (solo_chapi['latitud'][i], solo_chapi['longitud'][i])\n",
        "  coords_j = (solo_chapi['latitud'][j], solo_chapi['longitud'][j])\n",
        "  dist = distance(coords_i, coords_j).km\n",
        "  return dist\n",
        "\n",
        "d = {(s, s2): distancia(s,s2) for s in S for s2 in S}  "
      ],
      "metadata": {
        "id": "Wt3EtcYunpiy"
      },
      "execution_count": 119,
      "outputs": []
    },
    {
      "cell_type": "code",
      "source": [
        "# Maximum distance between facilities\n",
        "Dm = 6"
      ],
      "metadata": {
        "id": "0nZRa5W9Pa61"
      },
      "execution_count": 120,
      "outputs": []
    },
    {
      "cell_type": "code",
      "source": [
        "# Capacity of a facility of size t\n",
        "\n",
        "Q = {t:30 * t for t in T} "
      ],
      "metadata": {
        "id": "3FAuezD1PnBB"
      },
      "execution_count": 121,
      "outputs": []
    },
    {
      "cell_type": "code",
      "source": [
        "# 1 if facility s is within a fixed minimum distance from demand point j, 0 otherwise\n",
        "\n",
        "r = {(s, j): 1 for s in S for j in D} "
      ],
      "metadata": {
        "id": "uQoti7cSPqmp"
      },
      "execution_count": 122,
      "outputs": []
    },
    {
      "cell_type": "code",
      "source": [
        "# Crear modelo\n",
        "m = Model('Facility Location')"
      ],
      "metadata": {
        "id": "YrRYhjm3i9qy"
      },
      "execution_count": 123,
      "outputs": []
    },
    {
      "cell_type": "markdown",
      "source": [
        "Variables de decision"
      ],
      "metadata": {
        "id": "uWcMFYUNP5Xa"
      }
    },
    {
      "cell_type": "code",
      "source": [
        "# Crear variables de decisión\n",
        "x = m.addVars(S, T, vtype=GRB.BINARY, name=\"x\")  # 1 if facility of size t is built at location s\n",
        "y = m.addVars(S, D, vtype=GRB.BINARY, name=\"y\")  # 1 if facility s is assigned to serve demand point j"
      ],
      "metadata": {
        "id": "HLd2IcayP9EK"
      },
      "execution_count": 124,
      "outputs": []
    },
    {
      "cell_type": "markdown",
      "source": [
        "Funcion Objetivo"
      ],
      "metadata": {
        "id": "9kZ-JKv_P9gz"
      }
    },
    {
      "cell_type": "code",
      "source": [
        "# Función objetivo: maximizar la demanda total servida por las instalaciones\n",
        "m.setObjective(quicksum(Dj[j] * quicksum(y[s, j] for s in S) for j in D), GRB.MAXIMIZE)"
      ],
      "metadata": {
        "id": "ausoGryQP_JJ"
      },
      "execution_count": 125,
      "outputs": []
    },
    {
      "cell_type": "markdown",
      "source": [
        "Restricciones"
      ],
      "metadata": {
        "id": "0xCkWz5uQAnp"
      }
    },
    {
      "cell_type": "code",
      "source": [
        "# Restricción del presupuesto\n",
        "m.addConstr(quicksum(C[s, t] * x[s, t] for s in S for t in T) <= B, name=\"Budget\")\n",
        "\n",
        "# Restricción de asignación\n",
        "m.addConstrs(quicksum(y[s, j] for s in S) <= 1 for j in D)\n",
        "\n",
        "# Restricción de distancia mínima\n",
        "m.addConstrs(y[s, j] <= r[s, j] for s in S for j in D)\n",
        "\n",
        "# Restricción de capacidad\n",
        "m.addConstrs(quicksum(Dj[j] * y[s, j] for j in D) <= Q[t] * x[s, t] for s in S for t in T)\n",
        "\n",
        "# Restricción de distancia máxima entre instalaciones\n",
        "#m.addConstrs(quicksum((d[s, s2] * x[s, t] * x[s2, t2]) for s in S for s2 in S for t in T for t2 in T) <= Dm ** 2)\n",
        "\n",
        "# Vinculación entre las variables de asignación y construcción de instalaciones\n",
        "m.addConstrs(y[s, j] <= x[s, t] for s in S for j in D for t in T)\n",
        "\n",
        "m.addConstrs(quicksum(x[s,t] for t in T) <= 1 for s in S)\n"
      ],
      "metadata": {
        "colab": {
          "base_uri": "https://localhost:8080/"
        },
        "outputId": "34c4ce2f-479d-471a-bb9f-180b93a67f25",
        "id": "h3bkwpJii9qy"
      },
      "execution_count": 126,
      "outputs": [
        {
          "output_type": "execute_result",
          "data": {
            "text/plain": [
              "{1: <gurobi.Constr *Awaiting Model Update*>,\n",
              " 2: <gurobi.Constr *Awaiting Model Update*>,\n",
              " 3: <gurobi.Constr *Awaiting Model Update*>,\n",
              " 4: <gurobi.Constr *Awaiting Model Update*>,\n",
              " 5: <gurobi.Constr *Awaiting Model Update*>,\n",
              " 6: <gurobi.Constr *Awaiting Model Update*>,\n",
              " 7: <gurobi.Constr *Awaiting Model Update*>,\n",
              " 8: <gurobi.Constr *Awaiting Model Update*>,\n",
              " 9: <gurobi.Constr *Awaiting Model Update*>,\n",
              " 10: <gurobi.Constr *Awaiting Model Update*>,\n",
              " 11: <gurobi.Constr *Awaiting Model Update*>,\n",
              " 12: <gurobi.Constr *Awaiting Model Update*>,\n",
              " 13: <gurobi.Constr *Awaiting Model Update*>,\n",
              " 14: <gurobi.Constr *Awaiting Model Update*>,\n",
              " 15: <gurobi.Constr *Awaiting Model Update*>,\n",
              " 16: <gurobi.Constr *Awaiting Model Update*>,\n",
              " 17: <gurobi.Constr *Awaiting Model Update*>,\n",
              " 18: <gurobi.Constr *Awaiting Model Update*>,\n",
              " 19: <gurobi.Constr *Awaiting Model Update*>,\n",
              " 20: <gurobi.Constr *Awaiting Model Update*>,\n",
              " 21: <gurobi.Constr *Awaiting Model Update*>,\n",
              " 22: <gurobi.Constr *Awaiting Model Update*>,\n",
              " 23: <gurobi.Constr *Awaiting Model Update*>,\n",
              " 24: <gurobi.Constr *Awaiting Model Update*>,\n",
              " 25: <gurobi.Constr *Awaiting Model Update*>,\n",
              " 26: <gurobi.Constr *Awaiting Model Update*>,\n",
              " 27: <gurobi.Constr *Awaiting Model Update*>,\n",
              " 28: <gurobi.Constr *Awaiting Model Update*>,\n",
              " 29: <gurobi.Constr *Awaiting Model Update*>,\n",
              " 30: <gurobi.Constr *Awaiting Model Update*>,\n",
              " 31: <gurobi.Constr *Awaiting Model Update*>,\n",
              " 32: <gurobi.Constr *Awaiting Model Update*>,\n",
              " 33: <gurobi.Constr *Awaiting Model Update*>,\n",
              " 34: <gurobi.Constr *Awaiting Model Update*>,\n",
              " 35: <gurobi.Constr *Awaiting Model Update*>,\n",
              " 36: <gurobi.Constr *Awaiting Model Update*>,\n",
              " 37: <gurobi.Constr *Awaiting Model Update*>,\n",
              " 38: <gurobi.Constr *Awaiting Model Update*>,\n",
              " 39: <gurobi.Constr *Awaiting Model Update*>}"
            ]
          },
          "metadata": {},
          "execution_count": 126
        }
      ]
    },
    {
      "cell_type": "code",
      "source": [
        "# Optimizar modelo\n",
        "m.optimize()\n"
      ],
      "metadata": {
        "colab": {
          "base_uri": "https://localhost:8080/",
          "height": 304
        },
        "id": "Q5pBdCKTi9qy",
        "outputId": "2e8cd9ef-54f3-4010-d822-a19ca210f3b9"
      },
      "execution_count": 127,
      "outputs": [
        {
          "output_type": "stream",
          "name": "stdout",
          "text": [
            "Gurobi Optimizer version 10.0.1 build v10.0.1rc0 (linux64)\n",
            "\n",
            "CPU model: Intel(R) Xeon(R) CPU @ 2.20GHz, instruction set [SSE2|AVX|AVX2]\n",
            "Thread count: 1 physical cores, 2 logical processors, using up to 2 threads\n",
            "\n"
          ]
        },
        {
          "output_type": "error",
          "ename": "GurobiError",
          "evalue": "ignored",
          "traceback": [
            "\u001b[0;31m---------------------------------------------------------------------------\u001b[0m",
            "\u001b[0;31mGurobiError\u001b[0m                               Traceback (most recent call last)",
            "\u001b[0;32m<ipython-input-127-593bd42f7fc5>\u001b[0m in \u001b[0;36m<cell line: 2>\u001b[0;34m()\u001b[0m\n\u001b[1;32m      1\u001b[0m \u001b[0;31m# Optimizar modelo\u001b[0m\u001b[0;34m\u001b[0m\u001b[0;34m\u001b[0m\u001b[0m\n\u001b[0;32m----> 2\u001b[0;31m \u001b[0mm\u001b[0m\u001b[0;34m.\u001b[0m\u001b[0moptimize\u001b[0m\u001b[0;34m(\u001b[0m\u001b[0;34m)\u001b[0m\u001b[0;34m\u001b[0m\u001b[0;34m\u001b[0m\u001b[0m\n\u001b[0m",
            "\u001b[0;32msrc/gurobipy/model.pxi\u001b[0m in \u001b[0;36mgurobipy.Model.optimize\u001b[0;34m()\u001b[0m\n",
            "\u001b[0;31mGurobiError\u001b[0m: Model too large for size-limited license; visit https://www.gurobi.com/free-trial for a full license"
          ]
        }
      ]
    },
    {
      "cell_type": "code",
      "source": [
        "# Imprimir resultado\n",
        "if m.status == GRB.OPTIMAL:\n",
        "    print(f\"Objetivo: {m.objVal:.2f}\")\n",
        "    print(\"Instalaciones construidas:\")\n",
        "    for s in S:\n",
        "        for t in T:\n",
        "            if x[s, t].x > 0.5:\n",
        "                print(f\"Facility {s} of size {t} is built.\")\n",
        "                print(\"Demandas atendidas:\")\n",
        "                for j in D:\n",
        "                  for s in S:\n",
        "                    if y[s, j].x > 0.5:\n",
        "                      print(f\"Demand point {j} is served by facility {s}.\")\n",
        "                    #else:\n",
        "                      #print(\"El modelo no pudo ser resuelto.\")\n",
        "\n"
      ],
      "metadata": {
        "id": "jBtfihxxi9qy"
      },
      "execution_count": null,
      "outputs": []
    },
    {
      "cell_type": "code",
      "source": [],
      "metadata": {
        "id": "m-cgikszcMOI"
      },
      "execution_count": null,
      "outputs": []
    },
    {
      "cell_type": "code",
      "source": [],
      "metadata": {
        "id": "1VB3x9K0SUgS"
      },
      "execution_count": null,
      "outputs": []
    },
    {
      "cell_type": "code",
      "source": [],
      "metadata": {
        "id": "CmPBjg5qfW8A"
      },
      "execution_count": null,
      "outputs": []
    },
    {
      "cell_type": "markdown",
      "source": [
        "# Ejemplo 2 - Instancias creadas"
      ],
      "metadata": {
        "id": "QZtKlAGQfXHu"
      }
    },
    {
      "cell_type": "code",
      "source": [
        "pip install pulp"
      ],
      "metadata": {
        "colab": {
          "base_uri": "https://localhost:8080/"
        },
        "outputId": "0525b632-a416-45c6-92bc-4dc610fa67ba",
        "id": "WHTJR584fXHv"
      },
      "execution_count": 68,
      "outputs": [
        {
          "output_type": "stream",
          "name": "stdout",
          "text": [
            "Looking in indexes: https://pypi.org/simple, https://us-python.pkg.dev/colab-wheels/public/simple/\n",
            "Requirement already satisfied: pulp in /usr/local/lib/python3.9/dist-packages (2.7.0)\n"
          ]
        }
      ]
    },
    {
      "cell_type": "code",
      "source": [
        "pip install gurobipy"
      ],
      "metadata": {
        "colab": {
          "base_uri": "https://localhost:8080/"
        },
        "outputId": "f376aef1-ab35-4dc8-d6d8-b76e671bd1c7",
        "id": "tJGD2YrgfXHw"
      },
      "execution_count": 69,
      "outputs": [
        {
          "output_type": "stream",
          "name": "stdout",
          "text": [
            "Looking in indexes: https://pypi.org/simple, https://us-python.pkg.dev/colab-wheels/public/simple/\n",
            "Requirement already satisfied: gurobipy in /usr/local/lib/python3.9/dist-packages (10.0.1)\n"
          ]
        }
      ]
    },
    {
      "cell_type": "code",
      "source": [
        "import random\n",
        "from gurobipy import *"
      ],
      "metadata": {
        "id": "QT9qGlILfXHx"
      },
      "execution_count": 128,
      "outputs": []
    },
    {
      "cell_type": "code",
      "source": [
        "# Conjuntos\n",
        "S = list(range(1, 10))  # Set of possible facility locations\n",
        "D = list(range(1, 26))  # Set of demand points\n",
        "T = [1, 2, 3]  # Set of facility sizes"
      ],
      "metadata": {
        "id": "fLNIJwGwfXHx"
      },
      "execution_count": 170,
      "outputs": []
    },
    {
      "cell_type": "code",
      "source": [
        "C = {(s, t): 1000 + 500 * t for s in S for t in T}  # Cost of building a facility of size t at location s"
      ],
      "metadata": {
        "id": "sy1mBT_xhvyh"
      },
      "execution_count": 171,
      "outputs": []
    },
    {
      "cell_type": "code",
      "source": [
        "#demanda\n",
        "\n",
        "demanda = [ ]\n",
        " \n",
        "for i in range (25):\n",
        "    demanda.append(random.randint(1, 100))\n",
        " \n",
        "data = {'COD': D, 'demanda': demanda}\n",
        "\n",
        "df_demanda = pd.DataFrame(data)\n",
        "\n",
        "Dj = df_demanda.set_index('COD')['demanda'].to_dict()"
      ],
      "metadata": {
        "id": "-GLxnRgjfXHy"
      },
      "execution_count": 172,
      "outputs": []
    },
    {
      "cell_type": "code",
      "source": [
        "Dj"
      ],
      "metadata": {
        "colab": {
          "base_uri": "https://localhost:8080/"
        },
        "id": "yvbnmy8Aa3bl",
        "outputId": "914320c5-7ce1-4444-ec77-f6fdac3c6532"
      },
      "execution_count": 183,
      "outputs": [
        {
          "output_type": "execute_result",
          "data": {
            "text/plain": [
              "{1: 23,\n",
              " 2: 11,\n",
              " 3: 39,\n",
              " 4: 8,\n",
              " 5: 49,\n",
              " 6: 73,\n",
              " 7: 65,\n",
              " 8: 31,\n",
              " 9: 89,\n",
              " 10: 36,\n",
              " 11: 11,\n",
              " 12: 65,\n",
              " 13: 39,\n",
              " 14: 49,\n",
              " 15: 35,\n",
              " 16: 89,\n",
              " 17: 33,\n",
              " 18: 7,\n",
              " 19: 64,\n",
              " 20: 77,\n",
              " 21: 10,\n",
              " 22: 55,\n",
              " 23: 82,\n",
              " 24: 94,\n",
              " 25: 73}"
            ]
          },
          "metadata": {},
          "execution_count": 183
        }
      ]
    },
    {
      "cell_type": "code",
      "source": [
        "B = 100000  # Maximum budget"
      ],
      "metadata": {
        "id": "bfbxDy52hu7g"
      },
      "execution_count": 185,
      "outputs": []
    },
    {
      "cell_type": "code",
      "source": [
        "# Distance between facilities s and s'\n",
        "\n",
        "def distancia(i,j):\n",
        "  coords_i = (solo_chapi['latitud'][i], solo_chapi['longitud'][i])\n",
        "  coords_j = (solo_chapi['latitud'][j], solo_chapi['longitud'][j])\n",
        "  dist = distance(coords_i, coords_j).km\n",
        "  return dist\n",
        "\n",
        "d = {(s, s2): distancia(s,s2) for s in S for s2 in S}  "
      ],
      "metadata": {
        "id": "Awonvm8Lh0px"
      },
      "execution_count": 186,
      "outputs": []
    },
    {
      "cell_type": "code",
      "source": [
        "Dm = 6  # Maximum distance between facilities\n"
      ],
      "metadata": {
        "id": "qo1J_tIi0eGA"
      },
      "execution_count": 187,
      "outputs": []
    },
    {
      "cell_type": "code",
      "source": [
        "Q = {t: 30 * t for t in T}  # Capacity of a facility of size t\n"
      ],
      "metadata": {
        "id": "8nPgMOUT0iVP"
      },
      "execution_count": 188,
      "outputs": []
    },
    {
      "cell_type": "code",
      "source": [
        "r = {(s, j): 1 for s in S for j in D}  # 1 if facility s is within a fixed minimum distance from demand point j, 0 otherwise"
      ],
      "metadata": {
        "id": "BmId13C00jGA"
      },
      "execution_count": 189,
      "outputs": []
    },
    {
      "cell_type": "code",
      "source": [
        "# Crear modelo\n",
        "m = Model('Facility Location')"
      ],
      "metadata": {
        "id": "o0oCWiJIfXH0"
      },
      "execution_count": 190,
      "outputs": []
    },
    {
      "cell_type": "code",
      "source": [
        "# Crear variables de decisión\n",
        "x = m.addVars(S, T, vtype=GRB.BINARY, name=\"x\")  # 1 if facility of size t is built at location s\n",
        "y = m.addVars(S, D, vtype=GRB.BINARY, name=\"y\")  # 1 if facility s is assigned to serve demand point j\n",
        "\n",
        "# Función objetivo: maximizar la demanda total servida por las instalaciones\n",
        "m.setObjective(quicksum(Dj[j] * quicksum(y[s, j] for s in S) for j in D), GRB.MAXIMIZE)\n",
        "\n",
        "# Restricción del presupuesto\n",
        "m.addConstr(quicksum(C[s, t] * x[s, t] for s in S for t in T) <= B, name=\"Budget\")\n",
        "\n",
        "# Restricción de asignación\n",
        "m.addConstrs(quicksum(y[s, j] for s in S) <= 1 for j in D)\n",
        "\n",
        "# Restricción de distancia mínima\n",
        "m.addConstrs(y[s, j] <= r[s, j] for s in S for j in D)\n",
        "\n",
        "# Restricción de capacidad\n",
        "m.addConstrs(quicksum(Dj[j] * y[s, j] for j in D) <= Q[t] * x[s, t] for s in S for t in T)\n",
        "\n",
        "# Restricción de distancia máxima entre instalaciones\n",
        "#m.addConstrs(quicksum((d[s, s2] * x[s, t] * x[s2, t2]) for s in S for s2 in S for t in T for t2 in T) <= Dm ** 2)\n",
        "\n",
        "# Vinculación entre las variables de asignación y construcción de instalaciones\n",
        "m.addConstrs(y[s, j] <= x[s, t] for s in S for j in D for t in T)\n",
        "\n",
        "m.addConstrs(quicksum(x[s,t] for t in T) <= 1 for s in S)\n"
      ],
      "metadata": {
        "colab": {
          "base_uri": "https://localhost:8080/"
        },
        "outputId": "d447ff46-e096-46c8-8407-63ccd2f54d43",
        "id": "YZ30HjHYfXH1"
      },
      "execution_count": 191,
      "outputs": [
        {
          "output_type": "execute_result",
          "data": {
            "text/plain": [
              "{1: <gurobi.Constr *Awaiting Model Update*>,\n",
              " 2: <gurobi.Constr *Awaiting Model Update*>,\n",
              " 3: <gurobi.Constr *Awaiting Model Update*>,\n",
              " 4: <gurobi.Constr *Awaiting Model Update*>,\n",
              " 5: <gurobi.Constr *Awaiting Model Update*>,\n",
              " 6: <gurobi.Constr *Awaiting Model Update*>,\n",
              " 7: <gurobi.Constr *Awaiting Model Update*>,\n",
              " 8: <gurobi.Constr *Awaiting Model Update*>,\n",
              " 9: <gurobi.Constr *Awaiting Model Update*>}"
            ]
          },
          "metadata": {},
          "execution_count": 191
        }
      ]
    },
    {
      "cell_type": "code",
      "source": [
        "# Optimizar modelo\n",
        "m.optimize()\n"
      ],
      "metadata": {
        "colab": {
          "base_uri": "https://localhost:8080/"
        },
        "id": "-RtTJ2iSfXH2",
        "outputId": "a8870879-738e-4dd2-b109-2be63a5e50c2"
      },
      "execution_count": 192,
      "outputs": [
        {
          "output_type": "stream",
          "name": "stdout",
          "text": [
            "Gurobi Optimizer version 10.0.1 build v10.0.1rc0 (linux64)\n",
            "\n",
            "CPU model: Intel(R) Xeon(R) CPU @ 2.20GHz, instruction set [SSE2|AVX|AVX2]\n",
            "Thread count: 1 physical cores, 2 logical processors, using up to 2 threads\n",
            "\n",
            "Optimize a model with 962 rows, 252 columns and 2556 nonzeros\n",
            "Model fingerprint: 0x956d1604\n",
            "Variable types: 0 continuous, 252 integer (252 binary)\n",
            "Coefficient statistics:\n",
            "  Matrix range     [1e+00, 2e+03]\n",
            "  Objective range  [7e+00, 9e+01]\n",
            "  Bounds range     [1e+00, 1e+00]\n",
            "  RHS range        [1e+00, 1e+05]\n",
            "Found heuristic solution: objective -0.0000000\n",
            "Presolve removed 962 rows and 252 columns\n",
            "Presolve time: 0.01s\n",
            "Presolve: All rows and columns removed\n",
            "\n",
            "Explored 0 nodes (0 simplex iterations) in 0.02 seconds (0.00 work units)\n",
            "Thread count was 1 (of 2 available processors)\n",
            "\n",
            "Solution count 1: -0 \n",
            "No other solutions better than -0\n",
            "\n",
            "Optimal solution found (tolerance 1.00e-04)\n",
            "Best objective -0.000000000000e+00, best bound -0.000000000000e+00, gap 0.0000%\n"
          ]
        }
      ]
    },
    {
      "cell_type": "code",
      "source": [
        "x"
      ],
      "metadata": {
        "colab": {
          "base_uri": "https://localhost:8080/"
        },
        "id": "xrQDOvq0afb8",
        "outputId": "8136d1ad-742e-4e9d-f627-20e3c3248e49"
      },
      "execution_count": 193,
      "outputs": [
        {
          "output_type": "execute_result",
          "data": {
            "text/plain": [
              "{(1, 1): <gurobi.Var x[1,1] (value 0.0)>,\n",
              " (1, 2): <gurobi.Var x[1,2] (value 0.0)>,\n",
              " (1, 3): <gurobi.Var x[1,3] (value 1.0)>,\n",
              " (2, 1): <gurobi.Var x[2,1] (value 0.0)>,\n",
              " (2, 2): <gurobi.Var x[2,2] (value 0.0)>,\n",
              " (2, 3): <gurobi.Var x[2,3] (value 1.0)>,\n",
              " (3, 1): <gurobi.Var x[3,1] (value 0.0)>,\n",
              " (3, 2): <gurobi.Var x[3,2] (value 0.0)>,\n",
              " (3, 3): <gurobi.Var x[3,3] (value 1.0)>,\n",
              " (4, 1): <gurobi.Var x[4,1] (value 0.0)>,\n",
              " (4, 2): <gurobi.Var x[4,2] (value 0.0)>,\n",
              " (4, 3): <gurobi.Var x[4,3] (value 1.0)>,\n",
              " (5, 1): <gurobi.Var x[5,1] (value 0.0)>,\n",
              " (5, 2): <gurobi.Var x[5,2] (value 0.0)>,\n",
              " (5, 3): <gurobi.Var x[5,3] (value 1.0)>,\n",
              " (6, 1): <gurobi.Var x[6,1] (value 0.0)>,\n",
              " (6, 2): <gurobi.Var x[6,2] (value 0.0)>,\n",
              " (6, 3): <gurobi.Var x[6,3] (value 1.0)>,\n",
              " (7, 1): <gurobi.Var x[7,1] (value 0.0)>,\n",
              " (7, 2): <gurobi.Var x[7,2] (value 0.0)>,\n",
              " (7, 3): <gurobi.Var x[7,3] (value 1.0)>,\n",
              " (8, 1): <gurobi.Var x[8,1] (value 0.0)>,\n",
              " (8, 2): <gurobi.Var x[8,2] (value 0.0)>,\n",
              " (8, 3): <gurobi.Var x[8,3] (value 1.0)>,\n",
              " (9, 1): <gurobi.Var x[9,1] (value 0.0)>,\n",
              " (9, 2): <gurobi.Var x[9,2] (value 0.0)>,\n",
              " (9, 3): <gurobi.Var x[9,3] (value 1.0)>}"
            ]
          },
          "metadata": {},
          "execution_count": 193
        }
      ]
    },
    {
      "cell_type": "code",
      "source": [
        "# Imprimir resultado\n",
        "if m.status == GRB.OPTIMAL:\n",
        "    print(f\"Objetivo: {m.objVal:.2f}\")\n",
        "    print(\"Instalaciones construidas:\")\n",
        "    for s in S:\n",
        "        for t in T:\n",
        "            if x[s, t].x > 0.5:\n",
        "                print(f\"Facility {s} of size {t} is built.\")\n",
        "                print(\"Demandas atendidas:\")\n",
        "                #for j in D:\n",
        "                  #for s in S:\n",
        "                    #if y[s, j].x > 0.5:\n",
        "                      #print(f\"Demand point {j} is served by facility {s}.\")\n",
        "                    #else:\n",
        "                      #print(\"El modelo no pudo ser resuelto.\")\n",
        "\n"
      ],
      "metadata": {
        "colab": {
          "base_uri": "https://localhost:8080/"
        },
        "id": "1ALwPrsufXH3",
        "outputId": "3264f914-033f-4c0b-fb09-041fbd65437f"
      },
      "execution_count": 194,
      "outputs": [
        {
          "output_type": "stream",
          "name": "stdout",
          "text": [
            "Objetivo: -0.00\n",
            "Instalaciones construidas:\n",
            "Facility 1 of size 3 is built.\n",
            "Demandas atendidas:\n",
            "Facility 2 of size 3 is built.\n",
            "Demandas atendidas:\n",
            "Facility 3 of size 3 is built.\n",
            "Demandas atendidas:\n",
            "Facility 4 of size 3 is built.\n",
            "Demandas atendidas:\n",
            "Facility 5 of size 3 is built.\n",
            "Demandas atendidas:\n",
            "Facility 6 of size 3 is built.\n",
            "Demandas atendidas:\n",
            "Facility 7 of size 3 is built.\n",
            "Demandas atendidas:\n",
            "Facility 8 of size 3 is built.\n",
            "Demandas atendidas:\n",
            "Facility 9 of size 3 is built.\n",
            "Demandas atendidas:\n"
          ]
        }
      ]
    },
    {
      "cell_type": "code",
      "source": [],
      "metadata": {
        "id": "oIiPkRhNNfPp"
      },
      "execution_count": null,
      "outputs": []
    },
    {
      "cell_type": "markdown",
      "source": [
        "# Codigo para rebalanceo"
      ],
      "metadata": {
        "id": "B_1pOyuJbLI3"
      }
    },
    {
      "cell_type": "code",
      "source": [
        "import gurobipy as gp\n",
        "from gurobipy import GRB\n",
        "\n",
        "# Sets\n",
        "P = range(num_periods)\n",
        "S = range(num_stations)\n",
        "T = range(num_sizes)\n",
        "\n",
        "# Parameters\n",
        "D = {(s, p): demand[s][p] for s in S for p in P}\n",
        "c = {(s, s2): cost[s][s2] for s in S for s2 in S}\n",
        "m = {(s, t): sizes[s][t] for s in S for t in T}\n",
        "\n",
        "# Model\n",
        "model = gp.Model('rebalancing')\n",
        "\n",
        "# Decision variables\n",
        "x = model.addVars(S, S, P, name='x')\n",
        "\n",
        "# Objective function\n",
        "model.setObjective(gp.quicksum(c[s, s2] * x[s, s2, p] for s in S for s2 in S for p in P), GRB.MINIMIZE)\n",
        "\n",
        "# Constraints\n",
        "# Demand coverage\n",
        "for s2 in S:\n",
        "    for p in P:\n",
        "        model.addConstr(gp.quicksum(x[s2, s, p] for s in S) - gp.quicksum(x[s, s2, p] for s in S) == D[s2, p])\n",
        "\n",
        "# Non-negativity constraint\n",
        "for s in S:\n",
        "    for s2 in S:\n",
        "        for p in P:\n",
        "            model.addConstr(x[s, s2, p] >= 0)\n",
        "\n",
        "# Capacity constraint\n",
        "for s2 in S:\n",
        "    for t in T:\n",
        "        model.addConstr(gp.quicksum(x[s, s2, p] for s in S for p in P) <= m[s2, t])\n",
        "\n",
        "# Solve the model\n",
        "model.optimize()\n",
        "\n",
        "# Print the optimal solution\n",
        "if model.status == GRB.OPTIMAL:\n",
        "    for s in S:\n",
        "        for s2 in S:\n",
        "            for p in P:\n",
        "                if x[s, s2, p].x > 0:\n",
        "                    print(f\"x[{s},{s2},{p}] = {x[s, s2, p].x}\")\n",
        "    print(f\"Optimal cost: {model.objVal}\")\n",
        "else:\n",
        "    print(\"No solution found.\")\n"
      ],
      "metadata": {
        "id": "jD48souqNfIg"
      },
      "execution_count": null,
      "outputs": []
    },
    {
      "cell_type": "markdown",
      "source": [
        "# Modelo optimizacion"
      ],
      "metadata": {
        "id": "G8qeANI4iD1S"
      }
    },
    {
      "cell_type": "code",
      "source": [
        "pip install pulp"
      ],
      "metadata": {
        "colab": {
          "base_uri": "https://localhost:8080/"
        },
        "id": "hmsWs2yjH0fI",
        "outputId": "00d542d2-3051-4511-fd01-085fc024e3e7"
      },
      "execution_count": 6,
      "outputs": [
        {
          "output_type": "stream",
          "name": "stdout",
          "text": [
            "Looking in indexes: https://pypi.org/simple, https://us-python.pkg.dev/colab-wheels/public/simple/\n",
            "Requirement already satisfied: pulp in /usr/local/lib/python3.9/dist-packages (2.7.0)\n"
          ]
        }
      ]
    },
    {
      "cell_type": "code",
      "source": [
        "pip install gurobipy"
      ],
      "metadata": {
        "colab": {
          "base_uri": "https://localhost:8080/"
        },
        "id": "lG62tC4_W8LP",
        "outputId": "c91d547c-bccf-41a5-c2ec-bacb71f28441"
      },
      "execution_count": 7,
      "outputs": [
        {
          "output_type": "stream",
          "name": "stdout",
          "text": [
            "Looking in indexes: https://pypi.org/simple, https://us-python.pkg.dev/colab-wheels/public/simple/\n",
            "Requirement already satisfied: gurobipy in /usr/local/lib/python3.9/dist-packages (10.0.1)\n"
          ]
        }
      ]
    },
    {
      "cell_type": "code",
      "source": [
        "import random\n",
        "from gurobipy import *"
      ],
      "metadata": {
        "id": "rEo4QY7bJpn2"
      },
      "execution_count": 8,
      "outputs": []
    },
    {
      "cell_type": "code",
      "source": [
        "# Conjuntos\n",
        "S = range(1, 20)  # Set of possible facility locations\n",
        "D = range(1, 41)  # Set of demand points\n",
        "T = [1, 2, 3]  # Set of facility sizes"
      ],
      "metadata": {
        "id": "FAmEqdM5ecTD"
      },
      "execution_count": 10,
      "outputs": []
    },
    {
      "cell_type": "code",
      "source": [
        "import random\n",
        " \n",
        "A = [ ]\n",
        " \n",
        "for i in range (20):\n",
        "    A.append(random.randint(1, 100))\n",
        " \n",
        "print (A)"
      ],
      "metadata": {
        "colab": {
          "base_uri": "https://localhost:8080/"
        },
        "id": "XGuMRL8Ee6Fz",
        "outputId": "22787916-9a2e-45c1-feaa-78f5731fc1c0"
      },
      "execution_count": 13,
      "outputs": [
        {
          "output_type": "stream",
          "name": "stdout",
          "text": [
            "[26, 86, 12, 29, 91, 56, 69, 85, 53, 72, 96, 77, 69, 61, 3, 45, 2, 12, 99, 6]\n"
          ]
        }
      ]
    },
    {
      "cell_type": "code",
      "source": [
        "# Parámetros\n",
        "C = {(s, t): 1000 + 500 * t for s in S for t in T}  # Cost of building a facility of size t at location s\n",
        "#Dj = {j: 100 for j in D}  # Demand of point j\n",
        "Dj = {1: 20,\n",
        " 2: 100,\n",
        " 3: 30,\n",
        " 4: 100,\n",
        " 5: 80,\n",
        " 6: 100,\n",
        " 7: 100,\n",
        " 8: 100,\n",
        " 9: 80,\n",
        " 10: 100}\n",
        "B = 100000  # Maximum budget\n",
        "d = {(s, s2): 10 for s in S for s2 in S}  # Distance between facilities s and s'\n",
        "Dm = 20  # Maximum distance between facilities\n",
        "Q = {t: 500 * t for t in T}  # Capacity of a facility of size t\n",
        "r = {(s, j): 1 for s in S for j in D}  # 1 if facility s is within a fixed minimum distance from demand point j, 0 otherwise"
      ],
      "metadata": {
        "id": "lyw1i1AGegTQ"
      },
      "execution_count": null,
      "outputs": []
    },
    {
      "cell_type": "code",
      "source": [
        "\n",
        "\n",
        "# Crear modelo\n",
        "m = Model('Facility Location')"
      ],
      "metadata": {
        "id": "oKoUIKa0W8Id",
        "outputId": "3c514ab2-0f27-447c-a647-625c45ff968c",
        "colab": {
          "base_uri": "https://localhost:8080/"
        }
      },
      "execution_count": null,
      "outputs": [
        {
          "output_type": "stream",
          "name": "stdout",
          "text": [
            "Restricted license - for non-production use only - expires 2024-10-28\n"
          ]
        }
      ]
    },
    {
      "cell_type": "code",
      "source": [],
      "metadata": {
        "colab": {
          "base_uri": "https://localhost:8080/"
        },
        "id": "8AnksTwIkE6e",
        "outputId": "e792a680-dd51-4ff3-afec-e2a04e3df9d7"
      },
      "execution_count": null,
      "outputs": [
        {
          "output_type": "execute_result",
          "data": {
            "text/plain": [
              "range(1, 20)"
            ]
          },
          "metadata": {},
          "execution_count": 94
        }
      ]
    },
    {
      "cell_type": "code",
      "source": [
        "# Crear variables de decisión\n",
        "x = m.addVars(S, T, vtype=GRB.BINARY, name=\"x\")  # 1 if facility of size t is built at location s\n",
        "y = m.addVars(S, D, vtype=GRB.BINARY, name=\"y\")  # 1 if facility s is assigned to serve demand point j\n",
        "\n",
        "# Función objetivo: maximizar la demanda total servida por las instalaciones\n",
        "m.setObjective(quicksum(Dj[j] * quicksum(y[s, j] for s in S) for j in D), GRB.MAXIMIZE)\n",
        "\n",
        "# Restricción del presupuesto\n",
        "m.addConstr(quicksum(C[s, t] * x[s, t] for s in S for t in T) <= B, name=\"Budget\")\n",
        "\n",
        "# Restricción de asignación\n",
        "m.addConstrs(quicksum(y[s, j] for s in S) <= 1 for j in D)\n",
        "\n",
        "# Restricción de distancia mínima\n",
        "m.addConstrs(y[s, j] <= r[s, j] for s in S for j in D)\n",
        "\n",
        "# Restricción de capacidad\n",
        "m.addConstrs(quicksum(Dj[j] * y[s, j] for j in D) <= Q[t] * x[s, t] for s in S for t in T)\n",
        "\n",
        "# Restricción de distancia máxima entre instalaciones\n",
        "#m.addConstrs(quicksum((d[s, s2] * x[s, t] * x[s2, t2]) for s in S for s2 in S for t in T for t2 in T) <= Dm ** 2)\n",
        "\n",
        "# Vinculación entre las variables de asignación y construcción de instalaciones\n",
        "m.addConstrs(y[s, j] <= x[s, t] for s in S for j in D for t in T)\n",
        "\n",
        "#m.addConstrs(quicksum(x[s,t] for t in T) <= 1 for t in T)\n"
      ],
      "metadata": {
        "colab": {
          "base_uri": "https://localhost:8080/"
        },
        "id": "j2cSWoyJXDtN",
        "outputId": "03323741-0968-41b1-eaec-5ec553f73edf"
      },
      "execution_count": null,
      "outputs": [
        {
          "output_type": "execute_result",
          "data": {
            "text/plain": [
              "{(1, 1, 1): <gurobi.Constr *Awaiting Model Update*>,\n",
              " (1, 1, 2): <gurobi.Constr *Awaiting Model Update*>,\n",
              " (1, 1, 3): <gurobi.Constr *Awaiting Model Update*>,\n",
              " (1, 2, 1): <gurobi.Constr *Awaiting Model Update*>,\n",
              " (1, 2, 2): <gurobi.Constr *Awaiting Model Update*>,\n",
              " (1, 2, 3): <gurobi.Constr *Awaiting Model Update*>,\n",
              " (1, 3, 1): <gurobi.Constr *Awaiting Model Update*>,\n",
              " (1, 3, 2): <gurobi.Constr *Awaiting Model Update*>,\n",
              " (1, 3, 3): <gurobi.Constr *Awaiting Model Update*>,\n",
              " (1, 4, 1): <gurobi.Constr *Awaiting Model Update*>,\n",
              " (1, 4, 2): <gurobi.Constr *Awaiting Model Update*>,\n",
              " (1, 4, 3): <gurobi.Constr *Awaiting Model Update*>,\n",
              " (1, 5, 1): <gurobi.Constr *Awaiting Model Update*>,\n",
              " (1, 5, 2): <gurobi.Constr *Awaiting Model Update*>,\n",
              " (1, 5, 3): <gurobi.Constr *Awaiting Model Update*>,\n",
              " (1, 6, 1): <gurobi.Constr *Awaiting Model Update*>,\n",
              " (1, 6, 2): <gurobi.Constr *Awaiting Model Update*>,\n",
              " (1, 6, 3): <gurobi.Constr *Awaiting Model Update*>,\n",
              " (1, 7, 1): <gurobi.Constr *Awaiting Model Update*>,\n",
              " (1, 7, 2): <gurobi.Constr *Awaiting Model Update*>,\n",
              " (1, 7, 3): <gurobi.Constr *Awaiting Model Update*>,\n",
              " (1, 8, 1): <gurobi.Constr *Awaiting Model Update*>,\n",
              " (1, 8, 2): <gurobi.Constr *Awaiting Model Update*>,\n",
              " (1, 8, 3): <gurobi.Constr *Awaiting Model Update*>,\n",
              " (1, 9, 1): <gurobi.Constr *Awaiting Model Update*>,\n",
              " (1, 9, 2): <gurobi.Constr *Awaiting Model Update*>,\n",
              " (1, 9, 3): <gurobi.Constr *Awaiting Model Update*>,\n",
              " (1, 10, 1): <gurobi.Constr *Awaiting Model Update*>,\n",
              " (1, 10, 2): <gurobi.Constr *Awaiting Model Update*>,\n",
              " (1, 10, 3): <gurobi.Constr *Awaiting Model Update*>,\n",
              " (2, 1, 1): <gurobi.Constr *Awaiting Model Update*>,\n",
              " (2, 1, 2): <gurobi.Constr *Awaiting Model Update*>,\n",
              " (2, 1, 3): <gurobi.Constr *Awaiting Model Update*>,\n",
              " (2, 2, 1): <gurobi.Constr *Awaiting Model Update*>,\n",
              " (2, 2, 2): <gurobi.Constr *Awaiting Model Update*>,\n",
              " (2, 2, 3): <gurobi.Constr *Awaiting Model Update*>,\n",
              " (2, 3, 1): <gurobi.Constr *Awaiting Model Update*>,\n",
              " (2, 3, 2): <gurobi.Constr *Awaiting Model Update*>,\n",
              " (2, 3, 3): <gurobi.Constr *Awaiting Model Update*>,\n",
              " (2, 4, 1): <gurobi.Constr *Awaiting Model Update*>,\n",
              " (2, 4, 2): <gurobi.Constr *Awaiting Model Update*>,\n",
              " (2, 4, 3): <gurobi.Constr *Awaiting Model Update*>,\n",
              " (2, 5, 1): <gurobi.Constr *Awaiting Model Update*>,\n",
              " (2, 5, 2): <gurobi.Constr *Awaiting Model Update*>,\n",
              " (2, 5, 3): <gurobi.Constr *Awaiting Model Update*>,\n",
              " (2, 6, 1): <gurobi.Constr *Awaiting Model Update*>,\n",
              " (2, 6, 2): <gurobi.Constr *Awaiting Model Update*>,\n",
              " (2, 6, 3): <gurobi.Constr *Awaiting Model Update*>,\n",
              " (2, 7, 1): <gurobi.Constr *Awaiting Model Update*>,\n",
              " (2, 7, 2): <gurobi.Constr *Awaiting Model Update*>,\n",
              " (2, 7, 3): <gurobi.Constr *Awaiting Model Update*>,\n",
              " (2, 8, 1): <gurobi.Constr *Awaiting Model Update*>,\n",
              " (2, 8, 2): <gurobi.Constr *Awaiting Model Update*>,\n",
              " (2, 8, 3): <gurobi.Constr *Awaiting Model Update*>,\n",
              " (2, 9, 1): <gurobi.Constr *Awaiting Model Update*>,\n",
              " (2, 9, 2): <gurobi.Constr *Awaiting Model Update*>,\n",
              " (2, 9, 3): <gurobi.Constr *Awaiting Model Update*>,\n",
              " (2, 10, 1): <gurobi.Constr *Awaiting Model Update*>,\n",
              " (2, 10, 2): <gurobi.Constr *Awaiting Model Update*>,\n",
              " (2, 10, 3): <gurobi.Constr *Awaiting Model Update*>,\n",
              " (3, 1, 1): <gurobi.Constr *Awaiting Model Update*>,\n",
              " (3, 1, 2): <gurobi.Constr *Awaiting Model Update*>,\n",
              " (3, 1, 3): <gurobi.Constr *Awaiting Model Update*>,\n",
              " (3, 2, 1): <gurobi.Constr *Awaiting Model Update*>,\n",
              " (3, 2, 2): <gurobi.Constr *Awaiting Model Update*>,\n",
              " (3, 2, 3): <gurobi.Constr *Awaiting Model Update*>,\n",
              " (3, 3, 1): <gurobi.Constr *Awaiting Model Update*>,\n",
              " (3, 3, 2): <gurobi.Constr *Awaiting Model Update*>,\n",
              " (3, 3, 3): <gurobi.Constr *Awaiting Model Update*>,\n",
              " (3, 4, 1): <gurobi.Constr *Awaiting Model Update*>,\n",
              " (3, 4, 2): <gurobi.Constr *Awaiting Model Update*>,\n",
              " (3, 4, 3): <gurobi.Constr *Awaiting Model Update*>,\n",
              " (3, 5, 1): <gurobi.Constr *Awaiting Model Update*>,\n",
              " (3, 5, 2): <gurobi.Constr *Awaiting Model Update*>,\n",
              " (3, 5, 3): <gurobi.Constr *Awaiting Model Update*>,\n",
              " (3, 6, 1): <gurobi.Constr *Awaiting Model Update*>,\n",
              " (3, 6, 2): <gurobi.Constr *Awaiting Model Update*>,\n",
              " (3, 6, 3): <gurobi.Constr *Awaiting Model Update*>,\n",
              " (3, 7, 1): <gurobi.Constr *Awaiting Model Update*>,\n",
              " (3, 7, 2): <gurobi.Constr *Awaiting Model Update*>,\n",
              " (3, 7, 3): <gurobi.Constr *Awaiting Model Update*>,\n",
              " (3, 8, 1): <gurobi.Constr *Awaiting Model Update*>,\n",
              " (3, 8, 2): <gurobi.Constr *Awaiting Model Update*>,\n",
              " (3, 8, 3): <gurobi.Constr *Awaiting Model Update*>,\n",
              " (3, 9, 1): <gurobi.Constr *Awaiting Model Update*>,\n",
              " (3, 9, 2): <gurobi.Constr *Awaiting Model Update*>,\n",
              " (3, 9, 3): <gurobi.Constr *Awaiting Model Update*>,\n",
              " (3, 10, 1): <gurobi.Constr *Awaiting Model Update*>,\n",
              " (3, 10, 2): <gurobi.Constr *Awaiting Model Update*>,\n",
              " (3, 10, 3): <gurobi.Constr *Awaiting Model Update*>,\n",
              " (4, 1, 1): <gurobi.Constr *Awaiting Model Update*>,\n",
              " (4, 1, 2): <gurobi.Constr *Awaiting Model Update*>,\n",
              " (4, 1, 3): <gurobi.Constr *Awaiting Model Update*>,\n",
              " (4, 2, 1): <gurobi.Constr *Awaiting Model Update*>,\n",
              " (4, 2, 2): <gurobi.Constr *Awaiting Model Update*>,\n",
              " (4, 2, 3): <gurobi.Constr *Awaiting Model Update*>,\n",
              " (4, 3, 1): <gurobi.Constr *Awaiting Model Update*>,\n",
              " (4, 3, 2): <gurobi.Constr *Awaiting Model Update*>,\n",
              " (4, 3, 3): <gurobi.Constr *Awaiting Model Update*>,\n",
              " (4, 4, 1): <gurobi.Constr *Awaiting Model Update*>,\n",
              " (4, 4, 2): <gurobi.Constr *Awaiting Model Update*>,\n",
              " (4, 4, 3): <gurobi.Constr *Awaiting Model Update*>,\n",
              " (4, 5, 1): <gurobi.Constr *Awaiting Model Update*>,\n",
              " (4, 5, 2): <gurobi.Constr *Awaiting Model Update*>,\n",
              " (4, 5, 3): <gurobi.Constr *Awaiting Model Update*>,\n",
              " (4, 6, 1): <gurobi.Constr *Awaiting Model Update*>,\n",
              " (4, 6, 2): <gurobi.Constr *Awaiting Model Update*>,\n",
              " (4, 6, 3): <gurobi.Constr *Awaiting Model Update*>,\n",
              " (4, 7, 1): <gurobi.Constr *Awaiting Model Update*>,\n",
              " (4, 7, 2): <gurobi.Constr *Awaiting Model Update*>,\n",
              " (4, 7, 3): <gurobi.Constr *Awaiting Model Update*>,\n",
              " (4, 8, 1): <gurobi.Constr *Awaiting Model Update*>,\n",
              " (4, 8, 2): <gurobi.Constr *Awaiting Model Update*>,\n",
              " (4, 8, 3): <gurobi.Constr *Awaiting Model Update*>,\n",
              " (4, 9, 1): <gurobi.Constr *Awaiting Model Update*>,\n",
              " (4, 9, 2): <gurobi.Constr *Awaiting Model Update*>,\n",
              " (4, 9, 3): <gurobi.Constr *Awaiting Model Update*>,\n",
              " (4, 10, 1): <gurobi.Constr *Awaiting Model Update*>,\n",
              " (4, 10, 2): <gurobi.Constr *Awaiting Model Update*>,\n",
              " (4, 10, 3): <gurobi.Constr *Awaiting Model Update*>,\n",
              " (5, 1, 1): <gurobi.Constr *Awaiting Model Update*>,\n",
              " (5, 1, 2): <gurobi.Constr *Awaiting Model Update*>,\n",
              " (5, 1, 3): <gurobi.Constr *Awaiting Model Update*>,\n",
              " (5, 2, 1): <gurobi.Constr *Awaiting Model Update*>,\n",
              " (5, 2, 2): <gurobi.Constr *Awaiting Model Update*>,\n",
              " (5, 2, 3): <gurobi.Constr *Awaiting Model Update*>,\n",
              " (5, 3, 1): <gurobi.Constr *Awaiting Model Update*>,\n",
              " (5, 3, 2): <gurobi.Constr *Awaiting Model Update*>,\n",
              " (5, 3, 3): <gurobi.Constr *Awaiting Model Update*>,\n",
              " (5, 4, 1): <gurobi.Constr *Awaiting Model Update*>,\n",
              " (5, 4, 2): <gurobi.Constr *Awaiting Model Update*>,\n",
              " (5, 4, 3): <gurobi.Constr *Awaiting Model Update*>,\n",
              " (5, 5, 1): <gurobi.Constr *Awaiting Model Update*>,\n",
              " (5, 5, 2): <gurobi.Constr *Awaiting Model Update*>,\n",
              " (5, 5, 3): <gurobi.Constr *Awaiting Model Update*>,\n",
              " (5, 6, 1): <gurobi.Constr *Awaiting Model Update*>,\n",
              " (5, 6, 2): <gurobi.Constr *Awaiting Model Update*>,\n",
              " (5, 6, 3): <gurobi.Constr *Awaiting Model Update*>,\n",
              " (5, 7, 1): <gurobi.Constr *Awaiting Model Update*>,\n",
              " (5, 7, 2): <gurobi.Constr *Awaiting Model Update*>,\n",
              " (5, 7, 3): <gurobi.Constr *Awaiting Model Update*>,\n",
              " (5, 8, 1): <gurobi.Constr *Awaiting Model Update*>,\n",
              " (5, 8, 2): <gurobi.Constr *Awaiting Model Update*>,\n",
              " (5, 8, 3): <gurobi.Constr *Awaiting Model Update*>,\n",
              " (5, 9, 1): <gurobi.Constr *Awaiting Model Update*>,\n",
              " (5, 9, 2): <gurobi.Constr *Awaiting Model Update*>,\n",
              " (5, 9, 3): <gurobi.Constr *Awaiting Model Update*>,\n",
              " (5, 10, 1): <gurobi.Constr *Awaiting Model Update*>,\n",
              " (5, 10, 2): <gurobi.Constr *Awaiting Model Update*>,\n",
              " (5, 10, 3): <gurobi.Constr *Awaiting Model Update*>,\n",
              " (6, 1, 1): <gurobi.Constr *Awaiting Model Update*>,\n",
              " (6, 1, 2): <gurobi.Constr *Awaiting Model Update*>,\n",
              " (6, 1, 3): <gurobi.Constr *Awaiting Model Update*>,\n",
              " (6, 2, 1): <gurobi.Constr *Awaiting Model Update*>,\n",
              " (6, 2, 2): <gurobi.Constr *Awaiting Model Update*>,\n",
              " (6, 2, 3): <gurobi.Constr *Awaiting Model Update*>,\n",
              " (6, 3, 1): <gurobi.Constr *Awaiting Model Update*>,\n",
              " (6, 3, 2): <gurobi.Constr *Awaiting Model Update*>,\n",
              " (6, 3, 3): <gurobi.Constr *Awaiting Model Update*>,\n",
              " (6, 4, 1): <gurobi.Constr *Awaiting Model Update*>,\n",
              " (6, 4, 2): <gurobi.Constr *Awaiting Model Update*>,\n",
              " (6, 4, 3): <gurobi.Constr *Awaiting Model Update*>,\n",
              " (6, 5, 1): <gurobi.Constr *Awaiting Model Update*>,\n",
              " (6, 5, 2): <gurobi.Constr *Awaiting Model Update*>,\n",
              " (6, 5, 3): <gurobi.Constr *Awaiting Model Update*>,\n",
              " (6, 6, 1): <gurobi.Constr *Awaiting Model Update*>,\n",
              " (6, 6, 2): <gurobi.Constr *Awaiting Model Update*>,\n",
              " (6, 6, 3): <gurobi.Constr *Awaiting Model Update*>,\n",
              " (6, 7, 1): <gurobi.Constr *Awaiting Model Update*>,\n",
              " (6, 7, 2): <gurobi.Constr *Awaiting Model Update*>,\n",
              " (6, 7, 3): <gurobi.Constr *Awaiting Model Update*>,\n",
              " (6, 8, 1): <gurobi.Constr *Awaiting Model Update*>,\n",
              " (6, 8, 2): <gurobi.Constr *Awaiting Model Update*>,\n",
              " (6, 8, 3): <gurobi.Constr *Awaiting Model Update*>,\n",
              " (6, 9, 1): <gurobi.Constr *Awaiting Model Update*>,\n",
              " (6, 9, 2): <gurobi.Constr *Awaiting Model Update*>,\n",
              " (6, 9, 3): <gurobi.Constr *Awaiting Model Update*>,\n",
              " (6, 10, 1): <gurobi.Constr *Awaiting Model Update*>,\n",
              " (6, 10, 2): <gurobi.Constr *Awaiting Model Update*>,\n",
              " (6, 10, 3): <gurobi.Constr *Awaiting Model Update*>,\n",
              " (7, 1, 1): <gurobi.Constr *Awaiting Model Update*>,\n",
              " (7, 1, 2): <gurobi.Constr *Awaiting Model Update*>,\n",
              " (7, 1, 3): <gurobi.Constr *Awaiting Model Update*>,\n",
              " (7, 2, 1): <gurobi.Constr *Awaiting Model Update*>,\n",
              " (7, 2, 2): <gurobi.Constr *Awaiting Model Update*>,\n",
              " (7, 2, 3): <gurobi.Constr *Awaiting Model Update*>,\n",
              " (7, 3, 1): <gurobi.Constr *Awaiting Model Update*>,\n",
              " (7, 3, 2): <gurobi.Constr *Awaiting Model Update*>,\n",
              " (7, 3, 3): <gurobi.Constr *Awaiting Model Update*>,\n",
              " (7, 4, 1): <gurobi.Constr *Awaiting Model Update*>,\n",
              " (7, 4, 2): <gurobi.Constr *Awaiting Model Update*>,\n",
              " (7, 4, 3): <gurobi.Constr *Awaiting Model Update*>,\n",
              " (7, 5, 1): <gurobi.Constr *Awaiting Model Update*>,\n",
              " (7, 5, 2): <gurobi.Constr *Awaiting Model Update*>,\n",
              " (7, 5, 3): <gurobi.Constr *Awaiting Model Update*>,\n",
              " (7, 6, 1): <gurobi.Constr *Awaiting Model Update*>,\n",
              " (7, 6, 2): <gurobi.Constr *Awaiting Model Update*>,\n",
              " (7, 6, 3): <gurobi.Constr *Awaiting Model Update*>,\n",
              " (7, 7, 1): <gurobi.Constr *Awaiting Model Update*>,\n",
              " (7, 7, 2): <gurobi.Constr *Awaiting Model Update*>,\n",
              " (7, 7, 3): <gurobi.Constr *Awaiting Model Update*>,\n",
              " (7, 8, 1): <gurobi.Constr *Awaiting Model Update*>,\n",
              " (7, 8, 2): <gurobi.Constr *Awaiting Model Update*>,\n",
              " (7, 8, 3): <gurobi.Constr *Awaiting Model Update*>,\n",
              " (7, 9, 1): <gurobi.Constr *Awaiting Model Update*>,\n",
              " (7, 9, 2): <gurobi.Constr *Awaiting Model Update*>,\n",
              " (7, 9, 3): <gurobi.Constr *Awaiting Model Update*>,\n",
              " (7, 10, 1): <gurobi.Constr *Awaiting Model Update*>,\n",
              " (7, 10, 2): <gurobi.Constr *Awaiting Model Update*>,\n",
              " (7, 10, 3): <gurobi.Constr *Awaiting Model Update*>,\n",
              " (8, 1, 1): <gurobi.Constr *Awaiting Model Update*>,\n",
              " (8, 1, 2): <gurobi.Constr *Awaiting Model Update*>,\n",
              " (8, 1, 3): <gurobi.Constr *Awaiting Model Update*>,\n",
              " (8, 2, 1): <gurobi.Constr *Awaiting Model Update*>,\n",
              " (8, 2, 2): <gurobi.Constr *Awaiting Model Update*>,\n",
              " (8, 2, 3): <gurobi.Constr *Awaiting Model Update*>,\n",
              " (8, 3, 1): <gurobi.Constr *Awaiting Model Update*>,\n",
              " (8, 3, 2): <gurobi.Constr *Awaiting Model Update*>,\n",
              " (8, 3, 3): <gurobi.Constr *Awaiting Model Update*>,\n",
              " (8, 4, 1): <gurobi.Constr *Awaiting Model Update*>,\n",
              " (8, 4, 2): <gurobi.Constr *Awaiting Model Update*>,\n",
              " (8, 4, 3): <gurobi.Constr *Awaiting Model Update*>,\n",
              " (8, 5, 1): <gurobi.Constr *Awaiting Model Update*>,\n",
              " (8, 5, 2): <gurobi.Constr *Awaiting Model Update*>,\n",
              " (8, 5, 3): <gurobi.Constr *Awaiting Model Update*>,\n",
              " (8, 6, 1): <gurobi.Constr *Awaiting Model Update*>,\n",
              " (8, 6, 2): <gurobi.Constr *Awaiting Model Update*>,\n",
              " (8, 6, 3): <gurobi.Constr *Awaiting Model Update*>,\n",
              " (8, 7, 1): <gurobi.Constr *Awaiting Model Update*>,\n",
              " (8, 7, 2): <gurobi.Constr *Awaiting Model Update*>,\n",
              " (8, 7, 3): <gurobi.Constr *Awaiting Model Update*>,\n",
              " (8, 8, 1): <gurobi.Constr *Awaiting Model Update*>,\n",
              " (8, 8, 2): <gurobi.Constr *Awaiting Model Update*>,\n",
              " (8, 8, 3): <gurobi.Constr *Awaiting Model Update*>,\n",
              " (8, 9, 1): <gurobi.Constr *Awaiting Model Update*>,\n",
              " (8, 9, 2): <gurobi.Constr *Awaiting Model Update*>,\n",
              " (8, 9, 3): <gurobi.Constr *Awaiting Model Update*>,\n",
              " (8, 10, 1): <gurobi.Constr *Awaiting Model Update*>,\n",
              " (8, 10, 2): <gurobi.Constr *Awaiting Model Update*>,\n",
              " (8, 10, 3): <gurobi.Constr *Awaiting Model Update*>,\n",
              " (9, 1, 1): <gurobi.Constr *Awaiting Model Update*>,\n",
              " (9, 1, 2): <gurobi.Constr *Awaiting Model Update*>,\n",
              " (9, 1, 3): <gurobi.Constr *Awaiting Model Update*>,\n",
              " (9, 2, 1): <gurobi.Constr *Awaiting Model Update*>,\n",
              " (9, 2, 2): <gurobi.Constr *Awaiting Model Update*>,\n",
              " (9, 2, 3): <gurobi.Constr *Awaiting Model Update*>,\n",
              " (9, 3, 1): <gurobi.Constr *Awaiting Model Update*>,\n",
              " (9, 3, 2): <gurobi.Constr *Awaiting Model Update*>,\n",
              " (9, 3, 3): <gurobi.Constr *Awaiting Model Update*>,\n",
              " (9, 4, 1): <gurobi.Constr *Awaiting Model Update*>,\n",
              " (9, 4, 2): <gurobi.Constr *Awaiting Model Update*>,\n",
              " (9, 4, 3): <gurobi.Constr *Awaiting Model Update*>,\n",
              " (9, 5, 1): <gurobi.Constr *Awaiting Model Update*>,\n",
              " (9, 5, 2): <gurobi.Constr *Awaiting Model Update*>,\n",
              " (9, 5, 3): <gurobi.Constr *Awaiting Model Update*>,\n",
              " (9, 6, 1): <gurobi.Constr *Awaiting Model Update*>,\n",
              " (9, 6, 2): <gurobi.Constr *Awaiting Model Update*>,\n",
              " (9, 6, 3): <gurobi.Constr *Awaiting Model Update*>,\n",
              " (9, 7, 1): <gurobi.Constr *Awaiting Model Update*>,\n",
              " (9, 7, 2): <gurobi.Constr *Awaiting Model Update*>,\n",
              " (9, 7, 3): <gurobi.Constr *Awaiting Model Update*>,\n",
              " (9, 8, 1): <gurobi.Constr *Awaiting Model Update*>,\n",
              " (9, 8, 2): <gurobi.Constr *Awaiting Model Update*>,\n",
              " (9, 8, 3): <gurobi.Constr *Awaiting Model Update*>,\n",
              " (9, 9, 1): <gurobi.Constr *Awaiting Model Update*>,\n",
              " (9, 9, 2): <gurobi.Constr *Awaiting Model Update*>,\n",
              " (9, 9, 3): <gurobi.Constr *Awaiting Model Update*>,\n",
              " (9, 10, 1): <gurobi.Constr *Awaiting Model Update*>,\n",
              " (9, 10, 2): <gurobi.Constr *Awaiting Model Update*>,\n",
              " (9, 10, 3): <gurobi.Constr *Awaiting Model Update*>,\n",
              " (10, 1, 1): <gurobi.Constr *Awaiting Model Update*>,\n",
              " (10, 1, 2): <gurobi.Constr *Awaiting Model Update*>,\n",
              " (10, 1, 3): <gurobi.Constr *Awaiting Model Update*>,\n",
              " (10, 2, 1): <gurobi.Constr *Awaiting Model Update*>,\n",
              " (10, 2, 2): <gurobi.Constr *Awaiting Model Update*>,\n",
              " (10, 2, 3): <gurobi.Constr *Awaiting Model Update*>,\n",
              " (10, 3, 1): <gurobi.Constr *Awaiting Model Update*>,\n",
              " (10, 3, 2): <gurobi.Constr *Awaiting Model Update*>,\n",
              " (10, 3, 3): <gurobi.Constr *Awaiting Model Update*>,\n",
              " (10, 4, 1): <gurobi.Constr *Awaiting Model Update*>,\n",
              " (10, 4, 2): <gurobi.Constr *Awaiting Model Update*>,\n",
              " (10, 4, 3): <gurobi.Constr *Awaiting Model Update*>,\n",
              " (10, 5, 1): <gurobi.Constr *Awaiting Model Update*>,\n",
              " (10, 5, 2): <gurobi.Constr *Awaiting Model Update*>,\n",
              " (10, 5, 3): <gurobi.Constr *Awaiting Model Update*>,\n",
              " (10, 6, 1): <gurobi.Constr *Awaiting Model Update*>,\n",
              " (10, 6, 2): <gurobi.Constr *Awaiting Model Update*>,\n",
              " (10, 6, 3): <gurobi.Constr *Awaiting Model Update*>,\n",
              " (10, 7, 1): <gurobi.Constr *Awaiting Model Update*>,\n",
              " (10, 7, 2): <gurobi.Constr *Awaiting Model Update*>,\n",
              " (10, 7, 3): <gurobi.Constr *Awaiting Model Update*>,\n",
              " (10, 8, 1): <gurobi.Constr *Awaiting Model Update*>,\n",
              " (10, 8, 2): <gurobi.Constr *Awaiting Model Update*>,\n",
              " (10, 8, 3): <gurobi.Constr *Awaiting Model Update*>,\n",
              " (10, 9, 1): <gurobi.Constr *Awaiting Model Update*>,\n",
              " (10, 9, 2): <gurobi.Constr *Awaiting Model Update*>,\n",
              " (10, 9, 3): <gurobi.Constr *Awaiting Model Update*>,\n",
              " (10, 10, 1): <gurobi.Constr *Awaiting Model Update*>,\n",
              " (10, 10, 2): <gurobi.Constr *Awaiting Model Update*>,\n",
              " (10, 10, 3): <gurobi.Constr *Awaiting Model Update*>,\n",
              " (11, 1, 1): <gurobi.Constr *Awaiting Model Update*>,\n",
              " (11, 1, 2): <gurobi.Constr *Awaiting Model Update*>,\n",
              " (11, 1, 3): <gurobi.Constr *Awaiting Model Update*>,\n",
              " (11, 2, 1): <gurobi.Constr *Awaiting Model Update*>,\n",
              " (11, 2, 2): <gurobi.Constr *Awaiting Model Update*>,\n",
              " (11, 2, 3): <gurobi.Constr *Awaiting Model Update*>,\n",
              " (11, 3, 1): <gurobi.Constr *Awaiting Model Update*>,\n",
              " (11, 3, 2): <gurobi.Constr *Awaiting Model Update*>,\n",
              " (11, 3, 3): <gurobi.Constr *Awaiting Model Update*>,\n",
              " (11, 4, 1): <gurobi.Constr *Awaiting Model Update*>,\n",
              " (11, 4, 2): <gurobi.Constr *Awaiting Model Update*>,\n",
              " (11, 4, 3): <gurobi.Constr *Awaiting Model Update*>,\n",
              " (11, 5, 1): <gurobi.Constr *Awaiting Model Update*>,\n",
              " (11, 5, 2): <gurobi.Constr *Awaiting Model Update*>,\n",
              " (11, 5, 3): <gurobi.Constr *Awaiting Model Update*>,\n",
              " (11, 6, 1): <gurobi.Constr *Awaiting Model Update*>,\n",
              " (11, 6, 2): <gurobi.Constr *Awaiting Model Update*>,\n",
              " (11, 6, 3): <gurobi.Constr *Awaiting Model Update*>,\n",
              " (11, 7, 1): <gurobi.Constr *Awaiting Model Update*>,\n",
              " (11, 7, 2): <gurobi.Constr *Awaiting Model Update*>,\n",
              " (11, 7, 3): <gurobi.Constr *Awaiting Model Update*>,\n",
              " (11, 8, 1): <gurobi.Constr *Awaiting Model Update*>,\n",
              " (11, 8, 2): <gurobi.Constr *Awaiting Model Update*>,\n",
              " (11, 8, 3): <gurobi.Constr *Awaiting Model Update*>,\n",
              " (11, 9, 1): <gurobi.Constr *Awaiting Model Update*>,\n",
              " (11, 9, 2): <gurobi.Constr *Awaiting Model Update*>,\n",
              " (11, 9, 3): <gurobi.Constr *Awaiting Model Update*>,\n",
              " (11, 10, 1): <gurobi.Constr *Awaiting Model Update*>,\n",
              " (11, 10, 2): <gurobi.Constr *Awaiting Model Update*>,\n",
              " (11, 10, 3): <gurobi.Constr *Awaiting Model Update*>,\n",
              " (12, 1, 1): <gurobi.Constr *Awaiting Model Update*>,\n",
              " (12, 1, 2): <gurobi.Constr *Awaiting Model Update*>,\n",
              " (12, 1, 3): <gurobi.Constr *Awaiting Model Update*>,\n",
              " (12, 2, 1): <gurobi.Constr *Awaiting Model Update*>,\n",
              " (12, 2, 2): <gurobi.Constr *Awaiting Model Update*>,\n",
              " (12, 2, 3): <gurobi.Constr *Awaiting Model Update*>,\n",
              " (12, 3, 1): <gurobi.Constr *Awaiting Model Update*>,\n",
              " (12, 3, 2): <gurobi.Constr *Awaiting Model Update*>,\n",
              " (12, 3, 3): <gurobi.Constr *Awaiting Model Update*>,\n",
              " (12, 4, 1): <gurobi.Constr *Awaiting Model Update*>,\n",
              " (12, 4, 2): <gurobi.Constr *Awaiting Model Update*>,\n",
              " (12, 4, 3): <gurobi.Constr *Awaiting Model Update*>,\n",
              " (12, 5, 1): <gurobi.Constr *Awaiting Model Update*>,\n",
              " (12, 5, 2): <gurobi.Constr *Awaiting Model Update*>,\n",
              " (12, 5, 3): <gurobi.Constr *Awaiting Model Update*>,\n",
              " (12, 6, 1): <gurobi.Constr *Awaiting Model Update*>,\n",
              " (12, 6, 2): <gurobi.Constr *Awaiting Model Update*>,\n",
              " (12, 6, 3): <gurobi.Constr *Awaiting Model Update*>,\n",
              " (12, 7, 1): <gurobi.Constr *Awaiting Model Update*>,\n",
              " (12, 7, 2): <gurobi.Constr *Awaiting Model Update*>,\n",
              " (12, 7, 3): <gurobi.Constr *Awaiting Model Update*>,\n",
              " (12, 8, 1): <gurobi.Constr *Awaiting Model Update*>,\n",
              " (12, 8, 2): <gurobi.Constr *Awaiting Model Update*>,\n",
              " (12, 8, 3): <gurobi.Constr *Awaiting Model Update*>,\n",
              " (12, 9, 1): <gurobi.Constr *Awaiting Model Update*>,\n",
              " (12, 9, 2): <gurobi.Constr *Awaiting Model Update*>,\n",
              " (12, 9, 3): <gurobi.Constr *Awaiting Model Update*>,\n",
              " (12, 10, 1): <gurobi.Constr *Awaiting Model Update*>,\n",
              " (12, 10, 2): <gurobi.Constr *Awaiting Model Update*>,\n",
              " (12, 10, 3): <gurobi.Constr *Awaiting Model Update*>,\n",
              " (13, 1, 1): <gurobi.Constr *Awaiting Model Update*>,\n",
              " (13, 1, 2): <gurobi.Constr *Awaiting Model Update*>,\n",
              " (13, 1, 3): <gurobi.Constr *Awaiting Model Update*>,\n",
              " (13, 2, 1): <gurobi.Constr *Awaiting Model Update*>,\n",
              " (13, 2, 2): <gurobi.Constr *Awaiting Model Update*>,\n",
              " (13, 2, 3): <gurobi.Constr *Awaiting Model Update*>,\n",
              " (13, 3, 1): <gurobi.Constr *Awaiting Model Update*>,\n",
              " (13, 3, 2): <gurobi.Constr *Awaiting Model Update*>,\n",
              " (13, 3, 3): <gurobi.Constr *Awaiting Model Update*>,\n",
              " (13, 4, 1): <gurobi.Constr *Awaiting Model Update*>,\n",
              " (13, 4, 2): <gurobi.Constr *Awaiting Model Update*>,\n",
              " (13, 4, 3): <gurobi.Constr *Awaiting Model Update*>,\n",
              " (13, 5, 1): <gurobi.Constr *Awaiting Model Update*>,\n",
              " (13, 5, 2): <gurobi.Constr *Awaiting Model Update*>,\n",
              " (13, 5, 3): <gurobi.Constr *Awaiting Model Update*>,\n",
              " (13, 6, 1): <gurobi.Constr *Awaiting Model Update*>,\n",
              " (13, 6, 2): <gurobi.Constr *Awaiting Model Update*>,\n",
              " (13, 6, 3): <gurobi.Constr *Awaiting Model Update*>,\n",
              " (13, 7, 1): <gurobi.Constr *Awaiting Model Update*>,\n",
              " (13, 7, 2): <gurobi.Constr *Awaiting Model Update*>,\n",
              " (13, 7, 3): <gurobi.Constr *Awaiting Model Update*>,\n",
              " (13, 8, 1): <gurobi.Constr *Awaiting Model Update*>,\n",
              " (13, 8, 2): <gurobi.Constr *Awaiting Model Update*>,\n",
              " (13, 8, 3): <gurobi.Constr *Awaiting Model Update*>,\n",
              " (13, 9, 1): <gurobi.Constr *Awaiting Model Update*>,\n",
              " (13, 9, 2): <gurobi.Constr *Awaiting Model Update*>,\n",
              " (13, 9, 3): <gurobi.Constr *Awaiting Model Update*>,\n",
              " (13, 10, 1): <gurobi.Constr *Awaiting Model Update*>,\n",
              " (13, 10, 2): <gurobi.Constr *Awaiting Model Update*>,\n",
              " (13, 10, 3): <gurobi.Constr *Awaiting Model Update*>,\n",
              " (14, 1, 1): <gurobi.Constr *Awaiting Model Update*>,\n",
              " (14, 1, 2): <gurobi.Constr *Awaiting Model Update*>,\n",
              " (14, 1, 3): <gurobi.Constr *Awaiting Model Update*>,\n",
              " (14, 2, 1): <gurobi.Constr *Awaiting Model Update*>,\n",
              " (14, 2, 2): <gurobi.Constr *Awaiting Model Update*>,\n",
              " (14, 2, 3): <gurobi.Constr *Awaiting Model Update*>,\n",
              " (14, 3, 1): <gurobi.Constr *Awaiting Model Update*>,\n",
              " (14, 3, 2): <gurobi.Constr *Awaiting Model Update*>,\n",
              " (14, 3, 3): <gurobi.Constr *Awaiting Model Update*>,\n",
              " (14, 4, 1): <gurobi.Constr *Awaiting Model Update*>,\n",
              " (14, 4, 2): <gurobi.Constr *Awaiting Model Update*>,\n",
              " (14, 4, 3): <gurobi.Constr *Awaiting Model Update*>,\n",
              " (14, 5, 1): <gurobi.Constr *Awaiting Model Update*>,\n",
              " (14, 5, 2): <gurobi.Constr *Awaiting Model Update*>,\n",
              " (14, 5, 3): <gurobi.Constr *Awaiting Model Update*>,\n",
              " (14, 6, 1): <gurobi.Constr *Awaiting Model Update*>,\n",
              " (14, 6, 2): <gurobi.Constr *Awaiting Model Update*>,\n",
              " (14, 6, 3): <gurobi.Constr *Awaiting Model Update*>,\n",
              " (14, 7, 1): <gurobi.Constr *Awaiting Model Update*>,\n",
              " (14, 7, 2): <gurobi.Constr *Awaiting Model Update*>,\n",
              " (14, 7, 3): <gurobi.Constr *Awaiting Model Update*>,\n",
              " (14, 8, 1): <gurobi.Constr *Awaiting Model Update*>,\n",
              " (14, 8, 2): <gurobi.Constr *Awaiting Model Update*>,\n",
              " (14, 8, 3): <gurobi.Constr *Awaiting Model Update*>,\n",
              " (14, 9, 1): <gurobi.Constr *Awaiting Model Update*>,\n",
              " (14, 9, 2): <gurobi.Constr *Awaiting Model Update*>,\n",
              " (14, 9, 3): <gurobi.Constr *Awaiting Model Update*>,\n",
              " (14, 10, 1): <gurobi.Constr *Awaiting Model Update*>,\n",
              " (14, 10, 2): <gurobi.Constr *Awaiting Model Update*>,\n",
              " (14, 10, 3): <gurobi.Constr *Awaiting Model Update*>,\n",
              " (15, 1, 1): <gurobi.Constr *Awaiting Model Update*>,\n",
              " (15, 1, 2): <gurobi.Constr *Awaiting Model Update*>,\n",
              " (15, 1, 3): <gurobi.Constr *Awaiting Model Update*>,\n",
              " (15, 2, 1): <gurobi.Constr *Awaiting Model Update*>,\n",
              " (15, 2, 2): <gurobi.Constr *Awaiting Model Update*>,\n",
              " (15, 2, 3): <gurobi.Constr *Awaiting Model Update*>,\n",
              " (15, 3, 1): <gurobi.Constr *Awaiting Model Update*>,\n",
              " (15, 3, 2): <gurobi.Constr *Awaiting Model Update*>,\n",
              " (15, 3, 3): <gurobi.Constr *Awaiting Model Update*>,\n",
              " (15, 4, 1): <gurobi.Constr *Awaiting Model Update*>,\n",
              " (15, 4, 2): <gurobi.Constr *Awaiting Model Update*>,\n",
              " (15, 4, 3): <gurobi.Constr *Awaiting Model Update*>,\n",
              " (15, 5, 1): <gurobi.Constr *Awaiting Model Update*>,\n",
              " (15, 5, 2): <gurobi.Constr *Awaiting Model Update*>,\n",
              " (15, 5, 3): <gurobi.Constr *Awaiting Model Update*>,\n",
              " (15, 6, 1): <gurobi.Constr *Awaiting Model Update*>,\n",
              " (15, 6, 2): <gurobi.Constr *Awaiting Model Update*>,\n",
              " (15, 6, 3): <gurobi.Constr *Awaiting Model Update*>,\n",
              " (15, 7, 1): <gurobi.Constr *Awaiting Model Update*>,\n",
              " (15, 7, 2): <gurobi.Constr *Awaiting Model Update*>,\n",
              " (15, 7, 3): <gurobi.Constr *Awaiting Model Update*>,\n",
              " (15, 8, 1): <gurobi.Constr *Awaiting Model Update*>,\n",
              " (15, 8, 2): <gurobi.Constr *Awaiting Model Update*>,\n",
              " (15, 8, 3): <gurobi.Constr *Awaiting Model Update*>,\n",
              " (15, 9, 1): <gurobi.Constr *Awaiting Model Update*>,\n",
              " (15, 9, 2): <gurobi.Constr *Awaiting Model Update*>,\n",
              " (15, 9, 3): <gurobi.Constr *Awaiting Model Update*>,\n",
              " (15, 10, 1): <gurobi.Constr *Awaiting Model Update*>,\n",
              " (15, 10, 2): <gurobi.Constr *Awaiting Model Update*>,\n",
              " (15, 10, 3): <gurobi.Constr *Awaiting Model Update*>,\n",
              " (16, 1, 1): <gurobi.Constr *Awaiting Model Update*>,\n",
              " (16, 1, 2): <gurobi.Constr *Awaiting Model Update*>,\n",
              " (16, 1, 3): <gurobi.Constr *Awaiting Model Update*>,\n",
              " (16, 2, 1): <gurobi.Constr *Awaiting Model Update*>,\n",
              " (16, 2, 2): <gurobi.Constr *Awaiting Model Update*>,\n",
              " (16, 2, 3): <gurobi.Constr *Awaiting Model Update*>,\n",
              " (16, 3, 1): <gurobi.Constr *Awaiting Model Update*>,\n",
              " (16, 3, 2): <gurobi.Constr *Awaiting Model Update*>,\n",
              " (16, 3, 3): <gurobi.Constr *Awaiting Model Update*>,\n",
              " (16, 4, 1): <gurobi.Constr *Awaiting Model Update*>,\n",
              " (16, 4, 2): <gurobi.Constr *Awaiting Model Update*>,\n",
              " (16, 4, 3): <gurobi.Constr *Awaiting Model Update*>,\n",
              " (16, 5, 1): <gurobi.Constr *Awaiting Model Update*>,\n",
              " (16, 5, 2): <gurobi.Constr *Awaiting Model Update*>,\n",
              " (16, 5, 3): <gurobi.Constr *Awaiting Model Update*>,\n",
              " (16, 6, 1): <gurobi.Constr *Awaiting Model Update*>,\n",
              " (16, 6, 2): <gurobi.Constr *Awaiting Model Update*>,\n",
              " (16, 6, 3): <gurobi.Constr *Awaiting Model Update*>,\n",
              " (16, 7, 1): <gurobi.Constr *Awaiting Model Update*>,\n",
              " (16, 7, 2): <gurobi.Constr *Awaiting Model Update*>,\n",
              " (16, 7, 3): <gurobi.Constr *Awaiting Model Update*>,\n",
              " (16, 8, 1): <gurobi.Constr *Awaiting Model Update*>,\n",
              " (16, 8, 2): <gurobi.Constr *Awaiting Model Update*>,\n",
              " (16, 8, 3): <gurobi.Constr *Awaiting Model Update*>,\n",
              " (16, 9, 1): <gurobi.Constr *Awaiting Model Update*>,\n",
              " (16, 9, 2): <gurobi.Constr *Awaiting Model Update*>,\n",
              " (16, 9, 3): <gurobi.Constr *Awaiting Model Update*>,\n",
              " (16, 10, 1): <gurobi.Constr *Awaiting Model Update*>,\n",
              " (16, 10, 2): <gurobi.Constr *Awaiting Model Update*>,\n",
              " (16, 10, 3): <gurobi.Constr *Awaiting Model Update*>,\n",
              " (17, 1, 1): <gurobi.Constr *Awaiting Model Update*>,\n",
              " (17, 1, 2): <gurobi.Constr *Awaiting Model Update*>,\n",
              " (17, 1, 3): <gurobi.Constr *Awaiting Model Update*>,\n",
              " (17, 2, 1): <gurobi.Constr *Awaiting Model Update*>,\n",
              " (17, 2, 2): <gurobi.Constr *Awaiting Model Update*>,\n",
              " (17, 2, 3): <gurobi.Constr *Awaiting Model Update*>,\n",
              " (17, 3, 1): <gurobi.Constr *Awaiting Model Update*>,\n",
              " (17, 3, 2): <gurobi.Constr *Awaiting Model Update*>,\n",
              " (17, 3, 3): <gurobi.Constr *Awaiting Model Update*>,\n",
              " (17, 4, 1): <gurobi.Constr *Awaiting Model Update*>,\n",
              " (17, 4, 2): <gurobi.Constr *Awaiting Model Update*>,\n",
              " (17, 4, 3): <gurobi.Constr *Awaiting Model Update*>,\n",
              " (17, 5, 1): <gurobi.Constr *Awaiting Model Update*>,\n",
              " (17, 5, 2): <gurobi.Constr *Awaiting Model Update*>,\n",
              " (17, 5, 3): <gurobi.Constr *Awaiting Model Update*>,\n",
              " (17, 6, 1): <gurobi.Constr *Awaiting Model Update*>,\n",
              " (17, 6, 2): <gurobi.Constr *Awaiting Model Update*>,\n",
              " (17, 6, 3): <gurobi.Constr *Awaiting Model Update*>,\n",
              " (17, 7, 1): <gurobi.Constr *Awaiting Model Update*>,\n",
              " (17, 7, 2): <gurobi.Constr *Awaiting Model Update*>,\n",
              " (17, 7, 3): <gurobi.Constr *Awaiting Model Update*>,\n",
              " (17, 8, 1): <gurobi.Constr *Awaiting Model Update*>,\n",
              " (17, 8, 2): <gurobi.Constr *Awaiting Model Update*>,\n",
              " (17, 8, 3): <gurobi.Constr *Awaiting Model Update*>,\n",
              " (17, 9, 1): <gurobi.Constr *Awaiting Model Update*>,\n",
              " (17, 9, 2): <gurobi.Constr *Awaiting Model Update*>,\n",
              " (17, 9, 3): <gurobi.Constr *Awaiting Model Update*>,\n",
              " (17, 10, 1): <gurobi.Constr *Awaiting Model Update*>,\n",
              " (17, 10, 2): <gurobi.Constr *Awaiting Model Update*>,\n",
              " (17, 10, 3): <gurobi.Constr *Awaiting Model Update*>,\n",
              " (18, 1, 1): <gurobi.Constr *Awaiting Model Update*>,\n",
              " (18, 1, 2): <gurobi.Constr *Awaiting Model Update*>,\n",
              " (18, 1, 3): <gurobi.Constr *Awaiting Model Update*>,\n",
              " (18, 2, 1): <gurobi.Constr *Awaiting Model Update*>,\n",
              " (18, 2, 2): <gurobi.Constr *Awaiting Model Update*>,\n",
              " (18, 2, 3): <gurobi.Constr *Awaiting Model Update*>,\n",
              " (18, 3, 1): <gurobi.Constr *Awaiting Model Update*>,\n",
              " (18, 3, 2): <gurobi.Constr *Awaiting Model Update*>,\n",
              " (18, 3, 3): <gurobi.Constr *Awaiting Model Update*>,\n",
              " (18, 4, 1): <gurobi.Constr *Awaiting Model Update*>,\n",
              " (18, 4, 2): <gurobi.Constr *Awaiting Model Update*>,\n",
              " (18, 4, 3): <gurobi.Constr *Awaiting Model Update*>,\n",
              " (18, 5, 1): <gurobi.Constr *Awaiting Model Update*>,\n",
              " (18, 5, 2): <gurobi.Constr *Awaiting Model Update*>,\n",
              " (18, 5, 3): <gurobi.Constr *Awaiting Model Update*>,\n",
              " (18, 6, 1): <gurobi.Constr *Awaiting Model Update*>,\n",
              " (18, 6, 2): <gurobi.Constr *Awaiting Model Update*>,\n",
              " (18, 6, 3): <gurobi.Constr *Awaiting Model Update*>,\n",
              " (18, 7, 1): <gurobi.Constr *Awaiting Model Update*>,\n",
              " (18, 7, 2): <gurobi.Constr *Awaiting Model Update*>,\n",
              " (18, 7, 3): <gurobi.Constr *Awaiting Model Update*>,\n",
              " (18, 8, 1): <gurobi.Constr *Awaiting Model Update*>,\n",
              " (18, 8, 2): <gurobi.Constr *Awaiting Model Update*>,\n",
              " (18, 8, 3): <gurobi.Constr *Awaiting Model Update*>,\n",
              " (18, 9, 1): <gurobi.Constr *Awaiting Model Update*>,\n",
              " (18, 9, 2): <gurobi.Constr *Awaiting Model Update*>,\n",
              " (18, 9, 3): <gurobi.Constr *Awaiting Model Update*>,\n",
              " (18, 10, 1): <gurobi.Constr *Awaiting Model Update*>,\n",
              " (18, 10, 2): <gurobi.Constr *Awaiting Model Update*>,\n",
              " (18, 10, 3): <gurobi.Constr *Awaiting Model Update*>,\n",
              " (19, 1, 1): <gurobi.Constr *Awaiting Model Update*>,\n",
              " (19, 1, 2): <gurobi.Constr *Awaiting Model Update*>,\n",
              " (19, 1, 3): <gurobi.Constr *Awaiting Model Update*>,\n",
              " (19, 2, 1): <gurobi.Constr *Awaiting Model Update*>,\n",
              " (19, 2, 2): <gurobi.Constr *Awaiting Model Update*>,\n",
              " (19, 2, 3): <gurobi.Constr *Awaiting Model Update*>,\n",
              " (19, 3, 1): <gurobi.Constr *Awaiting Model Update*>,\n",
              " (19, 3, 2): <gurobi.Constr *Awaiting Model Update*>,\n",
              " (19, 3, 3): <gurobi.Constr *Awaiting Model Update*>,\n",
              " (19, 4, 1): <gurobi.Constr *Awaiting Model Update*>,\n",
              " (19, 4, 2): <gurobi.Constr *Awaiting Model Update*>,\n",
              " (19, 4, 3): <gurobi.Constr *Awaiting Model Update*>,\n",
              " (19, 5, 1): <gurobi.Constr *Awaiting Model Update*>,\n",
              " (19, 5, 2): <gurobi.Constr *Awaiting Model Update*>,\n",
              " (19, 5, 3): <gurobi.Constr *Awaiting Model Update*>,\n",
              " (19, 6, 1): <gurobi.Constr *Awaiting Model Update*>,\n",
              " (19, 6, 2): <gurobi.Constr *Awaiting Model Update*>,\n",
              " (19, 6, 3): <gurobi.Constr *Awaiting Model Update*>,\n",
              " (19, 7, 1): <gurobi.Constr *Awaiting Model Update*>,\n",
              " (19, 7, 2): <gurobi.Constr *Awaiting Model Update*>,\n",
              " (19, 7, 3): <gurobi.Constr *Awaiting Model Update*>,\n",
              " (19, 8, 1): <gurobi.Constr *Awaiting Model Update*>,\n",
              " (19, 8, 2): <gurobi.Constr *Awaiting Model Update*>,\n",
              " (19, 8, 3): <gurobi.Constr *Awaiting Model Update*>,\n",
              " (19, 9, 1): <gurobi.Constr *Awaiting Model Update*>,\n",
              " (19, 9, 2): <gurobi.Constr *Awaiting Model Update*>,\n",
              " (19, 9, 3): <gurobi.Constr *Awaiting Model Update*>,\n",
              " (19, 10, 1): <gurobi.Constr *Awaiting Model Update*>,\n",
              " (19, 10, 2): <gurobi.Constr *Awaiting Model Update*>,\n",
              " (19, 10, 3): <gurobi.Constr *Awaiting Model Update*>}"
            ]
          },
          "metadata": {},
          "execution_count": 95
        }
      ]
    },
    {
      "cell_type": "code",
      "source": [
        "# Optimizar modelo\n",
        "m.optimize()\n"
      ],
      "metadata": {
        "id": "0rjv-fwCXcqV"
      },
      "execution_count": null,
      "outputs": []
    },
    {
      "cell_type": "code",
      "source": [
        "# Imprimir resultado\n",
        "if m.status == GRB.OPTIMAL:\n",
        "    print(f\"Objetivo: {m.objVal:.2f}\")\n",
        "    print(\"Instalaciones construidas:\")\n",
        "    for s in S:\n",
        "        for t in T:\n",
        "            if x[s, t].x > 0.5:\n",
        "                print(f\"Facility {s} of size {t} is built.\")\n",
        "                print(\"Demandas atendidas:\")\n",
        "                for j in D:\n",
        "                  for s in S:\n",
        "                    if y[s, j].x > 0.5:\n",
        "                      print(f\"Demand point {j} is served by facility {s}.\")\n",
        "                    #else:\n",
        "                      #print(\"El modelo no pudo ser resuelto.\")\n",
        "\n"
      ],
      "metadata": {
        "id": "xofrz-8QW5x1"
      },
      "execution_count": null,
      "outputs": []
    }
  ]
}