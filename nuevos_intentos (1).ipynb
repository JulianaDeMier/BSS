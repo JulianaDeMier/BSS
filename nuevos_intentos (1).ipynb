{
  "nbformat": 4,
  "nbformat_minor": 0,
  "metadata": {
    "colab": {
      "provenance": []
    },
    "kernelspec": {
      "name": "python3",
      "display_name": "Python 3"
    },
    "language_info": {
      "name": "python"
    }
  },
  "cells": [
    {
      "cell_type": "code",
      "source": [
        "pip install gurobipy"
      ],
      "metadata": {
        "colab": {
          "base_uri": "https://localhost:8080/"
        },
        "id": "ubq9NV0LlEjw",
        "outputId": "7c8298b0-0086-46a5-c4dc-446fcc51cead"
      },
      "execution_count": 1,
      "outputs": [
        {
          "output_type": "stream",
          "name": "stdout",
          "text": [
            "Looking in indexes: https://pypi.org/simple, https://us-python.pkg.dev/colab-wheels/public/simple/\n",
            "Collecting gurobipy\n",
            "  Downloading gurobipy-10.0.1-cp38-cp38-manylinux2014_x86_64.whl (12.8 MB)\n",
            "\u001b[2K     \u001b[90m━━━━━━━━━━━━━━━━━━━━━━━━━━━━━━━━━━━━━━━━\u001b[0m \u001b[32m12.8/12.8 MB\u001b[0m \u001b[31m27.1 MB/s\u001b[0m eta \u001b[36m0:00:00\u001b[0m\n",
            "\u001b[?25hInstalling collected packages: gurobipy\n",
            "Successfully installed gurobipy-10.0.1\n"
          ]
        }
      ]
    },
    {
      "cell_type": "code",
      "source": [
        "pip install pulp"
      ],
      "metadata": {
        "colab": {
          "base_uri": "https://localhost:8080/"
        },
        "id": "G-scw2ZYEeV1",
        "outputId": "77ac5b32-1ed6-4bc6-f3cf-ebdc12fad83b"
      },
      "execution_count": 2,
      "outputs": [
        {
          "output_type": "stream",
          "name": "stdout",
          "text": [
            "Looking in indexes: https://pypi.org/simple, https://us-python.pkg.dev/colab-wheels/public/simple/\n",
            "Collecting pulp\n",
            "  Downloading PuLP-2.7.0-py3-none-any.whl (14.3 MB)\n",
            "\u001b[2K     \u001b[90m━━━━━━━━━━━━━━━━━━━━━━━━━━━━━━━━━━━━━━━━\u001b[0m \u001b[32m14.3/14.3 MB\u001b[0m \u001b[31m40.5 MB/s\u001b[0m eta \u001b[36m0:00:00\u001b[0m\n",
            "\u001b[?25hInstalling collected packages: pulp\n",
            "Successfully installed pulp-2.7.0\n"
          ]
        }
      ]
    },
    {
      "cell_type": "code",
      "source": [
        "import pandas as pd\n",
        "import numpy as np\n",
        "import matplotlib.pyplot as plt\n",
        "from sklearn.linear_model import LinearRegression"
      ],
      "metadata": {
        "id": "2z_IiZ11EtF8"
      },
      "execution_count": 3,
      "outputs": []
    },
    {
      "cell_type": "code",
      "execution_count": null,
      "metadata": {
        "colab": {
          "base_uri": "https://localhost:8080/"
        },
        "id": "435FhvNTk_vm",
        "outputId": "3228819b-ec99-4d51-d5fb-ae9d472e17af"
      },
      "outputs": [
        {
          "output_type": "stream",
          "name": "stdout",
          "text": [
            "Restricted license - for non-production use only - expires 2024-10-28\n",
            "Gurobi Optimizer version 10.0.1 build v10.0.1rc0 (linux64)\n",
            "\n",
            "CPU model: Intel(R) Xeon(R) CPU @ 2.20GHz, instruction set [SSE2|AVX|AVX2]\n",
            "Thread count: 1 physical cores, 2 logical processors, using up to 2 threads\n",
            "\n",
            "Optimize a model with 5 rows, 15 columns and 15 nonzeros\n",
            "Model fingerprint: 0x29f9c57b\n",
            "Variable types: 0 continuous, 15 integer (0 binary)\n",
            "Coefficient statistics:\n",
            "  Matrix range     [1e+00, 1e+00]\n",
            "  Objective range  [1e+01, 3e+01]\n",
            "  Bounds range     [0e+00, 0e+00]\n",
            "  RHS range        [1e+01, 5e+01]\n",
            "Found heuristic solution: objective 4500.0000000\n",
            "Presolve removed 5 rows and 15 columns\n",
            "Presolve time: 0.00s\n",
            "Presolve: All rows and columns removed\n",
            "\n",
            "Explored 0 nodes (0 simplex iterations) in 0.02 seconds (0.00 work units)\n",
            "Thread count was 1 (of 2 available processors)\n",
            "\n",
            "Solution count 2: 1500 4500 \n",
            "\n",
            "Optimal solution found (tolerance 1.00e-04)\n",
            "Best objective 1.500000000000e+03, best bound 1.500000000000e+03, gap 0.0000%\n",
            "Ubicación 1 tamaño 1 cantidad 30.0\n",
            "Ubicación 2 tamaño 1 cantidad 20.0\n",
            "Ubicación 3 tamaño 1 cantidad 40.0\n",
            "Ubicación 4 tamaño 1 cantidad 10.0\n",
            "Ubicación 5 tamaño 1 cantidad 50.0\n"
          ]
        }
      ],
      "source": [
        "from gurobipy import *\n",
        "\n",
        "# Datos de entrada\n",
        "costos = [10, 20, 30] # Costos de cada tamaño de estación\n",
        "demand = [30, 20, 40, 10, 50] # Demanda en cada ubicación\n",
        "ubicaciones = 5 # Número de ubicaciones\n",
        "tamanos = 3 # Número de tamaños de estaciones\n",
        "\n",
        "# Inicializar modelo\n",
        "m = Model(\"Bicicletas compartidas\")\n",
        "\n",
        "# Variables de decisión\n",
        "estaciones = {}\n",
        "for i in range(ubicaciones):\n",
        "    for j in range(tamanos):\n",
        "        estaciones[i,j] = m.addVar(vtype=GRB.INTEGER, name=\"Estacion_\"+str(i+1)+\"_\"+str(j+1))\n",
        "\n",
        "# Función objetivo\n",
        "m.setObjective(quicksum(costos[j] * estaciones[i,j] for i in range(ubicaciones) for j in range(tamanos)), GRB.MINIMIZE)\n",
        "\n",
        "# Restricciones\n",
        "for i in range(ubicaciones):\n",
        "    m.addConstr(quicksum(estaciones[i,j] for j in range(tamanos)) >= demand[i], \"Demanda_\"+str(i+1))\n",
        "\n",
        "# Resolver modelo\n",
        "m.optimize()\n",
        "\n",
        "# Imprimir resultados\n",
        "for i in range(ubicaciones):\n",
        "    for j in range(tamanos):\n",
        "        if estaciones[i,j].x > 0:\n",
        "            print(\"Ubicación\", i+1, \"tamaño\", j+1, \"cantidad\", estaciones[i,j].x)\n"
      ]
    },
    {
      "cell_type": "code",
      "source": [
        "from gurobipy import *\n",
        "\n",
        "# Datos de entrada\n",
        "costos = [10, 20, 30] # Costos de cada tamaño de estación\n",
        "demand = [30, 20, 40, 10, 50] # Demanda en cada ubicación\n",
        "ubicaciones = 5 # Número de ubicaciones\n",
        "tamanos = 3 # Número de tamaños de estaciones\n",
        "\n",
        "# Inicializar modelo\n",
        "m = Model(\"Bicicletas compartidas\")\n",
        "\n",
        "# Variables de decisión\n",
        "abrir = {} # Indicador si una estación se abre o no\n",
        "estaciones = {} # Número de bicicletas en una estación abierta\n",
        "for i in range(ubicaciones):\n",
        "    for j in range(tamanos):\n",
        "        abrir[i,j] = m.addVar(vtype=GRB.BINARY, name=\"Abrir_\"+str(i+1)+\"_\"+str(j+1))\n",
        "        estaciones[i,j] = m.addVar(vtype=GRB.INTEGER, name=\"Estacion_\"+str(i+1)+\"_\"+str(j+1))\n",
        "\n",
        "# Función objetivo\n",
        "m.setObjective(quicksum(costos[j] * abrir[i,j] for i in range(ubicaciones) for j in range(tamanos)), GRB.MINIMIZE)\n",
        "\n",
        "# Restricciones\n",
        "for i in range(ubicaciones):\n",
        "    m.addConstr(quicksum(estaciones[i,j] for j in range(tamanos)) >= demand[i], \"Demanda_\"+str(i+1))\n",
        "    for j in range(tamanos):\n",
        "        m.addConstr(estaciones[i,j] <= abrir[i,j] * 10000, \"Estaciones_abiertas_\"+str(i+1)+\"_\"+str(j+1))\n",
        "\n",
        "# Resolver modelo\n",
        "m.optimize()\n",
        "\n",
        "# Imprimir resultados\n",
        "for i in range(ubicaciones):\n",
        "    for j in range(tamanos):\n",
        "        if abrir[i,j].x > 0:\n",
        "            print(\"Ubicación\", i+1, \"tamaño\", j+1, \"cantidad\", estaciones[i,j].x)\n"
      ],
      "metadata": {
        "id": "Ac4Uzj39poUN",
        "colab": {
          "base_uri": "https://localhost:8080/"
        },
        "outputId": "fc6f0c03-7385-453e-a366-2aa06186ccc2"
      },
      "execution_count": null,
      "outputs": [
        {
          "output_type": "stream",
          "name": "stdout",
          "text": [
            "Gurobi Optimizer version 10.0.1 build v10.0.1rc0 (linux64)\n",
            "\n",
            "CPU model: Intel(R) Xeon(R) CPU @ 2.20GHz, instruction set [SSE2|AVX|AVX2]\n",
            "Thread count: 1 physical cores, 2 logical processors, using up to 2 threads\n",
            "\n",
            "Optimize a model with 20 rows, 30 columns and 45 nonzeros\n",
            "Model fingerprint: 0xfd3ff7e3\n",
            "Variable types: 0 continuous, 30 integer (15 binary)\n",
            "Coefficient statistics:\n",
            "  Matrix range     [1e+00, 1e+04]\n",
            "  Objective range  [1e+01, 3e+01]\n",
            "  Bounds range     [1e+00, 1e+00]\n",
            "  RHS range        [1e+01, 5e+01]\n",
            "Found heuristic solution: objective 130.0000000\n",
            "Presolve removed 20 rows and 30 columns\n",
            "Presolve time: 0.00s\n",
            "Presolve: All rows and columns removed\n",
            "\n",
            "Explored 0 nodes (0 simplex iterations) in 0.01 seconds (0.00 work units)\n",
            "Thread count was 1 (of 2 available processors)\n",
            "\n",
            "Solution count 2: 50 130 \n",
            "\n",
            "Optimal solution found (tolerance 1.00e-04)\n",
            "Best objective 5.000000000000e+01, best bound 5.000000000000e+01, gap 0.0000%\n",
            "Ubicación 1 tamaño 1 cantidad 10000.0\n",
            "Ubicación 2 tamaño 1 cantidad 10000.0\n",
            "Ubicación 3 tamaño 1 cantidad 10000.0\n",
            "Ubicación 4 tamaño 1 cantidad 10000.0\n",
            "Ubicación 5 tamaño 1 cantidad 10000.0\n"
          ]
        }
      ]
    },
    {
      "cell_type": "code",
      "source": [
        "from pulp import *\n",
        "\n",
        "# Datos de entrada\n",
        "costos = [10, 20, 30] # Costos de cada tamaño de estación\n",
        "demand = [30, 20, 40, 10, 50] # Demanda en cada ubicación\n",
        "ubicaciones = 5 # Número de ubicaciones\n",
        "tamanos = 3 # Número de tamaños de estaciones\n",
        "\n",
        "# Inicializar modelo\n",
        "m = LpProblem(\"Bicicletas compartidas\", LpMinimize)\n",
        "\n",
        "# Variables de decisión\n",
        "abrir = LpVariable.dicts(\"Abrir\", [(i, j) for i in range(ubicaciones) for j in range(tamanos)], 0, 1, LpBinary)\n",
        "estaciones = LpVariable.dicts(\"Estacion\", [(i, j) for i in range(ubicaciones) for j in range(tamanos)], 0, None, LpInteger)\n",
        "\n",
        "# Función objetivo\n",
        "m += lpSum(costos[j] * abrir[i,j] for i in range(ubicaciones) for j in range(tamanos))\n",
        "\n",
        "# Restricciones\n",
        "for i in range(ubicaciones):\n",
        "    m += lpSum(estaciones[i,j] for j in range(tamanos)) >= demand[i], \"Demanda_\"+str(i+1)\n",
        "    for j in range(tamanos):\n",
        "        m += estaciones[i,j] <= abrir[i,j] * 10000, \"Estaciones_abiertas_\"+str(i+1)+\"_\"+str(j+1)\n",
        "\n",
        "# Resolver modelo\n",
        "m.solve()\n",
        "\n",
        "# Imprimir resultados\n",
        "for i in range(ubicaciones):\n",
        "    for j in range(tamanos):\n",
        "        if abrir[i,j].value() > 0:\n",
        "            print(\"Ubicación\", i+1, \"tamaño\", j+1, \"cantidad\", estaciones[i,j].value())\n"
      ],
      "metadata": {
        "id": "9EciV3W2qBB9",
        "colab": {
          "base_uri": "https://localhost:8080/"
        },
        "outputId": "7fc1f7bf-e620-435a-bb9c-2e24af8c4006"
      },
      "execution_count": null,
      "outputs": [
        {
          "output_type": "stream",
          "name": "stdout",
          "text": [
            "Ubicación 1 tamaño 1 cantidad 30.0\n",
            "Ubicación 2 tamaño 1 cantidad 20.0\n",
            "Ubicación 3 tamaño 1 cantidad 40.0\n",
            "Ubicación 4 tamaño 1 cantidad 10.0\n",
            "Ubicación 5 tamaño 1 cantidad 50.0\n"
          ]
        },
        {
          "output_type": "stream",
          "name": "stderr",
          "text": [
            "/usr/local/lib/python3.8/dist-packages/pulp/pulp.py:1352: UserWarning: Spaces are not permitted in the name. Converted to '_'\n",
            "  warnings.warn(\"Spaces are not permitted in the name. Converted to '_'\")\n"
          ]
        }
      ]
    },
    {
      "cell_type": "code",
      "source": [
        "from pulp import *\n",
        "\n",
        "# Datos de entrada\n",
        "costos = [10, 20, 30] # Costos de cada tamaño de estación\n",
        "demand = [30, 20, 40, 10, 50] # Demanda en cada ubicación\n",
        "ubicaciones = 5 # Número de ubicaciones\n",
        "tamanos = 3 # Número de tamaños de estaciones\n",
        "distancia_maxima = 10 # Distancia máxima entre estaciones\n",
        "\n",
        "# Inicializar modelo\n",
        "m = LpProblem(\"Bicicletas compartidas\", LpMinimize)\n",
        "\n",
        "# Variables de decisión\n",
        "abrir = LpVariable.dicts(\"Abrir\", [(i, j) for i in range(ubicaciones) for j in range(tamanos)], 0, 1, LpBinary)\n",
        "estaciones = LpVariable.dicts(\"Estacion\", [(i, j) for i in range(ubicaciones) for j in range(tamanos)], 0, None, LpInteger)\n",
        "\n",
        "# Función objetivo\n",
        "m += lpSum(costos[j] * abrir[i,j] for i in range(ubicaciones) for j in range(tamanos))\n",
        "\n",
        "# Restricciones\n",
        "for i in range(ubicaciones):\n",
        "    m += lpSum(estaciones[i,j] for j in range(tamanos)) >= demand[i], \"Demanda_\"+str(i+1)\n",
        "    for j in range(tamanos):\n",
        "        m += estaciones[i,j] <= abrir[i,j] * 10000, \"Estaciones_abiertas_\"+str(i+1)+\"_\"+str(j+1)\n",
        "\n",
        "for i in range(ubicaciones):\n",
        "    for j in range(i+1, ubicaciones):\n",
        "        m += lpSum(abrir[i,k] + abrir[j,k] for k in range(tamanos)) <= 1, \"Distancia_maxima_\"+str(i+1)+\"_\"+str(j+1)\n",
        "\n",
        "# Resolver modelo\n",
        "m.solve()\n",
        "\n",
        "# Imprimir resultados\n",
        "for i in range(ubicaciones):\n",
        "    for j in range(tamanos):\n",
        "        if abrir[i,j].value() > 0:\n",
        "            print(\"Ubicación\", i+1, \"tamaño\", j+1, \"cantidad\", estaciones[i,j].value())\n"
      ],
      "metadata": {
        "colab": {
          "base_uri": "https://localhost:8080/"
        },
        "id": "wZ1-qyOivDFr",
        "outputId": "383cd3d8-68e7-461b-9674-2b8f8956d743"
      },
      "execution_count": null,
      "outputs": [
        {
          "output_type": "stream",
          "name": "stdout",
          "text": [
            "Ubicación 1 tamaño 1 cantidad 30.0\n",
            "Ubicación 2 tamaño 1 cantidad 20.0\n",
            "Ubicación 3 tamaño 1 cantidad 40.0\n",
            "Ubicación 4 tamaño 1 cantidad 10.0\n",
            "Ubicación 5 tamaño 1 cantidad 50.0\n"
          ]
        }
      ]
    },
    {
      "cell_type": "markdown",
      "source": [
        "Prediccion de la demanda"
      ],
      "metadata": {
        "id": "P0Pyvn4PEHec"
      }
    },
    {
      "cell_type": "code",
      "source": [
        "import pandas as pd\n",
        "import numpy as np\n",
        "import matplotlib.pyplot as plt\n",
        "from sklearn.linear_model import LinearRegression\n",
        "\n",
        "# Invented data for 10 locations in Bogota\n",
        "location_names = ['Location 1', 'Location 2', 'Location 3', 'Location 4', 'Location 5',\n",
        "                  'Location 6', 'Location 7', 'Location 8', 'Location 9', 'Location 10']\n",
        "population_density = np.random.randint(1000, 10000, size=10)\n",
        "age = np.random.randint(20, 70, size=10)\n",
        "income = np.random.randint(10000, 100000, size=10)\n",
        "tourists = np.random.randint(0, 1000, size=10)\n",
        "temperature = np.random.randint(15, 35, size=10)\n",
        "events = np.random.randint(0, 100, size=10)\n",
        "demand = np.random.randint(100, 1000, size=10)\n",
        "\n",
        "# Create a dataframe from the invented data\n",
        "data = pd.DataFrame({'location': location_names,\n",
        "                     'population_density': population_density,\n",
        "                     'age': age,\n",
        "                     'income': income,\n",
        "                     'tourists': tourists,\n",
        "                     'temperature': temperature,\n",
        "                     'events': events,\n",
        "                     'demand': demand})\n",
        "\n",
        "# Use the population density, age, income, tourists, temperature, and events as predictors\n",
        "X = data[['population_density', 'age', 'income', 'tourists', 'temperature', 'events']]\n",
        "y = data['demand']\n",
        "\n",
        "# Fit the linear regression model\n",
        "model = LinearRegression()\n",
        "model.fit(X, y)\n",
        "\n",
        "# Use the model to make predictions on new data\n",
        "new_data = pd.DataFrame({'location': ['New Location 1', 'New Location 2'],\n",
        "                         'population_density': [5000, 6000],\n",
        "                         'age': [40, 50],\n",
        "                         'income': [50000, 60000],\n",
        "                         'tourists': [500, 600],\n",
        "                         'temperature': [25, 30],\n",
        "                         'events': [50, 60]})\n",
        "predictions = model.predict(new_data[['population_density', 'age', 'income', 'tourists', 'temperature', 'events']])\n",
        "\n",
        "# Print the predictions\n",
        "for location, prediction in zip(new_data['location'], predictions):\n",
        "    print(f'The predicted demand for {location} is {prediction:.2f}')\n",
        "\n",
        "# Plot the predictions\n",
        "plt.plot(predictions, label='Predicted Demand')\n",
        "plt.legend()\n",
        "plt.show()\n"
      ],
      "metadata": {
        "colab": {
          "base_uri": "https://localhost:8080/",
          "height": 300
        },
        "id": "5rs_L7Z9FQQE",
        "outputId": "45dcb79d-a938-4a2f-cf7a-451237bef1cc"
      },
      "execution_count": null,
      "outputs": [
        {
          "output_type": "stream",
          "name": "stdout",
          "text": [
            "The predicted demand for New Location 1 is 792.68\n",
            "The predicted demand for New Location 2 is 714.48\n"
          ]
        },
        {
          "output_type": "display_data",
          "data": {
            "text/plain": [
              "<Figure size 432x288 with 1 Axes>"
            ],
            "image/png": "[encoded data removed]"
          },
          "metadata": {
            "needs_background": "light"
          }
        }
      ]
    },
    {
      "cell_type": "code",
      "source": [
        "import pandas as pd\n",
        "import numpy as np\n",
        "import matplotlib.pyplot as plt\n",
        "from sklearn.linear_model import LinearRegression\n",
        "\n",
        "# Invented data for 10 locations in Bogota\n",
        "location_names = ['Location 1', 'Location 2', 'Location 3', 'Location 4', 'Location 5',\n",
        "                  'Location 6', 'Location 7', 'Location 8', 'Location 9', 'Location 10']\n",
        "population_density = np.random.randint(1000, 10000, size=10)\n",
        "age = np.random.randint(20, 70, size=10)\n",
        "income = np.random.randint(10000, 100000, size=10)\n",
        "tourists = np.random.randint(0, 1000, size=10)\n",
        "temperature = np.random.randint(15, 35, size=10)\n",
        "events = np.random.randint(0, 100, size=10)\n",
        "demand = np.random.randint(100, 1000, size=10)\n",
        "\n",
        "# Create a dataframe from the invented data\n",
        "data = pd.DataFrame({'location': location_names,\n",
        "                     'population_density': population_density,\n",
        "                     'age': age,\n",
        "                     'income': income,\n",
        "                     'tourists': tourists,\n",
        "                     'temperature': temperature,\n",
        "                     'events': events,\n",
        "                     'demand': demand})\n",
        "\n",
        "# Use the population density, age, income, tourists, temperature, and events as predictors\n",
        "X = data[['population_density', 'age', 'income', 'tourists', 'temperature', 'events']]\n",
        "y = data['demand']\n",
        "\n",
        "# Fit the linear regression model\n",
        "model = LinearRegression()\n",
        "model.fit(X, y)\n",
        "\n",
        "# Use the model to make predictions on new data\n",
        "new_data = pd.DataFrame({'location': ['New Location 1', 'New Location 2'],\n",
        "                         'population_density': [5000, 6000],\n",
        "                         'age': [40, 50],\n",
        "                         'income': [50000, 60000],\n",
        "                         'tourists': [500, 600],\n",
        "                         'temperature': [25, 30],\n",
        "                         'events': [50, 60]})\n",
        "predictions = model.predict(new_data[['population_density', 'age', 'income', 'tourists', 'temperature', 'events']])\n",
        "\n",
        "# Print the predictions\n",
        "for location, prediction in zip(new_data['location'], predictions):\n",
        "    print(f'The predicted demand for {location} is {prediction:.2f}')\n",
        "\n",
        "# Plot the predictions\n",
        "plt.plot(predictions, label='Predicted Demand')\n",
        "plt.legend()\n",
        "plt.show()\n"
      ],
      "metadata": {
        "colab": {
          "base_uri": "https://localhost:8080/",
          "height": 300
        },
        "id": "q0avuv8HIbRy",
        "outputId": "eb5b313e-b28f-4f67-e4f8-e421dedf792f"
      },
      "execution_count": null,
      "outputs": [
        {
          "output_type": "stream",
          "name": "stdout",
          "text": [
            "The predicted demand for New Location 1 is 513.26\n",
            "The predicted demand for New Location 2 is 293.35\n"
          ]
        },
        {
          "output_type": "display_data",
          "data": {
            "text/plain": [
              "<Figure size 432x288 with 1 Axes>"
            ],
            "image/png": "[encoded data removed]"
          },
          "metadata": {
            "needs_background": "light"
          }
        }
      ]
    },
    {
      "cell_type": "markdown",
      "source": [
        "## **Añadir diferentes tamaños para las estaciones **"
      ],
      "metadata": {
        "id": "JbQd5tSiEQsk"
      }
    },
    {
      "cell_type": "code",
      "source": [
        "import numpy as np\n",
        "import pulp\n",
        "\n",
        "# Invented data for 5 potential locations in Bogota\n",
        "location_names = ['Location 1', 'Location 2', 'Location 3', 'Location 4', 'Location 5']\n",
        "demand = np.random.randint(100, 1000, size=5)\n",
        "distance = np.random.randint(1, 10, size=5)\n",
        "\n",
        "# Costs for small, medium, and large stations\n",
        "small_cost = 1000\n",
        "medium_cost = 2000\n",
        "large_cost = 3000\n",
        "\n",
        "# Maximum distance between stations\n",
        "max_distance = 7\n",
        "\n",
        "# Define the decision variables\n",
        "x = pulp.LpVariable.dicts('x', [(i, j) for i in range(len(location_names)) for j in range(3)],\n",
        "                           cat=pulp.LpBinary) # binary variables indicating if a station is opened and what size it is\n",
        "\n",
        "# Define the problem\n",
        "prob = pulp.LpProblem('Bicycle Station Optimization', pulp.LpMinimize)\n",
        "\n",
        "# Define the constraints\n",
        "prob += pulp.lpSum([x[(i, j)] for i in range(len(location_names)) for j in range(3)]) == demand[i], f'Demand {i}'\n",
        "prob += pulp.lpSum([x[(i, j)] * distance[i] for i in range(len(location_names)) for j in range(3)]) <= max_distance, 'Max Distance'\n",
        "for i in range(len(location_names)):\n",
        "    prob += pulp.lpSum([x[(i, j)] for j in range(3)]) <= 1, f'Size {i}'\n",
        "\n",
        "# Define the objective function\n",
        "prob += small_cost * pulp.lpSum([x[(i, 0)] for i in range(len(location_names))]) + \\\n",
        "        medium_cost * pulp.lpSum([x[(i, 1)] for i in range(len(location_names))]) + \\\n",
        "        large_cost * pulp.lpSum([x[(i, 2)] for i in range(len(location_names))])\n",
        "\n",
        "# Solve the problem\n",
        "prob.solve()\n",
        "\n",
        "# Print the results\n",
        "print(f'Optimal Cost: {pulp.value(prob.objective)}')\n",
        "for i, location in enumerate(location_names):\n",
        "    if x[(i, 0)].varValue:\n",
        "        print(f'{location}: Small Station')\n",
        "    elif x[(i, 1)].varValue:\n",
        "        print(f'{location}: Medium Station')\n",
        "    elif x[(i, 2)].varValue:\n",
        "        print(f'{location}: Large Station')\n"
      ],
      "metadata": {
        "colab": {
          "base_uri": "https://localhost:8080/"
        },
        "id": "LOWba3pML15B",
        "outputId": "cbc209dc-f609-4372-c189-ef39f6b88a2c"
      },
      "execution_count": null,
      "outputs": [
        {
          "output_type": "stream",
          "name": "stdout",
          "text": [
            "Optimal Cost: 771666.66\n",
            "Location 1: Small Station\n",
            "Location 2: Small Station\n",
            "Location 3: Small Station\n",
            "Location 4: Small Station\n",
            "Location 5: Small Station\n"
          ]
        },
        {
          "output_type": "stream",
          "name": "stderr",
          "text": [
            "/usr/local/lib/python3.8/dist-packages/pulp/pulp.py:1352: UserWarning: Spaces are not permitted in the name. Converted to '_'\n",
            "  warnings.warn(\"Spaces are not permitted in the name. Converted to '_'\")\n"
          ]
        }
      ]
    },
    {
      "cell_type": "code",
      "source": [
        "from pulp import *\n",
        "\n",
        "# Declare variables\n",
        "x_s = LpVariable.dicts(\"small_stations\", (locations), lowBound=0, upBound=1, cat='Binary')\n",
        "x_m = LpVariable.dicts(\"medium_stations\", (locations), lowBound=0, upBound=1, cat='Binary')\n",
        "x_l = LpVariable.dicts(\"large_stations\", (locations), lowBound=0, upBound=1, cat='Binary')\n",
        "y = LpVariable.dicts(\"bikes\", (locations, locations), lowBound=0, upBound=None, cat='Integer')\n",
        "\n",
        "# Declare problem\n",
        "prob = LpProblem(\"Bike Sharing Optimization\", LpMinimize)\n",
        "\n",
        "# Objective function\n",
        "prob += lpSum([x_s[i] + x_m[i] + x_l[i] for i in locations])\n",
        "\n",
        "# Constraints\n",
        "for i in locations:\n",
        "    prob += lpSum([y[i][j] for j in locations]) == demand[i], \"Demand_met_at_location_%s\"%i\n",
        "    prob += lpSum([y[i][j] for j in locations]) <= capacity_s[i]*x_s[i] + capacity_m[i]*x_m[i] + capacity_l[i]*x_l[i], \"Capacity_constraint_at_location_%s\"%i\n",
        "\n",
        "for i in locations:\n",
        "    for j in locations:\n",
        "        prob += y[i][j] <= distance[i][j]*(x_s[i] + x_m[i] + x_l[i]), \"Distance_constraint_between_location_%s_and_%s\"%(i,j)\n",
        "\n",
        "# Total number of bikes constraint\n",
        "prob += lpSum([y[i][j] for i in locations for j in locations]) <= total_bikes, \"Total_bikes_constraint\"\n",
        "\n",
        "# Total cost constraint\n",
        "prob += lpSum([costs_s[i]*x_s[i] + costs_m[i]*x_m[i] + costs_l[i]*x_l[i] for i in locations]) <= total_cost, \"Total_cost_constraint\"\n",
        "\n",
        "# Total size constraint\n",
        "prob += lpSum([x_s[i] + x_m[i] + x_l[i] for i in locations]) <= total_size, \"Total_size_constraint\"\n",
        "\n",
        "# Solve problem\n",
        "prob.solve()\n",
        "\n",
        "# Print results\n",
        "print(\"Status:\", LpStatus[prob.status])\n",
        "for v in prob.variables():\n",
        "    print(v.name, \"=\", v.varValue)\n",
        "print(\"Number of Stations Opened = \", value(prob.objective))\n"
      ],
      "metadata": {
        "id": "YKEox_9RQUS3"
      },
      "execution_count": null,
      "outputs": []
    },
    {
      "cell_type": "markdown",
      "source": [
        "# **intento de unir los problemas **"
      ],
      "metadata": {
        "id": "30Gh2yGfMCI7"
      }
    },
    {
      "cell_type": "code",
      "source": [
        "import numpy as np\n",
        "import pulp\n",
        "\n",
        "# Invented data for 5 potential locations in Bogota\n",
        "location_names = ['Location 1', 'Location 2', 'Location 3', 'Location 4', 'Location 5']\n",
        "demand = np.random.randint(100, 1000, size=5)\n",
        "distance = np.random.randint(1, 10, size=5)\n",
        "\n",
        "# Costs for small, medium, and large stations\n",
        "small_cost = 1000\n",
        "medium_cost = 2000\n",
        "large_cost = 3000\n",
        "\n",
        "# Maximum distance between stations\n",
        "max_distance = 7\n",
        "\n",
        "# Define the decision variables\n",
        "x = pulp.LpVariable.dicts('x', [(i, j) for i in range(len(location_names)) for j in range(3)],\n",
        "                           cat=pulp.LpBinary) # binary variables indicating if a station is opened and what size it is\n",
        "\n",
        "# Define the problem\n",
        "prob = pulp.LpProblem('Bicycle Station Optimization', pulp.LpMinimize)\n",
        "\n",
        "# Define the constraints\n",
        "prob += pulp.lpSum([x[(i, j)] for i in range(len(location_names)) for j in range(3)]) == demand[i], f'Demand {i}'\n",
        "prob += pulp.lpSum([x[(i, j)] * distance[i] for i in range(len(location_names)) for j in range(3)]) <= max_distance, 'Max Distance'\n",
        "for i in range(len(location_names)):\n",
        "    prob += pulp.lpSum([x[(i, j)] for j in range(3)]) <= 1, f'Size {i}'\n",
        "\n",
        "# Define the objective function\n",
        "prob += small_cost * pulp.lpSum([x[(i, 0)] for i in range(len(location_names))]) + \\\n",
        "        medium_cost * pulp.lpSum([x[(i, 1)] for i in range(len(location_names))]) + \\\n",
        "        large_cost * pulp.lpSum([x[(i, 2)] for i in range(len(location_names))])\n",
        "\n",
        "# Solve the problem\n",
        "prob.solve()\n",
        "\n",
        "# Store the results\n",
        "optimal_size = [0] * len(location_names)\n",
        "for i, location in enumerate(location_names):\n",
        "    if x[(i, 0)].varValue:\n",
        "        optimal_size[i] = 'Small'\n",
        "    elif x[(i, 1)].varValue:\n",
        "        optimal_size[i] = 'Medium'\n",
        "    elif x[(i, 2)].varValue:\n",
        "        optimal_size[i] = 'Large'\n",
        "\n",
        "# Forecast the new demand\n",
        "new_demand = demand + np.random.randint(-100, 100, size=5)\n",
        "\n",
        "# Evaluate the need for rebalancing\n",
        "rebalance = [0] * len(location_names)\n",
        "for i, location in enumerate(location_names):\n",
        "    if new_demand[i] > demand[i] and optimal_size[i] == 'Small':\n",
        "        rebalance[i] = 'Upgrade to Medium'\n",
        "    elif new_demand[i] > demand[i] and optimal_size[i] == 'Medium':\n",
        "        rebalance[i] = 'Upgrade to Large'\n",
        "    elif new_demand[i] < demand[i] and optimal_size[i] == 'Large':\n",
        "        rebalance[i] = 'Downgrade to Medium'\n",
        "    elif new_demand[i] < demand[i] and optimal_size[i] == 'Medium':\n",
        "        rebalance[i] = 'Downgrade to Small'\n",
        "    else:\n",
        "        rebalance[i] = 'No Change'\n",
        "\n",
        "print('Optimal Station Sizes: ', optimal_size)\n",
        "print('New Demand: ', new_demand)\n",
        "print('Rebalance Recommendations: ', rebalance)"
      ],
      "metadata": {
        "colab": {
          "base_uri": "https://localhost:8080/"
        },
        "id": "Mo9-XRcPOP7Y",
        "outputId": "3e057b1a-6c09-49d0-f1f9-efebaadea305"
      },
      "execution_count": null,
      "outputs": [
        {
          "output_type": "stream",
          "name": "stdout",
          "text": [
            "Optimal Station Sizes:  ['Small', 'Small', 'Small', 'Small', 'Small']\n",
            "New Demand:  [772 773 465 634 749]\n",
            "Rebalance Recommendations:  ['Upgrade to Medium', 'No Change', 'No Change', 'Upgrade to Medium', 'No Change']\n"
          ]
        }
      ]
    }
  ]
}